{
 "cells": [
  {
   "cell_type": "markdown",
   "id": "ac7a959f",
   "metadata": {},
   "source": [
    "# Amex default rate prediction - Kaggle project\n",
    "## Vidya Shalini Bulusu\n",
    "\n",
    "### ABOUT ### \n",
    "My independent study project is about implementing Machine Learning algorithms using Spark-ML and AWS.\n",
    "\n",
    "### OBJECTIVE ### \n",
    "The Objective of this project is to predict the probability that a customer does not pay back their credit card balance amount in the future based on their monthly customer profile.\n",
    "\n",
    "How do we determine default event?\n",
    "- For each customer, we observe 18 months performance window after the latest credit card statement, and if the customer does not pay the due amount in 120 days after their latest statement date it is considered a default event.\n",
    "\n",
    "### MOTIVATION ###\n",
    "- to learn and gain experience working with real-life implementation of the skills learnt in the Big Data class, using Spark-ML.\n",
    "\n"
   ]
  },
  {
   "cell_type": "code",
   "execution_count": 2,
   "id": "1a5598df",
   "metadata": {},
   "outputs": [
    {
     "data": {
      "application/vnd.jupyter.widget-view+json": {
       "model_id": "b1b267eeda284ff09dd0da560c17ffd7",
       "version_major": 2,
       "version_minor": 0
      },
      "text/plain": [
       "VBox()"
      ]
     },
     "metadata": {},
     "output_type": "display_data"
    },
    {
     "data": {
      "application/vnd.jupyter.widget-view+json": {
       "model_id": "",
       "version_major": 2,
       "version_minor": 0
      },
      "text/plain": [
       "FloatProgress(value=0.0, bar_style='info', description='Progress:', layout=Layout(height='25px', width='50%'),…"
      ]
     },
     "metadata": {},
     "output_type": "display_data"
    }
   ],
   "source": [
    "#  # sc.list_packages()\n",
    "# sc.install_pypi_package(\"Cython\")\n",
    "# sc.install_pypi_package(\"pandas==0.25.1\")\n",
    "\n",
    "#  # Install matplotlib from given PyPI repository\n",
    "# sc.install_pypi_package(\"matplotlib==3.1.1\", \"https://pypi.org/simple\") \n"
   ]
  },
  {
   "cell_type": "code",
   "execution_count": 3,
   "id": "95b885d5",
   "metadata": {},
   "outputs": [
    {
     "data": {
      "application/vnd.jupyter.widget-view+json": {
       "model_id": "fc17a8bf8ad241179bfef4da8d74e69f",
       "version_major": 2,
       "version_minor": 0
      },
      "text/plain": [
       "VBox()"
      ]
     },
     "metadata": {},
     "output_type": "display_data"
    },
    {
     "data": {
      "application/vnd.jupyter.widget-view+json": {
       "model_id": "",
       "version_major": 2,
       "version_minor": 0
      },
      "text/plain": [
       "FloatProgress(value=0.0, bar_style='info', description='Progress:', layout=Layout(height='25px', width='50%'),…"
      ]
     },
     "metadata": {},
     "output_type": "display_data"
    }
   ],
   "source": [
    "import pyspark\n",
    "import numpy as np\n",
    "import pandas as pd\n",
    "import matplotlib.pyplot as plt\n",
    "from pyspark.ml.linalg import Vectors\n",
    "from pyspark.ml.stat import Correlation, Summarizer\n",
    "from pyspark.sql import SparkSession\n",
    "from pyspark.ml.feature import VectorAssembler, Imputer, StringIndexer, StandardScaler, PCA\n",
    "from pyspark.sql.functions import col, isnan, when, count\n",
    "from pyspark.ml import Pipeline\n",
    "from pyspark.ml.classification import LogisticRegression"
   ]
  },
  {
   "cell_type": "markdown",
   "id": "b0198917",
   "metadata": {},
   "source": [
    "### Suppress warnings"
   ]
  },
  {
   "cell_type": "code",
   "execution_count": 4,
   "id": "5cd50b9a",
   "metadata": {},
   "outputs": [
    {
     "data": {
      "application/vnd.jupyter.widget-view+json": {
       "model_id": "775eb2d2defc43988b42f5a3affbda36",
       "version_major": 2,
       "version_minor": 0
      },
      "text/plain": [
       "VBox()"
      ]
     },
     "metadata": {},
     "output_type": "display_data"
    },
    {
     "data": {
      "application/vnd.jupyter.widget-view+json": {
       "model_id": "",
       "version_major": 2,
       "version_minor": 0
      },
      "text/plain": [
       "FloatProgress(value=0.0, bar_style='info', description='Progress:', layout=Layout(height='25px', width='50%'),…"
      ]
     },
     "metadata": {},
     "output_type": "display_data"
    }
   ],
   "source": [
    "import warnings\n",
    "warnings.filterwarnings('ignore')"
   ]
  },
  {
   "cell_type": "markdown",
   "id": "ec02d2a1",
   "metadata": {},
   "source": [
    "### Get Data and Data Exploration"
   ]
  },
  {
   "cell_type": "code",
   "execution_count": 5,
   "id": "8fed54a0",
   "metadata": {},
   "outputs": [
    {
     "data": {
      "application/vnd.jupyter.widget-view+json": {
       "model_id": "093e717bf770477da2db441a55ea723e",
       "version_major": 2,
       "version_minor": 0
      },
      "text/plain": [
       "VBox()"
      ]
     },
     "metadata": {},
     "output_type": "display_data"
    },
    {
     "data": {
      "application/vnd.jupyter.widget-view+json": {
       "model_id": "",
       "version_major": 2,
       "version_minor": 0
      },
      "text/plain": [
       "FloatProgress(value=0.0, bar_style='info', description='Progress:', layout=Layout(height='25px', width='50%'),…"
      ]
     },
     "metadata": {},
     "output_type": "display_data"
    },
    {
     "name": "stdout",
     "output_type": "stream",
     "text": [
      "-RECORD 0---------------------------\n",
      " customer_ID | 0000099d6bd597052... \n",
      " S_2         | 2017-03-09 00:00:00  \n",
      " P_2         | 0.9384687191272548   \n",
      " D_39        | 0.0017333390041739   \n",
      " B_1         | 0.0087244509498605   \n",
      " B_2         | 1.0068382339663076   \n",
      " R_1         | 0.0092277222786689   \n",
      " S_3         | 0.1240351558143743   \n",
      " D_41        | 0.0087711319938824   \n",
      " B_3         | 0.0047092406313857   \n",
      " D_42        | null                 \n",
      " D_43        | null                 \n",
      " D_44        | 6.30134804911503E-4  \n",
      " B_4         | 0.0809863324662527   \n",
      " D_45        | 0.708906305121159    \n",
      " B_5         | 0.1706002293387026   \n",
      " R_2         | 0.0062040314303209   \n",
      " D_46        | 0.3585865793715965   \n",
      " D_47        | 0.525351040810055    \n",
      " D_48        | 0.255736073902975    \n",
      " D_49        | null                 \n",
      " B_6         | 0.0639022133803909   \n",
      " B_7         | 0.0594157330614109   \n",
      " B_8         | 0.006465576798311    \n",
      " D_50        | 0.1486979558199995   \n",
      " D_51        | 1.3358557940752642   \n",
      " B_9         | 0.0082067391252636   \n",
      " R_3         | 0.0014225021561254   \n",
      " D_52        | 0.2073338786110817   \n",
      " P_3         | 0.7364627260945562   \n",
      " B_10        | 0.0962188066642168   \n",
      " D_53        | null                 \n",
      " S_5         | 0.0233811220509184   \n",
      " B_11        | 0.0027680616648439   \n",
      " S_6         | 0.0083216461012018   \n",
      " D_54        | 1.0015189798143298   \n",
      " R_4         | 0.0082984353659013   \n",
      " S_7         | 0.1613448213392926   \n",
      " B_12        | 0.1482660660500143   \n",
      " S_8         | 0.9229980580065352   \n",
      " D_55        | 0.3545960121121521   \n",
      " D_56        | 0.1520252359421985   \n",
      " B_13        | 0.1180751287426555   \n",
      " R_5         | 0.0018817935511477   \n",
      " D_58        | 0.1586119472568195   \n",
      " S_9         | 0.0657283519446441   \n",
      " B_14        | 0.0183846187932046   \n",
      " D_59        | 0.0636464650207709   \n",
      " D_60        | 0.1996170060523628   \n",
      " D_61        | 0.3082332671932175   \n",
      " B_15        | 0.0163605749523169   \n",
      " S_11        | 0.4016185802789523   \n",
      " D_62        | 0.0910710227007408   \n",
      " D_63        | CR                   \n",
      " D_64        | O                    \n",
      " D_65        | 0.0071261626629251   \n",
      " B_16        | 0.0076652663969786   \n",
      " B_17        | null                 \n",
      " B_18        | 0.6529844592667966   \n",
      " B_19        | 0.0085204395338161   \n",
      " D_66        | null                 \n",
      " B_20        | 0.0047298254668822   \n",
      " D_68        | 6.0                  \n",
      " S_12        | 0.2720075971997457   \n",
      " R_6         | 0.0083625394520617   \n",
      " S_13        | 0.5152220997956324   \n",
      " B_21        | 0.0026440261651032   \n",
      " D_69        | 0.0090132990688123   \n",
      " B_22        | 0.0048075108615107   \n",
      " D_70        | 0.0083417214056279   \n",
      " D_71        | 0.1194032063292035   \n",
      " D_72        | 0.0048019001810845   \n",
      " S_15        | 0.1082711171267683   \n",
      " B_23        | 0.0508818502912816   \n",
      " D_73        | null                 \n",
      " P_4         | 0.0075544326681996   \n",
      " D_74        | 0.080421566162112    \n",
      " D_75        | 0.0690667888767042   \n",
      " D_76        | null                 \n",
      " B_24        | 0.0043267862651661   \n",
      " R_7         | 0.0075624451853513   \n",
      " D_77        | null                 \n",
      " B_25        | 0.0077286495261238   \n",
      " B_26        | 2.718279749827545... \n",
      " D_78        | 0.0015757362087887   \n",
      " D_79        | 0.0042393583697225   \n",
      " R_8         | 0.0014339887242707   \n",
      " R_9         | null                 \n",
      " S_16        | 0.0022709373260069   \n",
      " D_80        | 0.0040605235125132   \n",
      " R_10        | 0.0071210854061951   \n",
      " R_11        | 0.002456064794035    \n",
      " B_27        | 0.0023102973905819   \n",
      " D_81        | 0.0035319799108632   \n",
      " D_82        | 0.5066123435845971   \n",
      " S_17        | 0.0080330227771146   \n",
      " R_12        | 1.009824656823971    \n",
      " B_28        | 0.0846826103877939   \n",
      " R_13        | 0.0038199826554652   \n",
      " D_83        | 0.0070426005114811   \n",
      " R_14        | 4.379553773685318... \n",
      " R_15        | 0.0064516292630606   \n",
      " D_84        | 8.295199607458126E-4 \n",
      " R_16        | 0.0050548740773288   \n",
      " B_29        | null                 \n",
      " B_30        | 0.0                  \n",
      " S_18        | 0.0057204248912407   \n",
      " D_86        | 0.0070844713819911   \n",
      " D_87        | null                 \n",
      " R_17        | 1.983075573362836E-4 \n",
      " R_18        | 0.0089074082880877   \n",
      " D_88        | null                 \n",
      " B_31        | 1                    \n",
      " S_19        | 0.0025372094454532   \n",
      " R_19        | 0.0051773628715763   \n",
      " B_32        | 0.0066261799942368   \n",
      " S_20        | 0.0097051381766323   \n",
      " R_20        | 0.0077815946151323   \n",
      " R_21        | 0.0024499555060629   \n",
      " B_33        | 1.001101015728843    \n",
      " D_89        | 0.0026653338683884   \n",
      " R_22        | 0.0074787553627031   \n",
      " R_23        | 0.0068928102215877   \n",
      " D_91        | 1.5036730085591934   \n",
      " D_92        | 1.0061334814309375   \n",
      " D_93        | 0.0035685409054337   \n",
      " D_94        | 0.0088705929060406   \n",
      " R_24        | 0.0039497309957728   \n",
      " R_25        | 0.0036471404974304   \n",
      " D_96        | 0.0049500294348479   \n",
      " S_22        | 0.894089695605709    \n",
      " S_23        | 0.1355608144319887   \n",
      " S_24        | 0.911191467097734    \n",
      " S_25        | 0.9745386181290052   \n",
      " S_26        | 0.0012434034603863   \n",
      " D_102       | 0.766688198411884    \n",
      " D_103       | 1.0086908650957052   \n",
      " D_104       | 1.0045868810535166   \n",
      " D_105       | 0.8937341348828729   \n",
      " D_106       | null                 \n",
      " D_107       | 0.6700407818908409   \n",
      " B_36        | 0.0099684820571253   \n",
      " B_37        | 0.0045716082173905   \n",
      " R_26        | null                 \n",
      " R_27        | 1.0089487592265078   \n",
      " B_38        | 2.0                  \n",
      " D_108       | null                 \n",
      " D_109       | 0.0043255295479554   \n",
      " D_110       | null                 \n",
      " D_111       | null                 \n",
      " B_39        | null                 \n",
      " D_112       | 1.0073363113714342   \n",
      " B_40        | 0.2100604304228718   \n",
      " S_27        | 0.6769221837463869   \n",
      " D_113       | 0.0078711392893406   \n",
      " D_114       | 1.0                  \n",
      " D_115       | 0.2382502144880312   \n",
      " D_116       | 0.0                  \n",
      " D_117       | 4.0                  \n",
      " D_118       | 0.232119945685299    \n",
      " D_119       | 0.236265664141208    \n",
      " D_120       | 0.0                  \n",
      " D_121       | 0.7022801580459578   \n",
      " D_122       | 0.4343448084924443   \n",
      " D_123       | 0.0030567005507437   \n",
      " D_124       | 0.68651647907618     \n",
      " D_125       | 0.0087397192234583   \n",
      " D_126       | 1.0                  \n",
      " D_127       | 1.0033190016918123   \n",
      " D_128       | 1.007818575883756    \n",
      " D_129       | 1.0000799619453766   \n",
      " B_41        | 0.0068049737160723   \n",
      " B_42        | null                 \n",
      " D_130       | 0.0020516861203601   \n",
      " D_131       | 0.0059718815442907   \n",
      " D_132       | null                 \n",
      " D_133       | 0.0043450594318488   \n",
      " R_28        | 0.0015347274225173   \n",
      " D_134       | null                 \n",
      " D_135       | null                 \n",
      " D_136       | null                 \n",
      " D_137       | null                 \n",
      " D_138       | null                 \n",
      " D_139       | 0.0024270377979392   \n",
      " D_140       | 0.0037062723407666   \n",
      " D_141       | 0.0038178202065345   \n",
      " D_142       | null                 \n",
      " D_143       | 5.692395607335698E-4 \n",
      " D_144       | 6.098370703087375E-4 \n",
      " D_145       | 0.0026742140504133   \n",
      "only showing top 1 row"
     ]
    }
   ],
   "source": [
    "# path = 'Sample_data.csv' \n",
    "# path = \"s3://amexdefaultpredictionbucket/data/sample.csv\"\n",
    "path = \"s3://amexdefaultpredictionbucket/data/train_data.csv\" # Big dataset 15+GB\n",
    "data = spark.read.csv(path, header=True, inferSchema='true')\n",
    "\n",
    "# for long rows, set vertical=True \n",
    "data.show(1, vertical=True)"
   ]
  },
  {
   "cell_type": "markdown",
   "id": "f61b9572",
   "metadata": {},
   "source": [
    "#### Load the test dataset"
   ]
  },
  {
   "cell_type": "code",
   "execution_count": 6,
   "id": "e6807137",
   "metadata": {},
   "outputs": [
    {
     "data": {
      "application/vnd.jupyter.widget-view+json": {
       "model_id": "aac910c0741a4090b4eb31302d3cb768",
       "version_major": 2,
       "version_minor": 0
      },
      "text/plain": [
       "VBox()"
      ]
     },
     "metadata": {},
     "output_type": "display_data"
    },
    {
     "data": {
      "application/vnd.jupyter.widget-view+json": {
       "model_id": "",
       "version_major": 2,
       "version_minor": 0
      },
      "text/plain": [
       "FloatProgress(value=0.0, bar_style='info', description='Progress:', layout=Layout(height='25px', width='50%'),…"
      ]
     },
     "metadata": {},
     "output_type": "display_data"
    },
    {
     "name": "stdout",
     "output_type": "stream",
     "text": [
      "[Row(customer_ID='00000469ba478561f23a92a868bd366de6f6527a684c9a2e78fb826dcac3b9b7', S_2=datetime.datetime(2019, 2, 19, 0, 0), P_2=0.631315348870127, D_39=0.0019117764764965, B_1=0.0107280865415314, B_2=0.8144968588558597, R_1=0.0075468996994418, S_3=0.1686508406762685, D_41=0.0099714525530773, B_3=0.0023469930565875, D_42=0.1131888918343083, D_43=None, D_44=0.0075839407750031, B_4=0.1164022289247906, D_45=0.0044825219725134, B_5=0.0095167747593996, R_2=0.0051778780931715, D_46=None, D_47=0.4743833427304856, D_48=0.626466914148911, D_49=None, B_6=0.1745910796093573, B_7=1.2506765348178908, B_8=1.003925464255982, D_50=None, D_51=0.0087178835533091, B_9=0.0010129373793993, R_3=0.1035897430477255, D_52=0.119043469590424, P_3=None, B_10=-0.0029186420127821, D_53=None, S_5=0.0027711123379222, B_11=0.004416113504079, S_6=1.006874529728068, D_54=1.00506876306948, R_4=0.0028096914463902, S_7=0.1055866024109917, B_12=0.1191980794718266, S_8=0.3216764047819389, D_55=0.114563534989097, D_56=None, B_13=None, R_5=0.0034196325972029, D_58=0.2058978062413211, S_9=None, B_14=0.0101821949992621, D_59=None, D_60=0.0274716204903652, D_61=0.588733676107752, B_15=0.0104885773809582, S_11=1.8818559285777217, D_62=0.0518109698276886, D_63='CR', D_64=None, D_65=0.0082942042300472, B_16=0.0086633901552287, B_17=None, B_18=0.5921032444767333, B_19=0.0091442201842515, D_66=None, B_20=0.0049855613006686, D_68=None, S_12=0.1905157519361465, R_6=0.0026754835499191, S_13=0.4094107748249437, B_21=0.0099904625374611, D_69=None, B_22=0.0052103932992153, D_70=None, D_71=0.014684133397169, D_72=0.0043102368654459, S_15=0.4006020403764978, B_23=1.134791884347522, D_73=0.1788623575629339, P_4=0.9595310811409858, D_74=0.2176940446257559, D_75=0.204589954105911, D_76=None, B_24=0.0097985116935037, R_7=0.0077483237228153, D_77=0.0029161078676739, B_25=0.0068955814765111, B_26=0.0016564517629348, D_78=0.0043556636859908, D_79=None, R_8=0.002008246572985, R_9=None, S_16=0.0025310279371157, D_80=0.00034759165029772497, R_10=0.0011726652183253, R_11=0.004170107247771, B_27=0.0045846575906647, D_81=0.002290601776514, D_82=0.5082396428902732, S_17=0.0050932090626759, R_12=1.0029436028282448, B_28=0.1338039355297952, R_13=0.0043219231982758, D_83=None, R_14=0.0088572607951145, R_15=0.004144092496696, D_84=0.0095631459861687, R_16=0.0069424109292112, B_29=None, B_30=0.0, S_18=0.0036835411645905, D_86=0.0099089635544764, D_87=None, R_17=0.0089076724844124, R_18=0.0029553880220606, D_88=None, B_31=1, S_19=0.0089993509524004, R_19=0.003417596496717, B_32=0.0022003819358453, S_20=0.0037809353189382, R_20=0.0029478228701652, R_21=0.0046346559420196, B_33=1.0038096815327509, D_89=0.0066533110279837, R_22=0.0074740705932512, R_23=0.0001915589277688601, D_91=None, D_92=0.0087611760936087, D_93=0.0008345857561396319, D_94=0.004388830987005, R_24=0.0041147382330872, R_25=0.0084419966462385, D_96=0.0095746123427522, S_22=0.9810776445601156, S_23=0.1349155480143613, S_24=0.9546644073632652, S_25=0.9710862619522238, S_26=0.0065621798049756, D_102=0.0024186148494916, D_103=None, D_104=None, D_105=None, D_106=None, D_107=None, B_36=0.0081455220137746, B_37=0.0079695635703971, R_26=None, R_27=None, B_38=1.0, D_108=None, D_109=0.0051237751317508, D_110=None, D_111=None, B_39=None, D_112=1.0041298744213385, B_40=0.27420255070435, S_27=0.0043015502682638, D_113=None, D_114=None, D_115=None, D_116=None, D_117=None, D_118=None, D_119=None, D_120=None, D_121=None, D_122=None, D_123=None, D_124=None, D_125=None, D_126=0.0, D_127=0.0062014636590596, D_128=None, D_129=None, B_41=0.0096643872850681, B_42=None, D_130=None, D_131=None, D_132=None, D_133=0.00708154839375, R_28=0.0059574614435868, D_134=None, D_135=None, D_136=None, D_137=None, D_138=None, D_139=None, D_140=0.0046687390870528, D_141=None, D_142=None, D_143=None, D_144=0.0082807231606915, D_145=None)]"
     ]
    }
   ],
   "source": [
    "final_test = spark.read.csv(\"s3://amexdefaultpredictionbucket/data/test_data.csv\", \n",
    "                            header=True, inferSchema='true')\n",
    "final_test.head(1)"
   ]
  },
  {
   "cell_type": "code",
   "execution_count": 7,
   "id": "70b200af",
   "metadata": {
    "scrolled": true
   },
   "outputs": [
    {
     "data": {
      "application/vnd.jupyter.widget-view+json": {
       "model_id": "09639560498a45e5ac896fc19da35ed1",
       "version_major": 2,
       "version_minor": 0
      },
      "text/plain": [
       "VBox()"
      ]
     },
     "metadata": {},
     "output_type": "display_data"
    },
    {
     "data": {
      "application/vnd.jupyter.widget-view+json": {
       "model_id": "",
       "version_major": 2,
       "version_minor": 0
      },
      "text/plain": [
       "FloatProgress(value=0.0, bar_style='info', description='Progress:', layout=Layout(height='25px', width='50%'),…"
      ]
     },
     "metadata": {},
     "output_type": "display_data"
    },
    {
     "name": "stdout",
     "output_type": "stream",
     "text": [
      "190"
     ]
    }
   ],
   "source": [
    "len(final_test.columns)"
   ]
  },
  {
   "cell_type": "code",
   "execution_count": 8,
   "id": "f96e0cde",
   "metadata": {},
   "outputs": [
    {
     "data": {
      "application/vnd.jupyter.widget-view+json": {
       "model_id": "8910955098894079b751dda86f9b94e1",
       "version_major": 2,
       "version_minor": 0
      },
      "text/plain": [
       "VBox()"
      ]
     },
     "metadata": {},
     "output_type": "display_data"
    },
    {
     "data": {
      "application/vnd.jupyter.widget-view+json": {
       "model_id": "",
       "version_major": 2,
       "version_minor": 0
      },
      "text/plain": [
       "FloatProgress(value=0.0, bar_style='info', description='Progress:', layout=Layout(height='25px', width='50%'),…"
      ]
     },
     "metadata": {},
     "output_type": "display_data"
    },
    {
     "name": "stdout",
     "output_type": "stream",
     "text": [
      "False"
     ]
    }
   ],
   "source": [
    "'c_0' in data.columns"
   ]
  },
  {
   "cell_type": "code",
   "execution_count": 9,
   "id": "380d90ca",
   "metadata": {},
   "outputs": [
    {
     "data": {
      "application/vnd.jupyter.widget-view+json": {
       "model_id": "e20d4657363d47d3a1eb1c7bb977c629",
       "version_major": 2,
       "version_minor": 0
      },
      "text/plain": [
       "VBox()"
      ]
     },
     "metadata": {},
     "output_type": "display_data"
    },
    {
     "data": {
      "application/vnd.jupyter.widget-view+json": {
       "model_id": "",
       "version_major": 2,
       "version_minor": 0
      },
      "text/plain": [
       "FloatProgress(value=0.0, bar_style='info', description='Progress:', layout=Layout(height='25px', width='50%'),…"
      ]
     },
     "metadata": {},
     "output_type": "display_data"
    },
    {
     "name": "stdout",
     "output_type": "stream",
     "text": [
      "  summary  ...                 D_145\n",
      "0   count  ...               5429903\n",
      "1    mean  ...   0.06233496140897697\n",
      "2  stddev  ...   0.19349367960733202\n",
      "3     min  ...  1.226024014533422E-9\n",
      "4     max  ...      4.82762988488277\n",
      "\n",
      "[5 rows x 190 columns]"
     ]
    }
   ],
   "source": [
    "pandas_description = data.describe().toPandas()\n",
    "pandas_description"
   ]
  },
  {
   "cell_type": "markdown",
   "id": "0d61a54f",
   "metadata": {},
   "source": [
    "#### These columns are categorical variables\n",
    "\n",
    "Spark-dataFrames does not have value_counts method to look at the different values of the categorical variable."
   ]
  },
  {
   "cell_type": "code",
   "execution_count": 10,
   "id": "90f6f1c4",
   "metadata": {},
   "outputs": [
    {
     "data": {
      "application/vnd.jupyter.widget-view+json": {
       "model_id": "62ba22a02eb242d99deef15d71fbc3a2",
       "version_major": 2,
       "version_minor": 0
      },
      "text/plain": [
       "VBox()"
      ]
     },
     "metadata": {},
     "output_type": "display_data"
    },
    {
     "data": {
      "application/vnd.jupyter.widget-view+json": {
       "model_id": "",
       "version_major": 2,
       "version_minor": 0
      },
      "text/plain": [
       "FloatProgress(value=0.0, bar_style='info', description='Progress:', layout=Layout(height='25px', width='50%'),…"
      ]
     },
     "metadata": {},
     "output_type": "display_data"
    },
    {
     "name": "stdout",
     "output_type": "stream",
     "text": [
      "             0                     1                    2     3    4\n",
      "B_30   5529435   0.15798883611074188   0.3909676887340086   0.0  2.0\n",
      "B_38   5529435    2.7167043287424484   1.5813224702692543   1.0  7.0\n",
      "D_114  5354735    0.6193542724336498   0.4855456741431727   0.0  1.0\n",
      "D_116  5354735  0.001237409507660043  0.03515506444555979   0.0  1.0\n",
      "D_117  5354735     2.319056498594235   2.2887299150170524  -1.0  6.0\n",
      "D_120  5354735   0.11672136903133395  0.32108801020328914   0.0  1.0\n",
      "D_126  5414635    0.7390186042087786   0.5378083997080243  -1.0  1.0\n",
      "D_63   5531451                  None                 None    CL   XZ\n",
      "D_64   5314009                  -1.0                  0.0    -1    U\n",
      "D_66    623354    0.9899126339126724  0.09992810991877812   0.0  1.0\n",
      "D_68   5314948     5.012029844882772     1.35133908848903   0.0  6.0"
     ]
    }
   ],
   "source": [
    "categorical_variables = ['B_30', 'B_38', 'D_114', 'D_116', 'D_117', 'D_120', 'D_126', 'D_63', 'D_64', 'D_66', 'D_68']\n",
    "pandas_description[categorical_variables].T"
   ]
  },
  {
   "cell_type": "markdown",
   "id": "378e2279",
   "metadata": {},
   "source": [
    "#### Description\n",
    "- Column S_2 is timestamp values and has dates.\n",
    "- Column customer_ID stores the IDs of each customer\n"
   ]
  },
  {
   "cell_type": "markdown",
   "id": "994c346e",
   "metadata": {},
   "source": [
    "Transform 'D_63' and 'D_64' columns from string to int using StringIndexer and Rename new column to old"
   ]
  },
  {
   "cell_type": "code",
   "execution_count": 11,
   "id": "015adba4",
   "metadata": {},
   "outputs": [
    {
     "data": {
      "application/vnd.jupyter.widget-view+json": {
       "model_id": "10f951189e3f41d097e09c606340e2a4",
       "version_major": 2,
       "version_minor": 0
      },
      "text/plain": [
       "VBox()"
      ]
     },
     "metadata": {},
     "output_type": "display_data"
    },
    {
     "data": {
      "application/vnd.jupyter.widget-view+json": {
       "model_id": "",
       "version_major": 2,
       "version_minor": 0
      },
      "text/plain": [
       "FloatProgress(value=0.0, bar_style='info', description='Progress:', layout=Layout(height='25px', width='50%'),…"
      ]
     },
     "metadata": {},
     "output_type": "display_data"
    },
    {
     "name": "stdout",
     "output_type": "stream",
     "text": [
      "+----+\n",
      "|D_63|\n",
      "+----+\n",
      "|  XL|\n",
      "|  CL|\n",
      "|  XZ|\n",
      "|  XM|\n",
      "|  CO|\n",
      "|  CR|\n",
      "+----+"
     ]
    }
   ],
   "source": [
    "data.select('D_63').distinct().show()"
   ]
  },
  {
   "cell_type": "code",
   "execution_count": 25,
   "id": "a8dacd23",
   "metadata": {},
   "outputs": [
    {
     "data": {
      "application/vnd.jupyter.widget-view+json": {
       "model_id": "e846f1c8217345ef82204a75dfc2a530",
       "version_major": 2,
       "version_minor": 0
      },
      "text/plain": [
       "VBox()"
      ]
     },
     "metadata": {},
     "output_type": "display_data"
    },
    {
     "data": {
      "application/vnd.jupyter.widget-view+json": {
       "model_id": "",
       "version_major": 2,
       "version_minor": 0
      },
      "text/plain": [
       "FloatProgress(value=0.0, bar_style='info', description='Progress:', layout=Layout(height='25px', width='50%'),…"
      ]
     },
     "metadata": {},
     "output_type": "display_data"
    },
    {
     "name": "stdout",
     "output_type": "stream",
     "text": [
      "Row(customer_ID='0000099d6bd597052cdcda90ffabf56573fe9d7c79be5fbac11a8ed792feb62a', S_2=datetime.datetime(2017, 3, 9, 0, 0), P_2=0.9384687191272548, D_39=0.0017333390041739, B_1=0.0087244509498605, B_2=1.0068382339663076, R_1=0.0092277222786689, S_3=0.1240351558143743, D_41=0.0087711319938824, B_3=0.0047092406313857, D_42=None, D_43=None, D_44=0.000630134804911503, B_4=0.0809863324662527, D_45=0.708906305121159, B_5=0.1706002293387026, R_2=0.0062040314303209, D_46=0.3585865793715965, D_47=0.525351040810055, D_48=0.255736073902975, D_49=None, B_6=0.0639022133803909, B_7=0.0594157330614109, B_8=0.006465576798311, D_50=0.1486979558199995, D_51=1.3358557940752642, B_9=0.0082067391252636, R_3=0.0014225021561254, D_52=0.2073338786110817, P_3=0.7364627260945562, B_10=0.0962188066642168, D_53=None, S_5=0.0233811220509184, B_11=0.0027680616648439, S_6=0.0083216461012018, D_54=1.0015189798143298, R_4=0.0082984353659013, S_7=0.1613448213392926, B_12=0.1482660660500143, S_8=0.9229980580065352, D_55=0.3545960121121521, D_56=0.1520252359421985, B_13=0.1180751287426555, R_5=0.0018817935511477, D_58=0.1586119472568195, S_9=0.0657283519446441, B_14=0.0183846187932046, D_59=0.0636464650207709, D_60=0.1996170060523628, D_61=0.3082332671932175, B_15=0.0163605749523169, S_11=0.4016185802789523, D_62=0.0910710227007408, D_64='O', D_65=0.0071261626629251, B_16=0.0076652663969786, B_17=None, B_18=0.6529844592667966, B_19=0.0085204395338161, D_66=None, B_20=0.0047298254668822, D_68=6.0, S_12=0.2720075971997457, R_6=0.0083625394520617, S_13=0.5152220997956324, B_21=0.0026440261651032, D_69=0.0090132990688123, B_22=0.0048075108615107, D_70=0.0083417214056279, D_71=0.1194032063292035, D_72=0.0048019001810845, S_15=0.1082711171267683, B_23=0.0508818502912816, D_73=None, P_4=0.0075544326681996, D_74=0.080421566162112, D_75=0.0690667888767042, D_76=None, B_24=0.0043267862651661, R_7=0.0075624451853513, D_77=None, B_25=0.0077286495261238, B_26=0.00027182797498275456, D_78=0.0015757362087887, D_79=0.0042393583697225, R_8=0.0014339887242707, R_9=None, S_16=0.0022709373260069, D_80=0.0040605235125132, R_10=0.0071210854061951, R_11=0.002456064794035, B_27=0.0023102973905819, D_81=0.0035319799108632, D_82=0.5066123435845971, S_17=0.0080330227771146, R_12=1.009824656823971, B_28=0.0846826103877939, R_13=0.0038199826554652, D_83=0.0070426005114811, R_14=0.00043795537736853184, R_15=0.0064516292630606, D_84=0.0008295199607458126, R_16=0.0050548740773288, B_29=None, B_30=0.0, S_18=0.0057204248912407, D_86=0.0070844713819911, D_87=None, R_17=0.0001983075573362836, R_18=0.0089074082880877, D_88=None, B_31=1, S_19=0.0025372094454532, R_19=0.0051773628715763, B_32=0.0066261799942368, S_20=0.0097051381766323, R_20=0.0077815946151323, R_21=0.0024499555060629, B_33=1.001101015728843, D_89=0.0026653338683884, R_22=0.0074787553627031, R_23=0.0068928102215877, D_91=1.5036730085591934, D_92=1.0061334814309375, D_93=0.0035685409054337, D_94=0.0088705929060406, R_24=0.0039497309957728, R_25=0.0036471404974304, D_96=0.0049500294348479, S_22=0.894089695605709, S_23=0.1355608144319887, S_24=0.911191467097734, S_25=0.9745386181290052, S_26=0.0012434034603863, D_102=0.766688198411884, D_103=1.0086908650957052, D_104=1.0045868810535166, D_105=0.8937341348828729, D_106=None, D_107=0.6700407818908409, B_36=0.0099684820571253, B_37=0.0045716082173905, R_26=None, R_27=1.0089487592265078, B_38=2.0, D_108=None, D_109=0.0043255295479554, D_110=None, D_111=None, B_39=None, D_112=1.0073363113714342, B_40=0.2100604304228718, S_27=0.6769221837463869, D_113=0.0078711392893406, D_114=1.0, D_115=0.2382502144880312, D_116=0.0, D_117=4.0, D_118=0.232119945685299, D_119=0.236265664141208, D_120=0.0, D_121=0.7022801580459578, D_122=0.4343448084924443, D_123=0.0030567005507437, D_124=0.68651647907618, D_125=0.0087397192234583, D_126=1.0, D_127=1.0033190016918123, D_128=1.007818575883756, D_129=1.0000799619453766, B_41=0.0068049737160723, B_42=None, D_130=0.0020516861203601, D_131=0.0059718815442907, D_132=None, D_133=0.0043450594318488, R_28=0.0015347274225173, D_134=None, D_135=None, D_136=None, D_137=None, D_138=None, D_139=0.0024270377979392, D_140=0.0037062723407666, D_141=0.0038178202065345, D_142=None, D_143=0.0005692395607335698, D_144=0.0006098370703087375, D_145=0.0026742140504133, D_63=1.0)"
     ]
    }
   ],
   "source": [
    "indexer = StringIndexer(inputCol=\"D_63\", outputCol=\"D_63_new\")\n",
    "D_63_indexed_Model = indexer.fit(data)\n",
    "indexed = D_63_indexed_Model.transform(data)\n",
    "\n",
    "data_indexed = indexed.drop('D_63')\n",
    "data_indexed = data_indexed.withColumnRenamed('D_63_new', 'D_63')\n",
    "data_indexed.head()"
   ]
  },
  {
   "cell_type": "code",
   "execution_count": 26,
   "id": "91a2ca9b",
   "metadata": {},
   "outputs": [
    {
     "data": {
      "application/vnd.jupyter.widget-view+json": {
       "model_id": "132ddfb358d94c64965ae722957401ff",
       "version_major": 2,
       "version_minor": 0
      },
      "text/plain": [
       "VBox()"
      ]
     },
     "metadata": {},
     "output_type": "display_data"
    },
    {
     "data": {
      "application/vnd.jupyter.widget-view+json": {
       "model_id": "",
       "version_major": 2,
       "version_minor": 0
      },
      "text/plain": [
       "FloatProgress(value=0.0, bar_style='info', description='Progress:', layout=Layout(height='25px', width='50%'),…"
      ]
     },
     "metadata": {},
     "output_type": "display_data"
    },
    {
     "name": "stdout",
     "output_type": "stream",
     "text": [
      "+----+\n",
      "|D_63|\n",
      "+----+\n",
      "|  XL|\n",
      "|  CL|\n",
      "|  XZ|\n",
      "|  XM|\n",
      "|  CO|\n",
      "|  CR|\n",
      "+----+"
     ]
    }
   ],
   "source": [
    "indexed.select('D_63').distinct().show()"
   ]
  },
  {
   "cell_type": "code",
   "execution_count": 27,
   "id": "aa4884d9",
   "metadata": {},
   "outputs": [
    {
     "data": {
      "application/vnd.jupyter.widget-view+json": {
       "model_id": "75e71c07b44a405d9244f31584477301",
       "version_major": 2,
       "version_minor": 0
      },
      "text/plain": [
       "VBox()"
      ]
     },
     "metadata": {},
     "output_type": "display_data"
    },
    {
     "data": {
      "application/vnd.jupyter.widget-view+json": {
       "model_id": "",
       "version_major": 2,
       "version_minor": 0
      },
      "text/plain": [
       "FloatProgress(value=0.0, bar_style='info', description='Progress:', layout=Layout(height='25px', width='50%'),…"
      ]
     },
     "metadata": {},
     "output_type": "display_data"
    },
    {
     "name": "stdout",
     "output_type": "stream",
     "text": [
      "Row(customer_ID='00000469ba478561f23a92a868bd366de6f6527a684c9a2e78fb826dcac3b9b7', S_2=datetime.datetime(2019, 2, 19, 0, 0), P_2=0.631315348870127, D_39=0.0019117764764965, B_1=0.0107280865415314, B_2=0.8144968588558597, R_1=0.0075468996994418, S_3=0.1686508406762685, D_41=0.0099714525530773, B_3=0.0023469930565875, D_42=0.1131888918343083, D_43=None, D_44=0.0075839407750031, B_4=0.1164022289247906, D_45=0.0044825219725134, B_5=0.0095167747593996, R_2=0.0051778780931715, D_46=None, D_47=0.4743833427304856, D_48=0.626466914148911, D_49=None, B_6=0.1745910796093573, B_7=1.2506765348178908, B_8=1.003925464255982, D_50=None, D_51=0.0087178835533091, B_9=0.0010129373793993, R_3=0.1035897430477255, D_52=0.119043469590424, P_3=None, B_10=-0.0029186420127821, D_53=None, S_5=0.0027711123379222, B_11=0.004416113504079, S_6=1.006874529728068, D_54=1.00506876306948, R_4=0.0028096914463902, S_7=0.1055866024109917, B_12=0.1191980794718266, S_8=0.3216764047819389, D_55=0.114563534989097, D_56=None, B_13=None, R_5=0.0034196325972029, D_58=0.2058978062413211, S_9=None, B_14=0.0101821949992621, D_59=None, D_60=0.0274716204903652, D_61=0.588733676107752, B_15=0.0104885773809582, S_11=1.8818559285777217, D_62=0.0518109698276886, D_64=None, D_65=0.0082942042300472, B_16=0.0086633901552287, B_17=None, B_18=0.5921032444767333, B_19=0.0091442201842515, D_66=None, B_20=0.0049855613006686, D_68=None, S_12=0.1905157519361465, R_6=0.0026754835499191, S_13=0.4094107748249437, B_21=0.0099904625374611, D_69=None, B_22=0.0052103932992153, D_70=None, D_71=0.014684133397169, D_72=0.0043102368654459, S_15=0.4006020403764978, B_23=1.134791884347522, D_73=0.1788623575629339, P_4=0.9595310811409858, D_74=0.2176940446257559, D_75=0.204589954105911, D_76=None, B_24=0.0097985116935037, R_7=0.0077483237228153, D_77=0.0029161078676739, B_25=0.0068955814765111, B_26=0.0016564517629348, D_78=0.0043556636859908, D_79=None, R_8=0.002008246572985, R_9=None, S_16=0.0025310279371157, D_80=0.00034759165029772497, R_10=0.0011726652183253, R_11=0.004170107247771, B_27=0.0045846575906647, D_81=0.002290601776514, D_82=0.5082396428902732, S_17=0.0050932090626759, R_12=1.0029436028282448, B_28=0.1338039355297952, R_13=0.0043219231982758, D_83=None, R_14=0.0088572607951145, R_15=0.004144092496696, D_84=0.0095631459861687, R_16=0.0069424109292112, B_29=None, B_30=0.0, S_18=0.0036835411645905, D_86=0.0099089635544764, D_87=None, R_17=0.0089076724844124, R_18=0.0029553880220606, D_88=None, B_31=1, S_19=0.0089993509524004, R_19=0.003417596496717, B_32=0.0022003819358453, S_20=0.0037809353189382, R_20=0.0029478228701652, R_21=0.0046346559420196, B_33=1.0038096815327509, D_89=0.0066533110279837, R_22=0.0074740705932512, R_23=0.0001915589277688601, D_91=None, D_92=0.0087611760936087, D_93=0.0008345857561396319, D_94=0.004388830987005, R_24=0.0041147382330872, R_25=0.0084419966462385, D_96=0.0095746123427522, S_22=0.9810776445601156, S_23=0.1349155480143613, S_24=0.9546644073632652, S_25=0.9710862619522238, S_26=0.0065621798049756, D_102=0.0024186148494916, D_103=None, D_104=None, D_105=None, D_106=None, D_107=None, B_36=0.0081455220137746, B_37=0.0079695635703971, R_26=None, R_27=None, B_38=1.0, D_108=None, D_109=0.0051237751317508, D_110=None, D_111=None, B_39=None, D_112=1.0041298744213385, B_40=0.27420255070435, S_27=0.0043015502682638, D_113=None, D_114=None, D_115=None, D_116=None, D_117=None, D_118=None, D_119=None, D_120=None, D_121=None, D_122=None, D_123=None, D_124=None, D_125=None, D_126=0.0, D_127=0.0062014636590596, D_128=None, D_129=None, B_41=0.0096643872850681, B_42=None, D_130=None, D_131=None, D_132=None, D_133=0.00708154839375, R_28=0.0059574614435868, D_134=None, D_135=None, D_136=None, D_137=None, D_138=None, D_139=None, D_140=0.0046687390870528, D_141=None, D_142=None, D_143=None, D_144=0.0082807231606915, D_145=None, D_63=1.0)"
     ]
    }
   ],
   "source": [
    "indexed_test = D_63_indexed_Model.transform(final_test)\n",
    "\n",
    "data_indexed_test = indexed_test.drop('D_63')\n",
    "data_indexed_test = data_indexed_test.withColumnRenamed('D_63_new', 'D_63')\n",
    "data_indexed_test.head()"
   ]
  },
  {
   "cell_type": "markdown",
   "id": "97395861",
   "metadata": {},
   "source": [
    "Since we don't know what the values in D_64 represent, lets fillna with -2 to handle the 'null' values without affecting the existing classes."
   ]
  },
  {
   "cell_type": "code",
   "execution_count": 28,
   "id": "312c0587",
   "metadata": {},
   "outputs": [
    {
     "data": {
      "application/vnd.jupyter.widget-view+json": {
       "model_id": "c158a71f32dc4b3b8909c720b3de0d99",
       "version_major": 2,
       "version_minor": 0
      },
      "text/plain": [
       "VBox()"
      ]
     },
     "metadata": {},
     "output_type": "display_data"
    },
    {
     "data": {
      "application/vnd.jupyter.widget-view+json": {
       "model_id": "",
       "version_major": 2,
       "version_minor": 0
      },
      "text/plain": [
       "FloatProgress(value=0.0, bar_style='info', description='Progress:', layout=Layout(height='25px', width='50%'),…"
      ]
     },
     "metadata": {},
     "output_type": "display_data"
    },
    {
     "name": "stdout",
     "output_type": "stream",
     "text": [
      "True"
     ]
    }
   ],
   "source": [
    "'D_64' in data_indexed.columns"
   ]
  },
  {
   "cell_type": "code",
   "execution_count": 29,
   "id": "9fe1d5e8",
   "metadata": {},
   "outputs": [
    {
     "data": {
      "application/vnd.jupyter.widget-view+json": {
       "model_id": "a1eaf80f61834ca0bbf5d8fb254f1e67",
       "version_major": 2,
       "version_minor": 0
      },
      "text/plain": [
       "VBox()"
      ]
     },
     "metadata": {},
     "output_type": "display_data"
    },
    {
     "data": {
      "application/vnd.jupyter.widget-view+json": {
       "model_id": "",
       "version_major": 2,
       "version_minor": 0
      },
      "text/plain": [
       "FloatProgress(value=0.0, bar_style='info', description='Progress:', layout=Layout(height='25px', width='50%'),…"
      ]
     },
     "metadata": {},
     "output_type": "display_data"
    },
    {
     "name": "stdout",
     "output_type": "stream",
     "text": [
      "+----+\n",
      "|D_64|\n",
      "+----+\n",
      "|null|\n",
      "|   U|\n",
      "|   R|\n",
      "|   O|\n",
      "|  -1|\n",
      "+----+"
     ]
    }
   ],
   "source": [
    "data_indexed.select('D_64').distinct().show()"
   ]
  },
  {
   "cell_type": "code",
   "execution_count": 30,
   "id": "60f820a0",
   "metadata": {},
   "outputs": [
    {
     "data": {
      "application/vnd.jupyter.widget-view+json": {
       "model_id": "7ba36190b00a46d4b91d480732f2773d",
       "version_major": 2,
       "version_minor": 0
      },
      "text/plain": [
       "VBox()"
      ]
     },
     "metadata": {},
     "output_type": "display_data"
    },
    {
     "data": {
      "application/vnd.jupyter.widget-view+json": {
       "model_id": "",
       "version_major": 2,
       "version_minor": 0
      },
      "text/plain": [
       "FloatProgress(value=0.0, bar_style='info', description='Progress:', layout=Layout(height='25px', width='50%'),…"
      ]
     },
     "metadata": {},
     "output_type": "display_data"
    },
    {
     "name": "stdout",
     "output_type": "stream",
     "text": [
      "+----+\n",
      "|D_64|\n",
      "+----+\n",
      "|   U|\n",
      "|   R|\n",
      "|  -2|\n",
      "|   O|\n",
      "|  -1|\n",
      "+----+"
     ]
    }
   ],
   "source": [
    "data_indexed = data_indexed.fillna({'D_64':-2})\n",
    "data_indexed.select('D_64').distinct().show()"
   ]
  },
  {
   "cell_type": "code",
   "execution_count": 31,
   "id": "6834dba7",
   "metadata": {},
   "outputs": [
    {
     "data": {
      "application/vnd.jupyter.widget-view+json": {
       "model_id": "c5fe070a46f243c286880d54e20124a2",
       "version_major": 2,
       "version_minor": 0
      },
      "text/plain": [
       "VBox()"
      ]
     },
     "metadata": {},
     "output_type": "display_data"
    },
    {
     "data": {
      "application/vnd.jupyter.widget-view+json": {
       "model_id": "",
       "version_major": 2,
       "version_minor": 0
      },
      "text/plain": [
       "FloatProgress(value=0.0, bar_style='info', description='Progress:', layout=Layout(height='25px', width='50%'),…"
      ]
     },
     "metadata": {},
     "output_type": "display_data"
    },
    {
     "name": "stdout",
     "output_type": "stream",
     "text": [
      "[Row(customer_ID='0000099d6bd597052cdcda90ffabf56573fe9d7c79be5fbac11a8ed792feb62a', S_2=datetime.datetime(2017, 3, 9, 0, 0), P_2=0.9384687191272548, D_39=0.0017333390041739, B_1=0.0087244509498605, B_2=1.0068382339663076, R_1=0.0092277222786689, S_3=0.1240351558143743, D_41=0.0087711319938824, B_3=0.0047092406313857, D_42=None, D_43=None, D_44=0.000630134804911503, B_4=0.0809863324662527, D_45=0.708906305121159, B_5=0.1706002293387026, R_2=0.0062040314303209, D_46=0.3585865793715965, D_47=0.525351040810055, D_48=0.255736073902975, D_49=None, B_6=0.0639022133803909, B_7=0.0594157330614109, B_8=0.006465576798311, D_50=0.1486979558199995, D_51=1.3358557940752642, B_9=0.0082067391252636, R_3=0.0014225021561254, D_52=0.2073338786110817, P_3=0.7364627260945562, B_10=0.0962188066642168, D_53=None, S_5=0.0233811220509184, B_11=0.0027680616648439, S_6=0.0083216461012018, D_54=1.0015189798143298, R_4=0.0082984353659013, S_7=0.1613448213392926, B_12=0.1482660660500143, S_8=0.9229980580065352, D_55=0.3545960121121521, D_56=0.1520252359421985, B_13=0.1180751287426555, R_5=0.0018817935511477, D_58=0.1586119472568195, S_9=0.0657283519446441, B_14=0.0183846187932046, D_59=0.0636464650207709, D_60=0.1996170060523628, D_61=0.3082332671932175, B_15=0.0163605749523169, S_11=0.4016185802789523, D_62=0.0910710227007408, D_65=0.0071261626629251, B_16=0.0076652663969786, B_17=None, B_18=0.6529844592667966, B_19=0.0085204395338161, D_66=None, B_20=0.0047298254668822, D_68=6.0, S_12=0.2720075971997457, R_6=0.0083625394520617, S_13=0.5152220997956324, B_21=0.0026440261651032, D_69=0.0090132990688123, B_22=0.0048075108615107, D_70=0.0083417214056279, D_71=0.1194032063292035, D_72=0.0048019001810845, S_15=0.1082711171267683, B_23=0.0508818502912816, D_73=None, P_4=0.0075544326681996, D_74=0.080421566162112, D_75=0.0690667888767042, D_76=None, B_24=0.0043267862651661, R_7=0.0075624451853513, D_77=None, B_25=0.0077286495261238, B_26=0.00027182797498275456, D_78=0.0015757362087887, D_79=0.0042393583697225, R_8=0.0014339887242707, R_9=None, S_16=0.0022709373260069, D_80=0.0040605235125132, R_10=0.0071210854061951, R_11=0.002456064794035, B_27=0.0023102973905819, D_81=0.0035319799108632, D_82=0.5066123435845971, S_17=0.0080330227771146, R_12=1.009824656823971, B_28=0.0846826103877939, R_13=0.0038199826554652, D_83=0.0070426005114811, R_14=0.00043795537736853184, R_15=0.0064516292630606, D_84=0.0008295199607458126, R_16=0.0050548740773288, B_29=None, B_30=0.0, S_18=0.0057204248912407, D_86=0.0070844713819911, D_87=None, R_17=0.0001983075573362836, R_18=0.0089074082880877, D_88=None, B_31=1, S_19=0.0025372094454532, R_19=0.0051773628715763, B_32=0.0066261799942368, S_20=0.0097051381766323, R_20=0.0077815946151323, R_21=0.0024499555060629, B_33=1.001101015728843, D_89=0.0026653338683884, R_22=0.0074787553627031, R_23=0.0068928102215877, D_91=1.5036730085591934, D_92=1.0061334814309375, D_93=0.0035685409054337, D_94=0.0088705929060406, R_24=0.0039497309957728, R_25=0.0036471404974304, D_96=0.0049500294348479, S_22=0.894089695605709, S_23=0.1355608144319887, S_24=0.911191467097734, S_25=0.9745386181290052, S_26=0.0012434034603863, D_102=0.766688198411884, D_103=1.0086908650957052, D_104=1.0045868810535166, D_105=0.8937341348828729, D_106=None, D_107=0.6700407818908409, B_36=0.0099684820571253, B_37=0.0045716082173905, R_26=None, R_27=1.0089487592265078, B_38=2.0, D_108=None, D_109=0.0043255295479554, D_110=None, D_111=None, B_39=None, D_112=1.0073363113714342, B_40=0.2100604304228718, S_27=0.6769221837463869, D_113=0.0078711392893406, D_114=1.0, D_115=0.2382502144880312, D_116=0.0, D_117=4.0, D_118=0.232119945685299, D_119=0.236265664141208, D_120=0.0, D_121=0.7022801580459578, D_122=0.4343448084924443, D_123=0.0030567005507437, D_124=0.68651647907618, D_125=0.0087397192234583, D_126=1.0, D_127=1.0033190016918123, D_128=1.007818575883756, D_129=1.0000799619453766, B_41=0.0068049737160723, B_42=None, D_130=0.0020516861203601, D_131=0.0059718815442907, D_132=None, D_133=0.0043450594318488, R_28=0.0015347274225173, D_134=None, D_135=None, D_136=None, D_137=None, D_138=None, D_139=0.0024270377979392, D_140=0.0037062723407666, D_141=0.0038178202065345, D_142=None, D_143=0.0005692395607335698, D_144=0.0006098370703087375, D_145=0.0026742140504133, D_63=1.0, D_64=0.0), Row(customer_ID='0000099d6bd597052cdcda90ffabf56573fe9d7c79be5fbac11a8ed792feb62a', S_2=datetime.datetime(2017, 4, 7, 0, 0), P_2=0.9366646050988444, D_39=0.0057754430691282, B_1=0.0049233526310337, B_2=1.0006531959897804, R_1=0.0061513089005826, S_3=0.126749984407325, D_41=0.0007983594950325368, B_3=0.00271357521442, D_42=None, D_43=None, D_44=0.0025262722985727, B_4=0.0694191902513324, D_45=0.7127947253698276, B_5=0.1132386241994063, R_2=0.0062056675505455, D_46=0.35362955018564, D_47=0.5213112572080865, D_48=0.223328868696034, D_49=None, B_6=0.0652610579665619, B_7=0.0577437664347247, B_8=0.0016140100403202, D_50=0.1497225381697136, D_51=1.3397939519002633, B_9=0.0083732399772736, R_3=0.0019844317102694, D_52=0.2027776508714612, P_3=0.7208864251163005, B_10=0.09980397147994, D_53=None, S_5=0.0305985529867176, B_11=0.0027493629604935, S_6=0.0024820657778834, D_54=1.00903338642927, R_4=0.0051361761101383, S_7=0.1409505240583456, B_12=0.1435299034448566, S_8=0.91941367728506, D_55=0.3267569755070362, D_56=0.1562009076504926, B_13=0.1187374846997833, R_5=0.0016099627089068, D_58=0.1484594894825136, S_9=0.0939353797989685, B_14=0.0130348267764933, D_59=0.0655014467923113, D_60=0.1513869942507153, D_61=0.2650259667162577, B_15=0.0176879271475391, S_11=0.4063261950481589, D_62=0.086804806253952, D_65=0.0024132392295972, B_16=0.0071481629971447, B_17=None, B_18=0.6470931188397986, B_19=0.0022377908093277, D_66=None, B_20=0.0038792601718001, D_68=6.0, S_12=0.188969661553206, R_6=0.0040295733305978, S_13=0.509048176950083, B_21=0.0041931178334974, D_69=0.0078423846281866, B_22=0.0012831642549167, D_70=0.0065238095494516, D_71=0.1406107222744684, D_72=9.362862824238816e-05, S_15=0.1010183554793048, B_23=0.040468887560993, D_73=None, P_4=0.0048321739508196, D_74=0.0814131773985764, D_75=0.0741663611948242, D_76=None, B_24=0.0042027572401495, R_7=0.0053035174160201, D_77=None, B_25=0.0018641320957276, B_26=0.000978889423804692, D_78=0.0098958350711074, D_79=0.0075972844584575, R_8=0.0005093159076057808, R_9=None, S_16=0.0098102293921389, D_80=0.00012650944677912391, R_10=0.0059658070991361, R_11=0.0003953905325927498, B_27=0.001326726554301, D_81=0.0077727007757285, D_82=0.5008552680366593, S_17=0.000760441799742897, R_12=1.009461101146406, B_28=0.0818432427851462, R_13=0.0003466250884307576, D_83=0.0077893493218053, R_14=0.0043108847373691, R_15=0.0023324956259801, D_84=0.0094687918334821, R_16=0.0037531909670729, B_29=None, B_30=0.0, S_18=0.0075843411339787, D_86=0.0066773014785965, D_87=None, R_17=0.0011422933789987, R_18=0.0059070092960333, D_88=None, B_31=1, S_19=0.00842719533128, R_19=0.0089791572797159, B_32=0.0018541096424292, S_20=0.0099237818960879, R_20=0.005987438457875, R_21=0.0022468185583941, B_33=1.0067792074457678, D_89=0.0025076898346322, R_22=0.0068272696303746, R_23=0.002837081703293, D_91=1.503577287798595, D_92=1.005791264255708, D_93=0.0005709012210667474, D_94=0.0003907764310686901, R_24=0.0083512926195853, R_25=0.0088499705128094, D_96=0.0031800843577881, S_22=0.9021354315292568, S_23=0.1363325463457688, S_24=0.9198763909178036, S_25=0.9756244895755112, S_26=0.0045613841726178, D_102=0.7860069250249836, D_103=1.0000843809455782, D_104=1.0041180541254393, D_105=0.9068411206859838, D_106=None, D_107=0.6686470309941259, B_36=0.0039209972748469, B_37=0.0046538452791297, R_26=None, R_27=1.0032054264726171, B_38=2.0, D_108=None, D_109=0.0087072101387122, D_110=None, D_111=None, B_39=None, D_112=1.007653237918183, B_40=0.1840927227397026, S_27=0.8222809318522851, D_113=0.0034444037217743, D_114=1.0, D_115=0.2472173247423204, D_116=0.0, D_117=4.0, D_118=0.243531650250564, D_119=0.2418847785115039, D_120=0.0, D_121=0.7070167405788484, D_122=0.4305006778687363, D_123=0.0013058529056339, D_124=0.686414207300581, D_125=0.0007550186621834998, D_126=1.0, D_127=1.0083943571051506, D_128=1.0043330167531577, D_129=1.0083440852188796, B_41=0.0044071615620749, B_42=None, D_130=0.0010335637785626, D_131=0.0048375563132092, D_132=None, D_133=0.0074947809621824, R_28=0.0049313627378137, D_134=None, D_135=None, D_136=None, D_137=None, D_138=None, D_139=0.0039542127072645, D_140=0.0031670909399185, D_141=0.0050316339603931, D_142=None, D_143=0.0095764810309849, D_144=0.005492045139084, D_145=0.0092168275029899, D_63=1.0, D_64=0.0)]"
     ]
    }
   ],
   "source": [
    "indexer = StringIndexer(inputCol=\"D_64\", outputCol=\"D_64_new\")\n",
    "D_64_indexed_Model = indexer.fit(data_indexed)\n",
    "indexed = D_64_indexed_Model.transform(data_indexed)\n",
    "\n",
    "data_indexed = indexed.drop('D_64')\n",
    "data_indexed = data_indexed.withColumnRenamed('D_64_new', 'D_64')\n",
    "data_indexed.head(2)"
   ]
  },
  {
   "cell_type": "code",
   "execution_count": 32,
   "id": "a85e826e",
   "metadata": {},
   "outputs": [
    {
     "data": {
      "application/vnd.jupyter.widget-view+json": {
       "model_id": "a2986dd961a14327acb998a854c89ed1",
       "version_major": 2,
       "version_minor": 0
      },
      "text/plain": [
       "VBox()"
      ]
     },
     "metadata": {},
     "output_type": "display_data"
    },
    {
     "data": {
      "application/vnd.jupyter.widget-view+json": {
       "model_id": "",
       "version_major": 2,
       "version_minor": 0
      },
      "text/plain": [
       "FloatProgress(value=0.0, bar_style='info', description='Progress:', layout=Layout(height='25px', width='50%'),…"
      ]
     },
     "metadata": {},
     "output_type": "display_data"
    },
    {
     "name": "stdout",
     "output_type": "stream",
     "text": [
      "+----+\n",
      "|D_64|\n",
      "+----+\n",
      "|   U|\n",
      "|   R|\n",
      "|  -2|\n",
      "|   O|\n",
      "+----+"
     ]
    }
   ],
   "source": [
    "data_indexed_test = data_indexed_test.fillna({'D_64':-2})\n",
    "data_indexed_test.select('D_64').distinct().show()"
   ]
  },
  {
   "cell_type": "code",
   "execution_count": 33,
   "id": "64c97d62",
   "metadata": {},
   "outputs": [
    {
     "data": {
      "application/vnd.jupyter.widget-view+json": {
       "model_id": "f639214122b04f7c9f0db88cc76d17b9",
       "version_major": 2,
       "version_minor": 0
      },
      "text/plain": [
       "VBox()"
      ]
     },
     "metadata": {},
     "output_type": "display_data"
    },
    {
     "data": {
      "application/vnd.jupyter.widget-view+json": {
       "model_id": "",
       "version_major": 2,
       "version_minor": 0
      },
      "text/plain": [
       "FloatProgress(value=0.0, bar_style='info', description='Progress:', layout=Layout(height='25px', width='50%'),…"
      ]
     },
     "metadata": {},
     "output_type": "display_data"
    },
    {
     "name": "stdout",
     "output_type": "stream",
     "text": [
      "[Row(customer_ID='00000469ba478561f23a92a868bd366de6f6527a684c9a2e78fb826dcac3b9b7', S_2=datetime.datetime(2019, 2, 19, 0, 0), P_2=0.631315348870127, D_39=0.0019117764764965, B_1=0.0107280865415314, B_2=0.8144968588558597, R_1=0.0075468996994418, S_3=0.1686508406762685, D_41=0.0099714525530773, B_3=0.0023469930565875, D_42=0.1131888918343083, D_43=None, D_44=0.0075839407750031, B_4=0.1164022289247906, D_45=0.0044825219725134, B_5=0.0095167747593996, R_2=0.0051778780931715, D_46=None, D_47=0.4743833427304856, D_48=0.626466914148911, D_49=None, B_6=0.1745910796093573, B_7=1.2506765348178908, B_8=1.003925464255982, D_50=None, D_51=0.0087178835533091, B_9=0.0010129373793993, R_3=0.1035897430477255, D_52=0.119043469590424, P_3=None, B_10=-0.0029186420127821, D_53=None, S_5=0.0027711123379222, B_11=0.004416113504079, S_6=1.006874529728068, D_54=1.00506876306948, R_4=0.0028096914463902, S_7=0.1055866024109917, B_12=0.1191980794718266, S_8=0.3216764047819389, D_55=0.114563534989097, D_56=None, B_13=None, R_5=0.0034196325972029, D_58=0.2058978062413211, S_9=None, B_14=0.0101821949992621, D_59=None, D_60=0.0274716204903652, D_61=0.588733676107752, B_15=0.0104885773809582, S_11=1.8818559285777217, D_62=0.0518109698276886, D_65=0.0082942042300472, B_16=0.0086633901552287, B_17=None, B_18=0.5921032444767333, B_19=0.0091442201842515, D_66=None, B_20=0.0049855613006686, D_68=None, S_12=0.1905157519361465, R_6=0.0026754835499191, S_13=0.4094107748249437, B_21=0.0099904625374611, D_69=None, B_22=0.0052103932992153, D_70=None, D_71=0.014684133397169, D_72=0.0043102368654459, S_15=0.4006020403764978, B_23=1.134791884347522, D_73=0.1788623575629339, P_4=0.9595310811409858, D_74=0.2176940446257559, D_75=0.204589954105911, D_76=None, B_24=0.0097985116935037, R_7=0.0077483237228153, D_77=0.0029161078676739, B_25=0.0068955814765111, B_26=0.0016564517629348, D_78=0.0043556636859908, D_79=None, R_8=0.002008246572985, R_9=None, S_16=0.0025310279371157, D_80=0.00034759165029772497, R_10=0.0011726652183253, R_11=0.004170107247771, B_27=0.0045846575906647, D_81=0.002290601776514, D_82=0.5082396428902732, S_17=0.0050932090626759, R_12=1.0029436028282448, B_28=0.1338039355297952, R_13=0.0043219231982758, D_83=None, R_14=0.0088572607951145, R_15=0.004144092496696, D_84=0.0095631459861687, R_16=0.0069424109292112, B_29=None, B_30=0.0, S_18=0.0036835411645905, D_86=0.0099089635544764, D_87=None, R_17=0.0089076724844124, R_18=0.0029553880220606, D_88=None, B_31=1, S_19=0.0089993509524004, R_19=0.003417596496717, B_32=0.0022003819358453, S_20=0.0037809353189382, R_20=0.0029478228701652, R_21=0.0046346559420196, B_33=1.0038096815327509, D_89=0.0066533110279837, R_22=0.0074740705932512, R_23=0.0001915589277688601, D_91=None, D_92=0.0087611760936087, D_93=0.0008345857561396319, D_94=0.004388830987005, R_24=0.0041147382330872, R_25=0.0084419966462385, D_96=0.0095746123427522, S_22=0.9810776445601156, S_23=0.1349155480143613, S_24=0.9546644073632652, S_25=0.9710862619522238, S_26=0.0065621798049756, D_102=0.0024186148494916, D_103=None, D_104=None, D_105=None, D_106=None, D_107=None, B_36=0.0081455220137746, B_37=0.0079695635703971, R_26=None, R_27=None, B_38=1.0, D_108=None, D_109=0.0051237751317508, D_110=None, D_111=None, B_39=None, D_112=1.0041298744213385, B_40=0.27420255070435, S_27=0.0043015502682638, D_113=None, D_114=None, D_115=None, D_116=None, D_117=None, D_118=None, D_119=None, D_120=None, D_121=None, D_122=None, D_123=None, D_124=None, D_125=None, D_126=0.0, D_127=0.0062014636590596, D_128=None, D_129=None, B_41=0.0096643872850681, B_42=None, D_130=None, D_131=None, D_132=None, D_133=0.00708154839375, R_28=0.0059574614435868, D_134=None, D_135=None, D_136=None, D_137=None, D_138=None, D_139=None, D_140=0.0046687390870528, D_141=None, D_142=None, D_143=None, D_144=0.0082807231606915, D_145=None, D_63=1.0, D_64=3.0)]"
     ]
    }
   ],
   "source": [
    "indexed_test = D_64_indexed_Model.transform(data_indexed_test)\n",
    "\n",
    "data_indexed_test = indexed_test.drop('D_64')\n",
    "data_indexed_test = data_indexed_test.withColumnRenamed('D_64_new', 'D_64')\n",
    "data_indexed_test.head(1)"
   ]
  },
  {
   "cell_type": "markdown",
   "id": "dc291a6f",
   "metadata": {},
   "source": [
    "### Counting the rows per Customer for 10 customers"
   ]
  },
  {
   "cell_type": "code",
   "execution_count": 34,
   "id": "22436021",
   "metadata": {},
   "outputs": [
    {
     "data": {
      "application/vnd.jupyter.widget-view+json": {
       "model_id": "7276ccd9cd964b988c8a3e0f13e73131",
       "version_major": 2,
       "version_minor": 0
      },
      "text/plain": [
       "VBox()"
      ]
     },
     "metadata": {},
     "output_type": "display_data"
    },
    {
     "data": {
      "application/vnd.jupyter.widget-view+json": {
       "model_id": "",
       "version_major": 2,
       "version_minor": 0
      },
      "text/plain": [
       "FloatProgress(value=0.0, bar_style='info', description='Progress:', layout=Layout(height='25px', width='50%'),…"
      ]
     },
     "metadata": {},
     "output_type": "display_data"
    },
    {
     "name": "stdout",
     "output_type": "stream",
     "text": [
      "[Row(customer_ID='027c8767b49e4cc8fd28f99e34abbc7c1128281874b7446031af73a1d49426ab', count=13), Row(customer_ID='027e587f6c9af10cacbe41d967be389df40660a163156c5a682262993461747c', count=13), Row(customer_ID='027dd06ce3ad37e17b65054de6a436e18b5b31671e5ed0bd1cf567b8a8f3cd8b', count=13), Row(customer_ID='02e80169c154151914081dea83d80d0719260ecc0df3e2b1ce519a7dddc76d27', count=13), Row(customer_ID='02f63a13e047d26129c5c8334153fe15d7dd406173c486238c1fc38ff3936426', count=13), Row(customer_ID='03c15c67d1b9f6d65aacfd43ddd1f36b5e6a7a6e9d4ba216edd9f2111259be06', count=13), Row(customer_ID='0340d2d354934b2fda3289baaa3228269aa391c4e169f6ce06025b9a9ec2721d', count=13), Row(customer_ID='036e7905324f07948592b09114ca0c23270160e90b9ee8db1cb12db0f66fe5e3', count=13), Row(customer_ID='04212748c5e9354ca364e9e87e884c4af56494b7e98a435f76b879e04737d726', count=13), Row(customer_ID='030c9c701aa2f2c4222e2b7822443ccb31ab622dea8ce3d2381bd980fd961fe4', count=13)]"
     ]
    }
   ],
   "source": [
    "data_indexed.groupBy('customer_ID').count().orderBy('count', ascending=False).head(10)"
   ]
  },
  {
   "cell_type": "code",
   "execution_count": 35,
   "id": "19e745bb",
   "metadata": {},
   "outputs": [
    {
     "data": {
      "application/vnd.jupyter.widget-view+json": {
       "model_id": "ab5f32e4883f4ec1b75e86afd18d001f",
       "version_major": 2,
       "version_minor": 0
      },
      "text/plain": [
       "VBox()"
      ]
     },
     "metadata": {},
     "output_type": "display_data"
    },
    {
     "data": {
      "application/vnd.jupyter.widget-view+json": {
       "model_id": "",
       "version_major": 2,
       "version_minor": 0
      },
      "text/plain": [
       "FloatProgress(value=0.0, bar_style='info', description='Progress:', layout=Layout(height='25px', width='50%'),…"
      ]
     },
     "metadata": {},
     "output_type": "display_data"
    },
    {
     "name": "stdout",
     "output_type": "stream",
     "text": [
      "190"
     ]
    }
   ],
   "source": [
    "len(data_indexed.columns)"
   ]
  },
  {
   "cell_type": "markdown",
   "id": "85b3dac8",
   "metadata": {},
   "source": [
    "#### Example of how data is organized per record per customer"
   ]
  },
  {
   "cell_type": "code",
   "execution_count": 36,
   "id": "0011178f",
   "metadata": {},
   "outputs": [
    {
     "data": {
      "application/vnd.jupyter.widget-view+json": {
       "model_id": "1d6262afc38941e28f34e99d11fe7ec1",
       "version_major": 2,
       "version_minor": 0
      },
      "text/plain": [
       "VBox()"
      ]
     },
     "metadata": {},
     "output_type": "display_data"
    },
    {
     "data": {
      "application/vnd.jupyter.widget-view+json": {
       "model_id": "",
       "version_major": 2,
       "version_minor": 0
      },
      "text/plain": [
       "FloatProgress(value=0.0, bar_style='info', description='Progress:', layout=Layout(height='25px', width='50%'),…"
      ]
     },
     "metadata": {},
     "output_type": "display_data"
    },
    {
     "name": "stdout",
     "output_type": "stream",
     "text": [
      "          S_2       P_2      D_39       B_1       B_2\n",
      "0  2017-03-18  0.609911  0.030856  0.160618  0.879868\n",
      "1  2017-04-17  0.549018  0.002802  0.002606  1.000623\n",
      "2  2017-05-18  0.701254  0.004628  0.009557  0.811009\n",
      "3  2017-06-17  0.659206  0.002200  0.000336  0.815992\n",
      "4  2017-07-18  0.605519  0.005084  0.000931  0.812954\n",
      "5  2017-08-18  0.642984  0.003526  0.007709  0.812181\n",
      "6  2017-09-16  0.689937  0.006455  0.007071  0.815515\n",
      "7  2017-10-18  0.665456  0.009472  0.008935  0.813391\n",
      "8  2017-11-17  0.628402  0.009246  0.009333  0.811796\n",
      "9  2017-12-18  0.624550  0.005651  0.004205  0.819339\n",
      "10 2018-01-18  0.632544  0.007562  0.006856  0.814759\n",
      "11 2018-02-15  0.631396  0.001678  0.008010  0.814094\n",
      "12 2018-03-15  0.600478  0.003848  0.005332  0.815046"
     ]
    }
   ],
   "source": [
    "data_indexed[data_indexed.customer_ID == '002b4831b4dbff67f987b2818b9d7d1075f6e6e7e32bde8638d6ce0fc2f4eb36'].toPandas()[['S_2','P_2','D_39', 'B_1', 'B_2']]\n"
   ]
  },
  {
   "cell_type": "markdown",
   "id": "6b9da0ff",
   "metadata": {},
   "source": [
    "### Data Cleaning and Dimensionality Reduction\n",
    "\n",
    "The dataset has 190 columns and has been anonymized and normalized. \n",
    "This means that we do not need to normalize the data again.\n",
    "\n",
    "The next step is to clean up the dataset by:\n",
    "1. identify columns with more than 80% nulls and remove them\n",
    "2. there are more columns with over 70% nulls - impute with median values\n",
    "3. remove columns that are highly correlated to other columns"
   ]
  },
  {
   "cell_type": "code",
   "execution_count": 37,
   "id": "a9981ed7",
   "metadata": {},
   "outputs": [
    {
     "data": {
      "application/vnd.jupyter.widget-view+json": {
       "model_id": "39f9a092e18c470680c8151fb8c65948",
       "version_major": 2,
       "version_minor": 0
      },
      "text/plain": [
       "VBox()"
      ]
     },
     "metadata": {},
     "output_type": "display_data"
    },
    {
     "data": {
      "application/vnd.jupyter.widget-view+json": {
       "model_id": "",
       "version_major": 2,
       "version_minor": 0
      },
      "text/plain": [
       "FloatProgress(value=0.0, bar_style='info', description='Progress:', layout=Layout(height='25px', width='50%'),…"
      ]
     },
     "metadata": {},
     "output_type": "display_data"
    },
    {
     "name": "stdout",
     "output_type": "stream",
     "text": [
      "4425160"
     ]
    }
   ],
   "source": [
    "threshold_to_drop = int(0.8 * data_indexed.count())\n",
    "threshold_to_drop"
   ]
  },
  {
   "cell_type": "markdown",
   "id": "b2d7ea3e",
   "metadata": {},
   "source": [
    "#### Initially thought I can use dropna to drop columns. But PySpark DataFrames does not have an axis keyword, hence, in this case, rows will be deleted. Since we do not want to lose records, upon further research, I found another method to do this, which can be seen in the next cells.\n",
    "```\n",
    "# remove columns with more than 80% null values\n",
    "data.dropna(thresh=threshold_to_drop) # does not work!\n",
    "```"
   ]
  },
  {
   "cell_type": "markdown",
   "id": "de0f8112",
   "metadata": {},
   "source": [
    "#### From the above list of columns, we can count null values using PySpark sql functions"
   ]
  },
  {
   "cell_type": "code",
   "execution_count": 38,
   "id": "cb66e8db",
   "metadata": {},
   "outputs": [
    {
     "data": {
      "application/vnd.jupyter.widget-view+json": {
       "model_id": "92a7aeb161fb4154a39740b52a08db21",
       "version_major": 2,
       "version_minor": 0
      },
      "text/plain": [
       "VBox()"
      ]
     },
     "metadata": {},
     "output_type": "display_data"
    },
    {
     "data": {
      "application/vnd.jupyter.widget-view+json": {
       "model_id": "",
       "version_major": 2,
       "version_minor": 0
      },
      "text/plain": [
       "FloatProgress(value=0.0, bar_style='info', description='Progress:', layout=Layout(height='25px', width='50%'),…"
      ]
     },
     "metadata": {},
     "output_type": "display_data"
    },
    {
     "name": "stdout",
     "output_type": "stream",
     "text": [
      "        P_2  D_39  B_1       B_2  R_1  ...     D_143     D_144     D_145  D_63  D_64\n",
      "0  0.008313   0.0  0.0  0.000364  0.0  ...  0.018358  0.007363  0.018358   0.0   0.0\n",
      "\n",
      "[1 rows x 188 columns]"
     ]
    }
   ],
   "source": [
    "cols_to_exclude = ['S_2', 'customer_ID']\n",
    "columnList = [col for col in data_indexed.columns if col not in cols_to_exclude]\n",
    "null_percent_cols = data_indexed.select([count(when(isnan(c) | col(c).isNull(), c)).alias(c) \n",
    "                                 for c in columnList]).toPandas()/data_indexed.count()\n",
    "null_percent_cols"
   ]
  },
  {
   "cell_type": "markdown",
   "id": "cd9bcf42",
   "metadata": {},
   "source": [
    "#### Filtering columns with more than 80% missing values"
   ]
  },
  {
   "cell_type": "code",
   "execution_count": 39,
   "id": "751afcb8",
   "metadata": {},
   "outputs": [
    {
     "data": {
      "application/vnd.jupyter.widget-view+json": {
       "model_id": "974c186eadf74d04b97b10eb8bdedb08",
       "version_major": 2,
       "version_minor": 0
      },
      "text/plain": [
       "VBox()"
      ]
     },
     "metadata": {},
     "output_type": "display_data"
    },
    {
     "data": {
      "application/vnd.jupyter.widget-view+json": {
       "model_id": "",
       "version_major": 2,
       "version_minor": 0
      },
      "text/plain": [
       "FloatProgress(value=0.0, bar_style='info', description='Progress:', layout=Layout(height='25px', width='50%'),…"
      ]
     },
     "metadata": {},
     "output_type": "display_data"
    },
    {
     "name": "stdout",
     "output_type": "stream",
     "text": [
      "165"
     ]
    }
   ],
   "source": [
    "all_valid_cols = list(null_percent_cols.T[null_percent_cols.T[0] < .8].index.to_numpy())\n",
    "len(all_valid_cols)"
   ]
  },
  {
   "cell_type": "code",
   "execution_count": 40,
   "id": "511e2805",
   "metadata": {},
   "outputs": [
    {
     "data": {
      "application/vnd.jupyter.widget-view+json": {
       "model_id": "20516a82da254ddc8a0636f4c49289ab",
       "version_major": 2,
       "version_minor": 0
      },
      "text/plain": [
       "VBox()"
      ]
     },
     "metadata": {},
     "output_type": "display_data"
    },
    {
     "data": {
      "application/vnd.jupyter.widget-view+json": {
       "model_id": "",
       "version_major": 2,
       "version_minor": 0
      },
      "text/plain": [
       "FloatProgress(value=0.0, bar_style='info', description='Progress:', layout=Layout(height='25px', width='50%'),…"
      ]
     },
     "metadata": {},
     "output_type": "display_data"
    },
    {
     "name": "stdout",
     "output_type": "stream",
     "text": [
      "(155, ['P_2', 'D_39', 'B_1', 'B_2', 'R_1', 'S_3', 'D_41', 'B_3', 'D_43', 'D_44', 'B_4', 'D_45', 'B_5', 'R_2', 'D_46', 'D_47', 'D_48', 'B_6', 'B_7', 'B_8', 'D_50', 'D_51', 'B_9', 'R_3', 'D_52', 'P_3', 'B_10', 'D_53', 'S_5', 'B_11', 'S_6', 'D_54', 'R_4', 'S_7', 'B_12', 'S_8', 'D_55', 'D_56', 'B_13', 'R_5', 'D_58', 'S_9', 'B_14', 'D_59', 'D_60', 'D_61', 'B_15', 'S_11', 'D_62', 'D_65', 'B_16', 'B_17', 'B_18', 'B_19', 'B_20', 'S_12', 'R_6', 'S_13', 'B_21', 'D_69', 'B_22', 'D_70', 'D_71', 'D_72', 'S_15', 'B_23', 'P_4', 'D_74', 'D_75', 'B_24', 'R_7', 'D_77', 'B_25', 'B_26', 'D_78', 'D_79', 'R_8', 'S_16', 'D_80', 'R_10', 'R_11', 'B_27', 'D_81', 'D_82', 'S_17', 'R_12', 'B_28', 'R_13', 'D_83', 'R_14', 'R_15', 'D_84', 'R_16', 'S_18', 'D_86', 'R_17', 'R_18', 'B_31', 'S_19', 'R_19', 'B_32', 'S_20', 'R_20', 'R_21', 'B_33', 'D_89', 'R_22', 'R_23', 'D_91', 'D_92', 'D_93', 'D_94', 'R_24', 'R_25', 'D_96', 'S_22', 'S_23', 'S_24', 'S_25', 'S_26', 'D_102', 'D_103', 'D_104', 'D_105', 'D_107', 'B_36', 'B_37', 'R_27', 'D_109', 'D_112', 'B_40', 'S_27', 'D_113', 'D_115', 'D_118', 'D_119', 'D_121', 'D_122', 'D_123', 'D_124', 'D_125', 'D_127', 'D_128', 'D_129', 'B_41', 'D_130', 'D_131', 'D_133', 'R_28', 'D_139', 'D_140', 'D_141', 'D_143', 'D_144', 'D_145'])"
     ]
    }
   ],
   "source": [
    "non_cat_cols = [col for col in all_valid_cols if col not in categorical_variables]\n",
    "len(non_cat_cols), non_cat_cols"
   ]
  },
  {
   "cell_type": "markdown",
   "id": "17356db4",
   "metadata": {},
   "source": [
    "### Fillna for non-categorical variables only"
   ]
  },
  {
   "cell_type": "markdown",
   "id": "d0f8c798",
   "metadata": {},
   "source": [
    "Imputing using pyspark.sql.GroupedData"
   ]
  },
  {
   "cell_type": "code",
   "execution_count": 41,
   "id": "7c34828e",
   "metadata": {},
   "outputs": [
    {
     "data": {
      "application/vnd.jupyter.widget-view+json": {
       "model_id": "159463afafe847749a8a02b7725a5111",
       "version_major": 2,
       "version_minor": 0
      },
      "text/plain": [
       "VBox()"
      ]
     },
     "metadata": {},
     "output_type": "display_data"
    },
    {
     "data": {
      "application/vnd.jupyter.widget-view+json": {
       "model_id": "",
       "version_major": 2,
       "version_minor": 0
      },
      "text/plain": [
       "FloatProgress(value=0.0, bar_style='info', description='Progress:', layout=Layout(height='25px', width='50%'),…"
      ]
     },
     "metadata": {},
     "output_type": "display_data"
    }
   ],
   "source": [
    "# grouped_by_cust = data_indexed.groupBy('customer_ID')\n",
    "# grouped_by_cust.mean('P_2').take(5)"
   ]
  },
  {
   "cell_type": "code",
   "execution_count": 42,
   "id": "d898ff46",
   "metadata": {},
   "outputs": [
    {
     "data": {
      "application/vnd.jupyter.widget-view+json": {
       "model_id": "847adbe0fa874d1abee04b1f743f4447",
       "version_major": 2,
       "version_minor": 0
      },
      "text/plain": [
       "VBox()"
      ]
     },
     "metadata": {},
     "output_type": "display_data"
    },
    {
     "data": {
      "application/vnd.jupyter.widget-view+json": {
       "model_id": "",
       "version_major": 2,
       "version_minor": 0
      },
      "text/plain": [
       "FloatProgress(value=0.0, bar_style='info', description='Progress:', layout=Layout(height='25px', width='50%'),…"
      ]
     },
     "metadata": {},
     "output_type": "display_data"
    }
   ],
   "source": [
    "# # grouped_by_cust.fillna([grouped_by_cust.mean(col) for col in non_cat_cols])\n",
    "\n",
    "# from pyspark.sql.functions import pandas_udf, PandasUDFType\n",
    "\n",
    "# def impute_means(pdf):\n",
    "#      return pd.DataFrame(pdf.v.mean())\n",
    "# data.groupby('customer_ID').applyInPandas(impute_means).show() \n",
    "\n",
    "# grouped_by_cust.apply(impute_means)"
   ]
  },
  {
   "cell_type": "code",
   "execution_count": 43,
   "id": "42d6830b",
   "metadata": {},
   "outputs": [
    {
     "data": {
      "application/vnd.jupyter.widget-view+json": {
       "model_id": "81c975d1c72e418d8ceb75184fc15a3b",
       "version_major": 2,
       "version_minor": 0
      },
      "text/plain": [
       "VBox()"
      ]
     },
     "metadata": {},
     "output_type": "display_data"
    },
    {
     "data": {
      "application/vnd.jupyter.widget-view+json": {
       "model_id": "",
       "version_major": 2,
       "version_minor": 0
      },
      "text/plain": [
       "FloatProgress(value=0.0, bar_style='info', description='Progress:', layout=Layout(height='25px', width='50%'),…"
      ]
     },
     "metadata": {},
     "output_type": "display_data"
    },
    {
     "name": "stdout",
     "output_type": "stream",
     "text": [
      "154"
     ]
    }
   ],
   "source": [
    "# Get non-int columns \n",
    "non_int_cols = [c[0] for c in data_indexed.dtypes if c[1] in [\"float\", \"double\", \"long\"]]\n",
    "non_int_cols = [c for c in non_int_cols if c not in categorical_variables]\n",
    "non_int_cols = [c for c in non_int_cols if c in all_valid_cols]\n",
    "len(non_int_cols)"
   ]
  },
  {
   "cell_type": "markdown",
   "id": "3192f821",
   "metadata": {},
   "source": [
    "### Using Imputer to impute median values"
   ]
  },
  {
   "cell_type": "markdown",
   "id": "831c8e0a",
   "metadata": {},
   "source": [
    "Imputing floats and then categorical variables"
   ]
  },
  {
   "cell_type": "code",
   "execution_count": 44,
   "id": "4b68a822",
   "metadata": {
    "scrolled": true
   },
   "outputs": [
    {
     "data": {
      "application/vnd.jupyter.widget-view+json": {
       "model_id": "16437f3fedf948298f0ea4a2cab32d28",
       "version_major": 2,
       "version_minor": 0
      },
      "text/plain": [
       "VBox()"
      ]
     },
     "metadata": {},
     "output_type": "display_data"
    },
    {
     "data": {
      "application/vnd.jupyter.widget-view+json": {
       "model_id": "",
       "version_major": 2,
       "version_minor": 0
      },
      "text/plain": [
       "FloatProgress(value=0.0, bar_style='info', description='Progress:', layout=Layout(height='25px', width='50%'),…"
      ]
     },
     "metadata": {},
     "output_type": "display_data"
    }
   ],
   "source": [
    "imputer = Imputer()\n",
    "imputer.setInputCols(non_int_cols)\n",
    "imputer.setOutputCols([\"{}_imputed\".format(c) for c in non_int_cols]).setStrategy(\"median\")\n",
    "float_imputer = imputer.fit(data_indexed)\n",
    "data_imputed_floats = float_imputer.transform(data_indexed)\n"
   ]
  },
  {
   "cell_type": "code",
   "execution_count": 45,
   "id": "6ecaa45c",
   "metadata": {
    "scrolled": true
   },
   "outputs": [
    {
     "data": {
      "application/vnd.jupyter.widget-view+json": {
       "model_id": "3742924b9db748e98bb08d56638ecaf5",
       "version_major": 2,
       "version_minor": 0
      },
      "text/plain": [
       "VBox()"
      ]
     },
     "metadata": {},
     "output_type": "display_data"
    },
    {
     "data": {
      "application/vnd.jupyter.widget-view+json": {
       "model_id": "",
       "version_major": 2,
       "version_minor": 0
      },
      "text/plain": [
       "FloatProgress(value=0.0, bar_style='info', description='Progress:', layout=Layout(height='25px', width='50%'),…"
      ]
     },
     "metadata": {},
     "output_type": "display_data"
    },
    {
     "name": "stdout",
     "output_type": "stream",
     "text": [
      "['customer_ID', 'S_2', 'P_2', 'D_39', 'B_1', 'B_2', 'R_1', 'S_3', 'D_41', 'B_3', 'D_42', 'D_43', 'D_44', 'B_4', 'D_45', 'B_5', 'R_2', 'D_46', 'D_47', 'D_48', 'D_49', 'B_6', 'B_7', 'B_8', 'D_50', 'D_51', 'B_9', 'R_3', 'D_52', 'P_3', 'B_10', 'D_53', 'S_5', 'B_11', 'S_6', 'D_54', 'R_4', 'S_7', 'B_12', 'S_8', 'D_55', 'D_56', 'B_13', 'R_5', 'D_58', 'S_9', 'B_14', 'D_59', 'D_60', 'D_61', 'B_15', 'S_11', 'D_62', 'D_65', 'B_16', 'B_17', 'B_18', 'B_19', 'D_66', 'B_20', 'D_68', 'S_12', 'R_6', 'S_13', 'B_21', 'D_69', 'B_22', 'D_70', 'D_71', 'D_72', 'S_15', 'B_23', 'D_73', 'P_4', 'D_74', 'D_75', 'D_76', 'B_24', 'R_7', 'D_77', 'B_25', 'B_26', 'D_78', 'D_79', 'R_8', 'R_9', 'S_16', 'D_80', 'R_10', 'R_11', 'B_27', 'D_81', 'D_82', 'S_17', 'R_12', 'B_28', 'R_13', 'D_83', 'R_14', 'R_15', 'D_84', 'R_16', 'B_29', 'B_30', 'S_18', 'D_86', 'D_87', 'R_17', 'R_18', 'D_88', 'B_31', 'S_19', 'R_19', 'B_32', 'S_20', 'R_20', 'R_21', 'B_33', 'D_89', 'R_22', 'R_23', 'D_91', 'D_92', 'D_93', 'D_94', 'R_24', 'R_25', 'D_96', 'S_22', 'S_23', 'S_24', 'S_25', 'S_26', 'D_102', 'D_103', 'D_104', 'D_105', 'D_106', 'D_107', 'B_36', 'B_37', 'R_26', 'R_27', 'B_38', 'D_108', 'D_109', 'D_110', 'D_111', 'B_39', 'D_112', 'B_40', 'S_27', 'D_113', 'D_114', 'D_115', 'D_116', 'D_117', 'D_118', 'D_119', 'D_120', 'D_121', 'D_122', 'D_123', 'D_124', 'D_125', 'D_126', 'D_127', 'D_128', 'D_129', 'B_41', 'B_42', 'D_130', 'D_131', 'D_132', 'D_133', 'R_28', 'D_134', 'D_135', 'D_136', 'D_137', 'D_138', 'D_139', 'D_140', 'D_141', 'D_142', 'D_143', 'D_144', 'D_145', 'D_63', 'D_64', 'B_6_imputed', 'R_10_imputed', 'D_78_imputed', 'B_2_imputed', 'D_52_imputed', 'S_11_imputed', 'D_60_imputed', 'D_145_imputed', 'D_45_imputed', 'D_121_imputed', 'D_48_imputed', 'D_118_imputed', 'R_16_imputed', 'B_33_imputed', 'R_6_imputed', 'D_124_imputed', 'B_3_imputed', 'D_119_imputed', 'B_4_imputed', 'P_2_imputed', 'R_8_imputed', 'S_17_imputed', 'D_77_imputed', 'B_12_imputed', 'B_5_imputed', 'D_43_imputed', 'D_113_imputed', 'S_26_imputed', 'B_14_imputed', 'D_41_imputed', 'R_20_imputed', 'S_3_imputed', 'R_1_imputed', 'R_7_imputed', 'D_84_imputed', 'B_16_imputed', 'D_139_imputed', 'D_58_imputed', 'S_18_imputed', 'D_55_imputed', 'D_109_imputed', 'B_27_imputed', 'D_125_imputed', 'D_130_imputed', 'D_54_imputed', 'D_80_imputed', 'B_15_imputed', 'B_7_imputed', 'B_22_imputed', 'B_1_imputed', 'B_11_imputed', 'S_15_imputed', 'S_9_imputed', 'R_17_imputed', 'B_17_imputed', 'B_18_imputed', 'D_44_imputed', 'R_15_imputed', 'B_19_imputed', 'D_112_imputed', 'D_82_imputed', 'B_24_imputed', 'R_3_imputed', 'D_53_imputed', 'S_16_imputed', 'D_39_imputed', 'D_141_imputed', 'R_25_imputed', 'S_13_imputed', 'R_28_imputed', 'D_47_imputed', 'D_123_imputed', 'B_25_imputed', 'D_81_imputed', 'B_21_imputed', 'R_5_imputed', 'S_25_imputed', 'R_14_imputed', 'D_70_imputed', 'D_104_imputed', 'B_36_imputed', 'R_13_imputed', 'R_23_imputed', 'D_79_imputed', 'S_6_imputed', 'D_133_imputed', 'D_72_imputed', 'S_7_imputed', 'D_115_imputed', 'R_2_imputed', 'D_94_imputed', 'P_4_imputed', 'R_27_imputed', 'P_3_imputed', 'D_143_imputed', 'R_24_imputed', 'D_92_imputed', 'B_37_imputed', 'D_62_imputed', 'B_28_imputed', 'D_140_imputed', 'D_107_imputed', 'D_51_imputed', 'D_69_imputed', 'D_46_imputed', 'S_5_imputed', 'S_20_imputed', 'S_19_imputed', 'D_122_imputed', 'R_18_imputed', 'S_23_imputed', 'B_20_imputed', 'R_4_imputed', 'D_144_imputed', 'D_93_imputed', 'B_13_imputed', 'D_127_imputed', 'D_96_imputed', 'B_40_imputed', 'B_9_imputed', 'B_41_imputed', 'D_65_imputed', 'B_32_imputed', 'D_129_imputed', 'D_50_imputed', 'D_89_imputed', 'D_86_imputed', 'B_8_imputed', 'D_59_imputed', 'R_21_imputed', 'D_128_imputed', 'D_71_imputed', 'S_24_imputed', 'S_22_imputed', 'S_12_imputed', 'S_27_imputed', 'D_103_imputed', 'R_19_imputed', 'R_11_imputed', 'D_83_imputed', 'S_8_imputed', 'B_23_imputed', 'D_75_imputed', 'B_26_imputed', 'D_56_imputed', 'D_102_imputed', 'R_22_imputed', 'D_74_imputed', 'R_12_imputed', 'D_91_imputed', 'D_105_imputed', 'B_10_imputed', 'D_131_imputed', 'D_61_imputed']"
     ]
    }
   ],
   "source": [
    "data_imputed_floats.columns"
   ]
  },
  {
   "cell_type": "code",
   "execution_count": 46,
   "id": "ac821b92",
   "metadata": {
    "scrolled": true
   },
   "outputs": [
    {
     "data": {
      "application/vnd.jupyter.widget-view+json": {
       "model_id": "346ad7ff40b74bdb8058296ee881f527",
       "version_major": 2,
       "version_minor": 0
      },
      "text/plain": [
       "VBox()"
      ]
     },
     "metadata": {},
     "output_type": "display_data"
    },
    {
     "data": {
      "application/vnd.jupyter.widget-view+json": {
       "model_id": "",
       "version_major": 2,
       "version_minor": 0
      },
      "text/plain": [
       "FloatProgress(value=0.0, bar_style='info', description='Progress:', layout=Layout(height='25px', width='50%'),…"
      ]
     },
     "metadata": {},
     "output_type": "display_data"
    }
   ],
   "source": [
    "data_imputed_floats_test = float_imputer.transform(data_indexed_test)"
   ]
  },
  {
   "cell_type": "code",
   "execution_count": 47,
   "id": "508ec8b4",
   "metadata": {
    "scrolled": false
   },
   "outputs": [
    {
     "data": {
      "application/vnd.jupyter.widget-view+json": {
       "model_id": "9a37b052795947cca42f60e06ac47d30",
       "version_major": 2,
       "version_minor": 0
      },
      "text/plain": [
       "VBox()"
      ]
     },
     "metadata": {},
     "output_type": "display_data"
    },
    {
     "data": {
      "application/vnd.jupyter.widget-view+json": {
       "model_id": "",
       "version_major": 2,
       "version_minor": 0
      },
      "text/plain": [
       "FloatProgress(value=0.0, bar_style='info', description='Progress:', layout=Layout(height='25px', width='50%'),…"
      ]
     },
     "metadata": {},
     "output_type": "display_data"
    },
    {
     "name": "stdout",
     "output_type": "stream",
     "text": [
      "[Row(customer_ID='00000469ba478561f23a92a868bd366de6f6527a684c9a2e78fb826dcac3b9b7', S_2=datetime.datetime(2019, 2, 19, 0, 0), P_2=0.631315348870127, D_39=0.0019117764764965, B_1=0.0107280865415314, B_2=0.8144968588558597, R_1=0.0075468996994418, S_3=0.1686508406762685, D_41=0.0099714525530773, B_3=0.0023469930565875, D_42=0.1131888918343083, D_43=None, D_44=0.0075839407750031, B_4=0.1164022289247906, D_45=0.0044825219725134, B_5=0.0095167747593996, R_2=0.0051778780931715, D_46=None, D_47=0.4743833427304856, D_48=0.626466914148911, D_49=None, B_6=0.1745910796093573, B_7=1.2506765348178908, B_8=1.003925464255982, D_50=None, D_51=0.0087178835533091, B_9=0.0010129373793993, R_3=0.1035897430477255, D_52=0.119043469590424, P_3=None, B_10=-0.0029186420127821, D_53=None, S_5=0.0027711123379222, B_11=0.004416113504079, S_6=1.006874529728068, D_54=1.00506876306948, R_4=0.0028096914463902, S_7=0.1055866024109917, B_12=0.1191980794718266, S_8=0.3216764047819389, D_55=0.114563534989097, D_56=None, B_13=None, R_5=0.0034196325972029, D_58=0.2058978062413211, S_9=None, B_14=0.0101821949992621, D_59=None, D_60=0.0274716204903652, D_61=0.588733676107752, B_15=0.0104885773809582, S_11=1.8818559285777217, D_62=0.0518109698276886, D_65=0.0082942042300472, B_16=0.0086633901552287, B_17=None, B_18=0.5921032444767333, B_19=0.0091442201842515, D_66=None, B_20=0.0049855613006686, D_68=None, S_12=0.1905157519361465, R_6=0.0026754835499191, S_13=0.4094107748249437, B_21=0.0099904625374611, D_69=None, B_22=0.0052103932992153, D_70=None, D_71=0.014684133397169, D_72=0.0043102368654459, S_15=0.4006020403764978, B_23=1.134791884347522, D_73=0.1788623575629339, P_4=0.9595310811409858, D_74=0.2176940446257559, D_75=0.204589954105911, D_76=None, B_24=0.0097985116935037, R_7=0.0077483237228153, D_77=0.0029161078676739, B_25=0.0068955814765111, B_26=0.0016564517629348, D_78=0.0043556636859908, D_79=None, R_8=0.002008246572985, R_9=None, S_16=0.0025310279371157, D_80=0.00034759165029772497, R_10=0.0011726652183253, R_11=0.004170107247771, B_27=0.0045846575906647, D_81=0.002290601776514, D_82=0.5082396428902732, S_17=0.0050932090626759, R_12=1.0029436028282448, B_28=0.1338039355297952, R_13=0.0043219231982758, D_83=None, R_14=0.0088572607951145, R_15=0.004144092496696, D_84=0.0095631459861687, R_16=0.0069424109292112, B_29=None, B_30=0.0, S_18=0.0036835411645905, D_86=0.0099089635544764, D_87=None, R_17=0.0089076724844124, R_18=0.0029553880220606, D_88=None, B_31=1, S_19=0.0089993509524004, R_19=0.003417596496717, B_32=0.0022003819358453, S_20=0.0037809353189382, R_20=0.0029478228701652, R_21=0.0046346559420196, B_33=1.0038096815327509, D_89=0.0066533110279837, R_22=0.0074740705932512, R_23=0.0001915589277688601, D_91=None, D_92=0.0087611760936087, D_93=0.0008345857561396319, D_94=0.004388830987005, R_24=0.0041147382330872, R_25=0.0084419966462385, D_96=0.0095746123427522, S_22=0.9810776445601156, S_23=0.1349155480143613, S_24=0.9546644073632652, S_25=0.9710862619522238, S_26=0.0065621798049756, D_102=0.0024186148494916, D_103=None, D_104=None, D_105=None, D_106=None, D_107=None, B_36=0.0081455220137746, B_37=0.0079695635703971, R_26=None, R_27=None, B_38=1.0, D_108=None, D_109=0.0051237751317508, D_110=None, D_111=None, B_39=None, D_112=1.0041298744213385, B_40=0.27420255070435, S_27=0.0043015502682638, D_113=None, D_114=None, D_115=None, D_116=None, D_117=None, D_118=None, D_119=None, D_120=None, D_121=None, D_122=None, D_123=None, D_124=None, D_125=None, D_126=0.0, D_127=0.0062014636590596, D_128=None, D_129=None, B_41=0.0096643872850681, B_42=None, D_130=None, D_131=None, D_132=None, D_133=0.00708154839375, R_28=0.0059574614435868, D_134=None, D_135=None, D_136=None, D_137=None, D_138=None, D_139=None, D_140=0.0046687390870528, D_141=None, D_142=None, D_143=None, D_144=0.0082807231606915, D_145=None, D_63=1.0, D_64=3.0, B_6_imputed=0.1745910796093573, R_10_imputed=0.0011726652183253, D_78_imputed=0.0043556636859908, B_2_imputed=0.8144968588558597, D_52_imputed=0.119043469590424, S_11_imputed=1.8818559285777217, D_60_imputed=0.0274716204903652, D_145_imputed=0.0060772113237814, D_45_imputed=0.0044825219725134, D_121_imputed=0.5967873274638978, D_48_imputed=0.626466914148911, D_118_imputed=0.2221894433689217, R_16_imputed=0.0069424109292112, B_33_imputed=1.0038096815327509, R_6_imputed=0.0026754835499191, D_124_imputed=0.2743298072252347, B_3_imputed=0.0023469930565875, D_119_imputed=0.2147497372708929, B_4_imputed=0.1164022289247906, P_2_imputed=0.631315348870127, R_8_imputed=0.002008246572985, S_17_imputed=0.0050932090626759, D_77_imputed=0.0029161078676739, B_12_imputed=0.1191980794718266, B_5_imputed=0.0095167747593996, D_43_imputed=0.0890166551196397, D_113_imputed=0.0087246164830012, S_26_imputed=0.0065621798049756, B_14_imputed=0.0101821949992621, D_41_imputed=0.0099714525530773, R_20_imputed=0.0029478228701652, S_3_imputed=0.1686508406762685, R_1_imputed=0.0075468996994418, R_7_imputed=0.0077483237228153, D_84_imputed=0.0095631459861687, B_16_imputed=0.0086633901552287, D_139_imputed=0.0060893718171803, D_58_imputed=0.2058978062413211, S_18_imputed=0.0036835411645905, D_55_imputed=0.114563534989097, D_109_imputed=0.0051237751317508, B_27_imputed=0.0045846575906647, D_125_imputed=0.005414301284317, D_130_imputed=0.0062559932049224, D_54_imputed=1.00506876306948, D_80_imputed=0.00034759165029772497, B_15_imputed=0.0104885773809582, B_7_imputed=1.2506765348178908, B_22_imputed=0.0052103932992153, B_1_imputed=0.0107280865415314, B_11_imputed=0.004416113504079, S_15_imputed=0.4006020403764978, S_9_imputed=0.0195693544891457, R_17_imputed=0.0089076724844124, B_17_imputed=0.9330073390935812, B_18_imputed=0.5921032444767333, D_44_imputed=0.0075839407750031, R_15_imputed=0.004144092496696, B_19_imputed=0.0091442201842515, D_112_imputed=1.0041298744213385, D_82_imputed=0.5082396428902732, B_24_imputed=0.0097985116935037, R_3_imputed=0.1035897430477255, D_53_imputed=0.0134612873598141, S_16_imputed=0.0025310279371157, D_39_imputed=0.0019117764764965, D_141_imputed=0.0060792511312555, R_25_imputed=0.0084419966462385, S_13_imputed=0.4094107748249437, R_28_imputed=0.0059574614435868, D_47_imputed=0.4743833427304856, D_123_imputed=0.0052608113730209, B_25_imputed=0.0068955814765111, D_81_imputed=0.002290601776514, B_21_imputed=0.0099904625374611, R_5_imputed=0.0034196325972029, S_25_imputed=0.9710862619522238, R_14_imputed=0.0088572607951145, D_70_imputed=0.0068096105056577, D_104_imputed=0.0093429494185262, B_36_imputed=0.0081455220137746, R_13_imputed=0.0043219231982758, R_23_imputed=0.0001915589277688601, D_79_imputed=0.0055786319312428, S_6_imputed=1.006874529728068, D_133_imputed=0.00708154839375, D_72_imputed=0.0043102368654459, S_7_imputed=0.1055866024109917, D_115_imputed=0.2006776161876414, R_2_imputed=0.0051778780931715, D_94_imputed=0.004388830987005, P_4_imputed=0.9595310811409858, R_27_imputed=1.0044030918975797, P_3_imputed=0.6185226968206566, D_143_imputed=0.0060621208877647, R_24_imputed=0.0041147382330872, D_92_imputed=0.0087611760936087, B_37_imputed=0.0079695635703971, D_62_imputed=0.0518109698276886, B_28_imputed=0.1338039355297952, D_140_imputed=0.0046687390870528, D_107_imputed=0.0093208211362245, D_51_imputed=0.0087178835533091, D_69_imputed=0.0051763079618301, D_46_imputed=0.4601944944899775, S_5_imputed=0.0027711123379222, S_20_imputed=0.0037809353189382, S_19_imputed=0.0089993509524004, D_122_imputed=0.4292464014592431, R_18_imputed=0.0029553880220606, S_23_imputed=0.1349155480143613, B_20_imputed=0.0049855613006686, R_4_imputed=0.0028096914463902, D_144_imputed=0.0082807231606915, D_93_imputed=0.0008345857561396319, B_13_imputed=0.0297513948946488, D_127_imputed=0.0062014636590596, D_96_imputed=0.0095746123427522, B_40_imputed=0.27420255070435, B_9_imputed=0.0010129373793993, B_41_imputed=0.0096643872850681, D_65_imputed=0.0082942042300472, B_32_imputed=0.0022003819358453, D_129_imputed=0.0088967363062732, D_50_imputed=0.1099526968207191, D_89_imputed=0.0066533110279837, D_86_imputed=0.0099089635544764, B_8_imputed=1.003925464255982, D_59_imputed=0.3791191995501123, R_21_imputed=0.0046346559420196, D_128_imputed=1.0004391322993076, D_71_imputed=0.014684133397169, S_24_imputed=0.9546644073632652, S_22_imputed=0.9810776445601156, S_12_imputed=0.1905157519361465, S_27_imputed=0.0043015502682638, D_103_imputed=0.009321502960783, R_19_imputed=0.003417596496717, R_11_imputed=0.004170107247771, D_83_imputed=0.0051357843101363, S_8_imputed=0.3216764047819389, B_23_imputed=1.134791884347522, D_75_imputed=0.204589954105911, B_26_imputed=0.0016564517629348, D_56_imputed=0.1499532805737759, D_102_imputed=0.0024186148494916, R_22_imputed=0.0074740705932512, D_74_imputed=0.2176940446257559, R_12_imputed=1.0029436028282448, D_91_imputed=0.0055695786388981, D_105_imputed=0.3344427099914179, B_10_imputed=-0.0029186420127821, D_131_imputed=0.0055797738347698, D_61_imputed=0.588733676107752), Row(customer_ID='00000469ba478561f23a92a868bd366de6f6527a684c9a2e78fb826dcac3b9b7', S_2=datetime.datetime(2019, 3, 25, 0, 0), P_2=0.5870422600496985, D_39=0.0052751643361475, B_1=0.0110263694322631, B_2=0.8108478013948842, R_1=0.0018171296454829, S_3=0.2413889625766217, D_41=0.00016584141313932932, B_3=0.0091318432435674, D_42=0.1230354299626594, D_43=None, D_44=0.0066461181239875, B_4=0.1348782299564203, D_45=0.0094974185177818, B_5=0.0263128097320897, R_2=0.0090288749440806, D_46=None, D_47=0.4735872420311807, D_48=0.6116821192991609, D_49=None, B_6=0.1771154612144639, B_7=0.2341687531509137, B_8=1.009301319067151, D_50=None, D_51=0.0031456193877579, B_9=0.0055332543139661, R_3=0.1012391232137625, D_52=0.120990861545609, P_3=None, B_10=0.03122150594579, D_53=None, S_5=0.006496548430664, B_11=0.0100029971432868, S_6=1.005727667531644, D_54=1.000431553280504, R_4=0.000525443513698548, S_7=0.1605621512489794, B_12=0.1214895541514009, S_8=0.1707277455597194, D_55=0.1841158724984118, D_56=None, B_13=0.0283470492674365, R_5=0.007156270484363, D_58=0.4032698876234646, S_9=0.0144907964053945, B_14=0.0251299139999351, D_59=None, D_60=0.0547896295277103, D_61=0.6228861777560063, B_15=0.0217041465528444, S_11=2.0432781356653336, D_62=0.0575674603213733, D_65=0.0020113163078847, B_16=0.0008349652581697187, B_17=None, B_18=0.5909224493795411, B_19=0.00016497064803129956, D_66=None, B_20=0.0015565614872772, D_68=None, S_12=0.1901717885310567, R_6=0.0017710013627252, S_13=0.5614240497808404, B_21=0.0081251188996289, D_69=None, B_22=0.0083936041510978, D_70=0.0006059848239608834, D_71=0.0119452115531256, D_72=0.0022830763527001, S_15=0.6058869469962139, B_23=0.2083810375543382, D_73=0.1795015821058131, P_4=0.9616667851882088, D_74=0.21652640177591, D_75=0.2065695402789263, D_76=None, B_24=0.0045485611636155, R_7=0.0030979239061784, D_77=None, B_25=0.0036818069736911, B_26=0.0055160944213828, D_78=0.0015062690328601, D_79=0.0010134315500849, R_8=0.0064437574587517, R_9=None, S_16=0.0071691752160459, D_80=0.0030769974463397, R_10=0.0058801340030867, R_11=0.0040563593180009, B_27=0.0096344095557549, D_81=0.0012253420245614, D_82=0.5086807320308524, S_17=0.0073187813348122, R_12=1.0038305164238288, B_28=0.1446258100177154, R_13=0.0053004905291878, D_83=None, R_14=0.0014768172084553, R_15=0.0020832660177137, D_84=0.0022339319643666, R_16=0.0055228989854458, B_29=None, B_30=0.0, S_18=0.0064095660909572, D_86=0.0074584583277126, D_87=None, R_17=0.0008425945502174637, R_18=0.0074573062562442, D_88=None, B_31=1, S_19=0.0051204236455037, R_19=0.0023817193824207, B_32=0.0065568745520579, S_20=0.0016909183163709, R_20=0.0044488501596649, R_21=0.0005743746917579962, B_33=1.0046286567655311, D_89=0.0043939651197205, R_22=0.0011686831126464, R_23=0.0066934624906413, D_91=None, D_92=0.0043182333099497, D_93=0.0080723931287176, D_94=0.0078882093440259, R_24=0.0076557999170541, R_25=0.0063469021803713, D_96=0.0069517652286812, S_22=0.9669946961391608, S_23=0.1385314357142094, S_24=0.9570186041395132, S_25=0.9750032249908194, S_26=0.0046106225057715, D_102=0.0065485765068897, D_103=0.0030309497910724, D_104=0.008755414609199, D_105=None, D_106=None, D_107=0.0046976294080743, B_36=7.76607988397704e-05, B_37=0.0154626187243835, R_26=None, R_27=1.0076657023659858, B_38=1.0, D_108=None, D_109=0.000609953467698462, D_110=None, D_111=None, B_39=None, D_112=1.0044948731298502, B_40=0.3536390056455989, S_27=0.2766228085666539, D_113=None, D_114=None, D_115=None, D_116=None, D_117=None, D_118=None, D_119=None, D_120=None, D_121=None, D_122=None, D_123=None, D_124=None, D_125=None, D_126=0.0, D_127=0.0038332769371992, D_128=0.0087820054013037, D_129=0.0055785012876914, B_41=0.0074412930327789, B_42=None, D_130=0.0075984978900988, D_131=0.008074339204497, D_132=None, D_133=0.0071878704243873, R_28=0.0012527365960552, D_134=None, D_135=None, D_136=None, D_137=None, D_138=None, D_139=0.0001420210291239854, D_140=0.004939899911698, D_141=0.0090213834243855, D_142=None, D_143=0.0036952732565555, D_144=0.003752937615896, D_145=0.0014599699636628, D_63=1.0, D_64=3.0, B_6_imputed=0.1771154612144639, R_10_imputed=0.0058801340030867, D_78_imputed=0.0015062690328601, B_2_imputed=0.8108478013948842, D_52_imputed=0.120990861545609, S_11_imputed=2.0432781356653336, D_60_imputed=0.0547896295277103, D_145_imputed=0.0014599699636628, D_45_imputed=0.0094974185177818, D_121_imputed=0.5967873274638978, D_48_imputed=0.6116821192991609, D_118_imputed=0.2221894433689217, R_16_imputed=0.0055228989854458, B_33_imputed=1.0046286567655311, R_6_imputed=0.0017710013627252, D_124_imputed=0.2743298072252347, B_3_imputed=0.0091318432435674, D_119_imputed=0.2147497372708929, B_4_imputed=0.1348782299564203, P_2_imputed=0.5870422600496985, R_8_imputed=0.0064437574587517, S_17_imputed=0.0073187813348122, D_77_imputed=0.206188333634164, B_12_imputed=0.1214895541514009, B_5_imputed=0.0263128097320897, D_43_imputed=0.0890166551196397, D_113_imputed=0.0087246164830012, S_26_imputed=0.0046106225057715, B_14_imputed=0.0251299139999351, D_41_imputed=0.00016584141313932932, R_20_imputed=0.0044488501596649, S_3_imputed=0.2413889625766217, R_1_imputed=0.0018171296454829, R_7_imputed=0.0030979239061784, D_84_imputed=0.0022339319643666, B_16_imputed=0.0008349652581697187, D_139_imputed=0.0001420210291239854, D_58_imputed=0.4032698876234646, S_18_imputed=0.0064095660909572, D_55_imputed=0.1841158724984118, D_109_imputed=0.000609953467698462, B_27_imputed=0.0096344095557549, D_125_imputed=0.005414301284317, D_130_imputed=0.0075984978900988, D_54_imputed=1.000431553280504, D_80_imputed=0.0030769974463397, B_15_imputed=0.0217041465528444, B_7_imputed=0.2341687531509137, B_22_imputed=0.0083936041510978, B_1_imputed=0.0110263694322631, B_11_imputed=0.0100029971432868, S_15_imputed=0.6058869469962139, S_9_imputed=0.0144907964053945, R_17_imputed=0.0008425945502174637, B_17_imputed=0.9330073390935812, B_18_imputed=0.5909224493795411, D_44_imputed=0.0066461181239875, R_15_imputed=0.0020832660177137, B_19_imputed=0.00016497064803129956, D_112_imputed=1.0044948731298502, D_82_imputed=0.5086807320308524, B_24_imputed=0.0045485611636155, R_3_imputed=0.1012391232137625, D_53_imputed=0.0134612873598141, S_16_imputed=0.0071691752160459, D_39_imputed=0.0052751643361475, D_141_imputed=0.0090213834243855, R_25_imputed=0.0063469021803713, S_13_imputed=0.5614240497808404, R_28_imputed=0.0012527365960552, D_47_imputed=0.4735872420311807, D_123_imputed=0.0052608113730209, B_25_imputed=0.0036818069736911, D_81_imputed=0.0012253420245614, B_21_imputed=0.0081251188996289, R_5_imputed=0.007156270484363, S_25_imputed=0.9750032249908194, R_14_imputed=0.0014768172084553, D_70_imputed=0.0006059848239608834, D_104_imputed=0.008755414609199, B_36_imputed=7.76607988397704e-05, R_13_imputed=0.0053004905291878, R_23_imputed=0.0066934624906413, D_79_imputed=0.0010134315500849, S_6_imputed=1.005727667531644, D_133_imputed=0.0071878704243873, D_72_imputed=0.0022830763527001, S_7_imputed=0.1605621512489794, D_115_imputed=0.2006776161876414, R_2_imputed=0.0090288749440806, D_94_imputed=0.0078882093440259, P_4_imputed=0.9616667851882088, R_27_imputed=1.0076657023659858, P_3_imputed=0.6185226968206566, D_143_imputed=0.0036952732565555, R_24_imputed=0.0076557999170541, D_92_imputed=0.0043182333099497, B_37_imputed=0.0154626187243835, D_62_imputed=0.0575674603213733, B_28_imputed=0.1446258100177154, D_140_imputed=0.004939899911698, D_107_imputed=0.0046976294080743, D_51_imputed=0.0031456193877579, D_69_imputed=0.0051763079618301, D_46_imputed=0.4601944944899775, S_5_imputed=0.006496548430664, S_20_imputed=0.0016909183163709, S_19_imputed=0.0051204236455037, D_122_imputed=0.4292464014592431, R_18_imputed=0.0074573062562442, S_23_imputed=0.1385314357142094, B_20_imputed=0.0015565614872772, R_4_imputed=0.000525443513698548, D_144_imputed=0.003752937615896, D_93_imputed=0.0080723931287176, B_13_imputed=0.0283470492674365, D_127_imputed=0.0038332769371992, D_96_imputed=0.0069517652286812, B_40_imputed=0.3536390056455989, B_9_imputed=0.0055332543139661, B_41_imputed=0.0074412930327789, D_65_imputed=0.0020113163078847, B_32_imputed=0.0065568745520579, D_129_imputed=0.0055785012876914, D_50_imputed=0.1099526968207191, D_89_imputed=0.0043939651197205, D_86_imputed=0.0074584583277126, B_8_imputed=1.009301319067151, D_59_imputed=0.3791191995501123, R_21_imputed=0.0005743746917579962, D_128_imputed=0.0087820054013037, D_71_imputed=0.0119452115531256, S_24_imputed=0.9570186041395132, S_22_imputed=0.9669946961391608, S_12_imputed=0.1901717885310567, S_27_imputed=0.2766228085666539, D_103_imputed=0.0030309497910724, R_19_imputed=0.0023817193824207, R_11_imputed=0.0040563593180009, D_83_imputed=0.0051357843101363, S_8_imputed=0.1707277455597194, B_23_imputed=0.2083810375543382, D_75_imputed=0.2065695402789263, B_26_imputed=0.0055160944213828, D_56_imputed=0.1499532805737759, D_102_imputed=0.0065485765068897, R_22_imputed=0.0011686831126464, D_74_imputed=0.21652640177591, R_12_imputed=1.0038305164238288, D_91_imputed=0.0055695786388981, D_105_imputed=0.3344427099914179, B_10_imputed=0.03122150594579, D_131_imputed=0.008074339204497, D_61_imputed=0.6228861777560063)]"
     ]
    }
   ],
   "source": [
    "data_imputed_floats_test.head(2)"
   ]
  },
  {
   "cell_type": "markdown",
   "id": "7d1168b0",
   "metadata": {},
   "source": [
    "#### Impute categorical variables using method='median': 'mode' was not available"
   ]
  },
  {
   "cell_type": "code",
   "execution_count": 48,
   "id": "409697de",
   "metadata": {},
   "outputs": [
    {
     "data": {
      "application/vnd.jupyter.widget-view+json": {
       "model_id": "f5064ed788c54a84a91b8b6b1c05fc75",
       "version_major": 2,
       "version_minor": 0
      },
      "text/plain": [
       "VBox()"
      ]
     },
     "metadata": {},
     "output_type": "display_data"
    },
    {
     "data": {
      "application/vnd.jupyter.widget-view+json": {
       "model_id": "",
       "version_major": 2,
       "version_minor": 0
      },
      "text/plain": [
       "FloatProgress(value=0.0, bar_style='info', description='Progress:', layout=Layout(height='25px', width='50%'),…"
      ]
     },
     "metadata": {},
     "output_type": "display_data"
    },
    {
     "name": "stdout",
     "output_type": "stream",
     "text": [
      "DataFrame[customer_ID: string, S_2: timestamp, P_2: double, D_39: double, B_1: double, B_2: double, R_1: double, S_3: double, D_41: double, B_3: double, D_42: double, D_43: double, D_44: double, B_4: double, D_45: double, B_5: double, R_2: double, D_46: double, D_47: double, D_48: double, D_49: double, B_6: double, B_7: double, B_8: double, D_50: double, D_51: double, B_9: double, R_3: double, D_52: double, P_3: double, B_10: double, D_53: double, S_5: double, B_11: double, S_6: double, D_54: double, R_4: double, S_7: double, B_12: double, S_8: double, D_55: double, D_56: double, B_13: double, R_5: double, D_58: double, S_9: double, B_14: double, D_59: double, D_60: double, D_61: double, B_15: double, S_11: double, D_62: double, D_65: double, B_16: double, B_17: double, B_18: double, B_19: double, D_66: double, B_20: double, D_68: double, S_12: double, R_6: double, S_13: double, B_21: double, D_69: double, B_22: double, D_70: double, D_71: double, D_72: double, S_15: double, B_23: double, D_73: double, P_4: double, D_74: double, D_75: double, D_76: double, B_24: double, R_7: double, D_77: double, B_25: double, B_26: double, D_78: double, D_79: double, R_8: double, R_9: double, S_16: double, D_80: double, R_10: double, R_11: double, B_27: double, D_81: double, D_82: double, S_17: double, R_12: double, B_28: double, R_13: double, D_83: double, R_14: double, R_15: double, D_84: double, R_16: double, B_29: double, B_30: double, S_18: double, D_86: double, D_87: double, R_17: double, R_18: double, D_88: double, B_31: int, S_19: double, R_19: double, B_32: double, S_20: double, R_20: double, R_21: double, B_33: double, D_89: double, R_22: double, R_23: double, D_91: double, D_92: double, D_93: double, D_94: double, R_24: double, R_25: double, D_96: double, S_22: double, S_23: double, S_24: double, S_25: double, S_26: double, D_102: double, D_103: double, D_104: double, D_105: double, D_106: double, D_107: double, B_36: double, B_37: double, R_26: double, R_27: double, B_38: double, D_108: double, D_109: double, D_110: double, D_111: double, B_39: double, D_112: double, B_40: double, S_27: double, D_113: double, D_114: double, D_115: double, D_116: double, D_117: double, D_118: double, D_119: double, D_120: double, D_121: double, D_122: double, D_123: double, D_124: double, D_125: double, D_126: double, D_127: double, D_128: double, D_129: double, B_41: double, B_42: double, D_130: double, D_131: double, D_132: double, D_133: double, R_28: double, D_134: double, D_135: double, D_136: double, D_137: double, D_138: double, D_139: double, D_140: double, D_141: double, D_142: double, D_143: double, D_144: double, D_145: double, D_63: double, D_64: double, B_6_imputed: double, R_10_imputed: double, D_78_imputed: double, B_2_imputed: double, D_52_imputed: double, S_11_imputed: double, D_60_imputed: double, D_145_imputed: double, D_45_imputed: double, D_121_imputed: double, D_48_imputed: double, D_118_imputed: double, R_16_imputed: double, B_33_imputed: double, R_6_imputed: double, D_124_imputed: double, B_3_imputed: double, D_119_imputed: double, B_4_imputed: double, P_2_imputed: double, R_8_imputed: double, S_17_imputed: double, D_77_imputed: double, B_12_imputed: double, B_5_imputed: double, D_43_imputed: double, D_113_imputed: double, S_26_imputed: double, B_14_imputed: double, D_41_imputed: double, R_20_imputed: double, S_3_imputed: double, R_1_imputed: double, R_7_imputed: double, D_84_imputed: double, B_16_imputed: double, D_139_imputed: double, D_58_imputed: double, S_18_imputed: double, D_55_imputed: double, D_109_imputed: double, B_27_imputed: double, D_125_imputed: double, D_130_imputed: double, D_54_imputed: double, D_80_imputed: double, B_15_imputed: double, B_7_imputed: double, B_22_imputed: double, B_1_imputed: double, B_11_imputed: double, S_15_imputed: double, S_9_imputed: double, R_17_imputed: double, B_17_imputed: double, B_18_imputed: double, D_44_imputed: double, R_15_imputed: double, B_19_imputed: double, D_112_imputed: double, D_82_imputed: double, B_24_imputed: double, R_3_imputed: double, D_53_imputed: double, S_16_imputed: double, D_39_imputed: double, D_141_imputed: double, R_25_imputed: double, S_13_imputed: double, R_28_imputed: double, D_47_imputed: double, D_123_imputed: double, B_25_imputed: double, D_81_imputed: double, B_21_imputed: double, R_5_imputed: double, S_25_imputed: double, R_14_imputed: double, D_70_imputed: double, D_104_imputed: double, B_36_imputed: double, R_13_imputed: double, R_23_imputed: double, D_79_imputed: double, S_6_imputed: double, D_133_imputed: double, D_72_imputed: double, S_7_imputed: double, D_115_imputed: double, R_2_imputed: double, D_94_imputed: double, P_4_imputed: double, R_27_imputed: double, P_3_imputed: double, D_143_imputed: double, R_24_imputed: double, D_92_imputed: double, B_37_imputed: double, D_62_imputed: double, B_28_imputed: double, D_140_imputed: double, D_107_imputed: double, D_51_imputed: double, D_69_imputed: double, D_46_imputed: double, S_5_imputed: double, S_20_imputed: double, S_19_imputed: double, D_122_imputed: double, R_18_imputed: double, S_23_imputed: double, B_20_imputed: double, R_4_imputed: double, D_144_imputed: double, D_93_imputed: double, B_13_imputed: double, D_127_imputed: double, D_96_imputed: double, B_40_imputed: double, B_9_imputed: double, B_41_imputed: double, D_65_imputed: double, B_32_imputed: double, D_129_imputed: double, D_50_imputed: double, D_89_imputed: double, D_86_imputed: double, B_8_imputed: double, D_59_imputed: double, R_21_imputed: double, D_128_imputed: double, D_71_imputed: double, S_24_imputed: double, S_22_imputed: double, S_12_imputed: double, S_27_imputed: double, D_103_imputed: double, R_19_imputed: double, R_11_imputed: double, D_83_imputed: double, S_8_imputed: double, B_23_imputed: double, D_75_imputed: double, B_26_imputed: double, D_56_imputed: double, D_102_imputed: double, R_22_imputed: double, D_74_imputed: double, R_12_imputed: double, D_91_imputed: double, D_105_imputed: double, B_10_imputed: double, D_131_imputed: double, D_61_imputed: double, D_63_imputed: double, D_66_imputed: double, D_114_imputed: double, D_64_imputed: double, B_30_imputed: double, D_120_imputed: double, D_117_imputed: double, D_68_imputed: double, D_116_imputed: double, B_38_imputed: double, D_126_imputed: double]"
     ]
    }
   ],
   "source": [
    "imputer = Imputer()\n",
    "imputer.setInputCols(categorical_variables)\n",
    "imputer.setOutputCols([\"{}_imputed\".format(c) for c in categorical_variables]).setStrategy(\"median\")\n",
    "\n",
    "cat_imputer = imputer.fit(data_imputed_floats)\n",
    "data_imputed = cat_imputer.transform(data_imputed_floats)\n",
    "data_imputed"
   ]
  },
  {
   "cell_type": "code",
   "execution_count": 49,
   "id": "4987f9d4",
   "metadata": {},
   "outputs": [
    {
     "data": {
      "application/vnd.jupyter.widget-view+json": {
       "model_id": "ea638d261c1e4f688127ad9a8c851d18",
       "version_major": 2,
       "version_minor": 0
      },
      "text/plain": [
       "VBox()"
      ]
     },
     "metadata": {},
     "output_type": "display_data"
    },
    {
     "data": {
      "application/vnd.jupyter.widget-view+json": {
       "model_id": "",
       "version_major": 2,
       "version_minor": 0
      },
      "text/plain": [
       "FloatProgress(value=0.0, bar_style='info', description='Progress:', layout=Layout(height='25px', width='50%'),…"
      ]
     },
     "metadata": {},
     "output_type": "display_data"
    },
    {
     "name": "stdout",
     "output_type": "stream",
     "text": [
      "355"
     ]
    }
   ],
   "source": [
    "len(data_imputed.columns)"
   ]
  },
  {
   "cell_type": "code",
   "execution_count": 50,
   "id": "ae48d6f1",
   "metadata": {},
   "outputs": [
    {
     "data": {
      "application/vnd.jupyter.widget-view+json": {
       "model_id": "9f595b15e47c4716b5656316c7cf20ac",
       "version_major": 2,
       "version_minor": 0
      },
      "text/plain": [
       "VBox()"
      ]
     },
     "metadata": {},
     "output_type": "display_data"
    },
    {
     "data": {
      "application/vnd.jupyter.widget-view+json": {
       "model_id": "",
       "version_major": 2,
       "version_minor": 0
      },
      "text/plain": [
       "FloatProgress(value=0.0, bar_style='info', description='Progress:', layout=Layout(height='25px', width='50%'),…"
      ]
     },
     "metadata": {},
     "output_type": "display_data"
    },
    {
     "name": "stdout",
     "output_type": "stream",
     "text": [
      "165"
     ]
    }
   ],
   "source": [
    "len(data_imputed[[\"{}_imputed\".format(c) for c in non_int_cols + categorical_variables]].columns)"
   ]
  },
  {
   "cell_type": "code",
   "execution_count": 51,
   "id": "19d01248",
   "metadata": {},
   "outputs": [
    {
     "data": {
      "application/vnd.jupyter.widget-view+json": {
       "model_id": "ab103aa939d84e5b95b1fca7b731de2e",
       "version_major": 2,
       "version_minor": 0
      },
      "text/plain": [
       "VBox()"
      ]
     },
     "metadata": {},
     "output_type": "display_data"
    },
    {
     "data": {
      "application/vnd.jupyter.widget-view+json": {
       "model_id": "",
       "version_major": 2,
       "version_minor": 0
      },
      "text/plain": [
       "FloatProgress(value=0.0, bar_style='info', description='Progress:', layout=Layout(height='25px', width='50%'),…"
      ]
     },
     "metadata": {},
     "output_type": "display_data"
    }
   ],
   "source": [
    "data_imputed_cats_test = cat_imputer.transform(data_imputed_floats_test)"
   ]
  },
  {
   "cell_type": "code",
   "execution_count": 52,
   "id": "2d8f6b82",
   "metadata": {},
   "outputs": [
    {
     "data": {
      "application/vnd.jupyter.widget-view+json": {
       "model_id": "7ca05948908c412197db1c6e2ba22610",
       "version_major": 2,
       "version_minor": 0
      },
      "text/plain": [
       "VBox()"
      ]
     },
     "metadata": {},
     "output_type": "display_data"
    },
    {
     "data": {
      "application/vnd.jupyter.widget-view+json": {
       "model_id": "",
       "version_major": 2,
       "version_minor": 0
      },
      "text/plain": [
       "FloatProgress(value=0.0, bar_style='info', description='Progress:', layout=Layout(height='25px', width='50%'),…"
      ]
     },
     "metadata": {},
     "output_type": "display_data"
    },
    {
     "name": "stdout",
     "output_type": "stream",
     "text": [
      "[Row(customer_ID='00000469ba478561f23a92a868bd366de6f6527a684c9a2e78fb826dcac3b9b7', S_2=datetime.datetime(2019, 2, 19, 0, 0), P_2=0.631315348870127, D_39=0.0019117764764965, B_1=0.0107280865415314, B_2=0.8144968588558597, R_1=0.0075468996994418, S_3=0.1686508406762685, D_41=0.0099714525530773, B_3=0.0023469930565875, D_42=0.1131888918343083, D_43=None, D_44=0.0075839407750031, B_4=0.1164022289247906, D_45=0.0044825219725134, B_5=0.0095167747593996, R_2=0.0051778780931715, D_46=None, D_47=0.4743833427304856, D_48=0.626466914148911, D_49=None, B_6=0.1745910796093573, B_7=1.2506765348178908, B_8=1.003925464255982, D_50=None, D_51=0.0087178835533091, B_9=0.0010129373793993, R_3=0.1035897430477255, D_52=0.119043469590424, P_3=None, B_10=-0.0029186420127821, D_53=None, S_5=0.0027711123379222, B_11=0.004416113504079, S_6=1.006874529728068, D_54=1.00506876306948, R_4=0.0028096914463902, S_7=0.1055866024109917, B_12=0.1191980794718266, S_8=0.3216764047819389, D_55=0.114563534989097, D_56=None, B_13=None, R_5=0.0034196325972029, D_58=0.2058978062413211, S_9=None, B_14=0.0101821949992621, D_59=None, D_60=0.0274716204903652, D_61=0.588733676107752, B_15=0.0104885773809582, S_11=1.8818559285777217, D_62=0.0518109698276886, D_65=0.0082942042300472, B_16=0.0086633901552287, B_17=None, B_18=0.5921032444767333, B_19=0.0091442201842515, D_66=None, B_20=0.0049855613006686, D_68=None, S_12=0.1905157519361465, R_6=0.0026754835499191, S_13=0.4094107748249437, B_21=0.0099904625374611, D_69=None, B_22=0.0052103932992153, D_70=None, D_71=0.014684133397169, D_72=0.0043102368654459, S_15=0.4006020403764978, B_23=1.134791884347522, D_73=0.1788623575629339, P_4=0.9595310811409858, D_74=0.2176940446257559, D_75=0.204589954105911, D_76=None, B_24=0.0097985116935037, R_7=0.0077483237228153, D_77=0.0029161078676739, B_25=0.0068955814765111, B_26=0.0016564517629348, D_78=0.0043556636859908, D_79=None, R_8=0.002008246572985, R_9=None, S_16=0.0025310279371157, D_80=0.00034759165029772497, R_10=0.0011726652183253, R_11=0.004170107247771, B_27=0.0045846575906647, D_81=0.002290601776514, D_82=0.5082396428902732, S_17=0.0050932090626759, R_12=1.0029436028282448, B_28=0.1338039355297952, R_13=0.0043219231982758, D_83=None, R_14=0.0088572607951145, R_15=0.004144092496696, D_84=0.0095631459861687, R_16=0.0069424109292112, B_29=None, B_30=0.0, S_18=0.0036835411645905, D_86=0.0099089635544764, D_87=None, R_17=0.0089076724844124, R_18=0.0029553880220606, D_88=None, B_31=1, S_19=0.0089993509524004, R_19=0.003417596496717, B_32=0.0022003819358453, S_20=0.0037809353189382, R_20=0.0029478228701652, R_21=0.0046346559420196, B_33=1.0038096815327509, D_89=0.0066533110279837, R_22=0.0074740705932512, R_23=0.0001915589277688601, D_91=None, D_92=0.0087611760936087, D_93=0.0008345857561396319, D_94=0.004388830987005, R_24=0.0041147382330872, R_25=0.0084419966462385, D_96=0.0095746123427522, S_22=0.9810776445601156, S_23=0.1349155480143613, S_24=0.9546644073632652, S_25=0.9710862619522238, S_26=0.0065621798049756, D_102=0.0024186148494916, D_103=None, D_104=None, D_105=None, D_106=None, D_107=None, B_36=0.0081455220137746, B_37=0.0079695635703971, R_26=None, R_27=None, B_38=1.0, D_108=None, D_109=0.0051237751317508, D_110=None, D_111=None, B_39=None, D_112=1.0041298744213385, B_40=0.27420255070435, S_27=0.0043015502682638, D_113=None, D_114=None, D_115=None, D_116=None, D_117=None, D_118=None, D_119=None, D_120=None, D_121=None, D_122=None, D_123=None, D_124=None, D_125=None, D_126=0.0, D_127=0.0062014636590596, D_128=None, D_129=None, B_41=0.0096643872850681, B_42=None, D_130=None, D_131=None, D_132=None, D_133=0.00708154839375, R_28=0.0059574614435868, D_134=None, D_135=None, D_136=None, D_137=None, D_138=None, D_139=None, D_140=0.0046687390870528, D_141=None, D_142=None, D_143=None, D_144=0.0082807231606915, D_145=None, D_63=1.0, D_64=3.0, B_6_imputed=0.1745910796093573, R_10_imputed=0.0011726652183253, D_78_imputed=0.0043556636859908, B_2_imputed=0.8144968588558597, D_52_imputed=0.119043469590424, S_11_imputed=1.8818559285777217, D_60_imputed=0.0274716204903652, D_145_imputed=0.0060772113237814, D_45_imputed=0.0044825219725134, D_121_imputed=0.5967873274638978, D_48_imputed=0.626466914148911, D_118_imputed=0.2221894433689217, R_16_imputed=0.0069424109292112, B_33_imputed=1.0038096815327509, R_6_imputed=0.0026754835499191, D_124_imputed=0.2743298072252347, B_3_imputed=0.0023469930565875, D_119_imputed=0.2147497372708929, B_4_imputed=0.1164022289247906, P_2_imputed=0.631315348870127, R_8_imputed=0.002008246572985, S_17_imputed=0.0050932090626759, D_77_imputed=0.0029161078676739, B_12_imputed=0.1191980794718266, B_5_imputed=0.0095167747593996, D_43_imputed=0.0890166551196397, D_113_imputed=0.0087246164830012, S_26_imputed=0.0065621798049756, B_14_imputed=0.0101821949992621, D_41_imputed=0.0099714525530773, R_20_imputed=0.0029478228701652, S_3_imputed=0.1686508406762685, R_1_imputed=0.0075468996994418, R_7_imputed=0.0077483237228153, D_84_imputed=0.0095631459861687, B_16_imputed=0.0086633901552287, D_139_imputed=0.0060893718171803, D_58_imputed=0.2058978062413211, S_18_imputed=0.0036835411645905, D_55_imputed=0.114563534989097, D_109_imputed=0.0051237751317508, B_27_imputed=0.0045846575906647, D_125_imputed=0.005414301284317, D_130_imputed=0.0062559932049224, D_54_imputed=1.00506876306948, D_80_imputed=0.00034759165029772497, B_15_imputed=0.0104885773809582, B_7_imputed=1.2506765348178908, B_22_imputed=0.0052103932992153, B_1_imputed=0.0107280865415314, B_11_imputed=0.004416113504079, S_15_imputed=0.4006020403764978, S_9_imputed=0.0195693544891457, R_17_imputed=0.0089076724844124, B_17_imputed=0.9330073390935812, B_18_imputed=0.5921032444767333, D_44_imputed=0.0075839407750031, R_15_imputed=0.004144092496696, B_19_imputed=0.0091442201842515, D_112_imputed=1.0041298744213385, D_82_imputed=0.5082396428902732, B_24_imputed=0.0097985116935037, R_3_imputed=0.1035897430477255, D_53_imputed=0.0134612873598141, S_16_imputed=0.0025310279371157, D_39_imputed=0.0019117764764965, D_141_imputed=0.0060792511312555, R_25_imputed=0.0084419966462385, S_13_imputed=0.4094107748249437, R_28_imputed=0.0059574614435868, D_47_imputed=0.4743833427304856, D_123_imputed=0.0052608113730209, B_25_imputed=0.0068955814765111, D_81_imputed=0.002290601776514, B_21_imputed=0.0099904625374611, R_5_imputed=0.0034196325972029, S_25_imputed=0.9710862619522238, R_14_imputed=0.0088572607951145, D_70_imputed=0.0068096105056577, D_104_imputed=0.0093429494185262, B_36_imputed=0.0081455220137746, R_13_imputed=0.0043219231982758, R_23_imputed=0.0001915589277688601, D_79_imputed=0.0055786319312428, S_6_imputed=1.006874529728068, D_133_imputed=0.00708154839375, D_72_imputed=0.0043102368654459, S_7_imputed=0.1055866024109917, D_115_imputed=0.2006776161876414, R_2_imputed=0.0051778780931715, D_94_imputed=0.004388830987005, P_4_imputed=0.9595310811409858, R_27_imputed=1.0044030918975797, P_3_imputed=0.6185226968206566, D_143_imputed=0.0060621208877647, R_24_imputed=0.0041147382330872, D_92_imputed=0.0087611760936087, B_37_imputed=0.0079695635703971, D_62_imputed=0.0518109698276886, B_28_imputed=0.1338039355297952, D_140_imputed=0.0046687390870528, D_107_imputed=0.0093208211362245, D_51_imputed=0.0087178835533091, D_69_imputed=0.0051763079618301, D_46_imputed=0.4601944944899775, S_5_imputed=0.0027711123379222, S_20_imputed=0.0037809353189382, S_19_imputed=0.0089993509524004, D_122_imputed=0.4292464014592431, R_18_imputed=0.0029553880220606, S_23_imputed=0.1349155480143613, B_20_imputed=0.0049855613006686, R_4_imputed=0.0028096914463902, D_144_imputed=0.0082807231606915, D_93_imputed=0.0008345857561396319, B_13_imputed=0.0297513948946488, D_127_imputed=0.0062014636590596, D_96_imputed=0.0095746123427522, B_40_imputed=0.27420255070435, B_9_imputed=0.0010129373793993, B_41_imputed=0.0096643872850681, D_65_imputed=0.0082942042300472, B_32_imputed=0.0022003819358453, D_129_imputed=0.0088967363062732, D_50_imputed=0.1099526968207191, D_89_imputed=0.0066533110279837, D_86_imputed=0.0099089635544764, B_8_imputed=1.003925464255982, D_59_imputed=0.3791191995501123, R_21_imputed=0.0046346559420196, D_128_imputed=1.0004391322993076, D_71_imputed=0.014684133397169, S_24_imputed=0.9546644073632652, S_22_imputed=0.9810776445601156, S_12_imputed=0.1905157519361465, S_27_imputed=0.0043015502682638, D_103_imputed=0.009321502960783, R_19_imputed=0.003417596496717, R_11_imputed=0.004170107247771, D_83_imputed=0.0051357843101363, S_8_imputed=0.3216764047819389, B_23_imputed=1.134791884347522, D_75_imputed=0.204589954105911, B_26_imputed=0.0016564517629348, D_56_imputed=0.1499532805737759, D_102_imputed=0.0024186148494916, R_22_imputed=0.0074740705932512, D_74_imputed=0.2176940446257559, R_12_imputed=1.0029436028282448, D_91_imputed=0.0055695786388981, D_105_imputed=0.3344427099914179, B_10_imputed=-0.0029186420127821, D_131_imputed=0.0055797738347698, D_61_imputed=0.588733676107752, D_63_imputed=1.0, D_66_imputed=1.0, D_114_imputed=1.0, D_64_imputed=3.0, B_30_imputed=0.0, D_120_imputed=0.0, D_117_imputed=3.0, D_68_imputed=6.0, D_116_imputed=0.0, B_38_imputed=1.0, D_126_imputed=0.0)]"
     ]
    }
   ],
   "source": [
    "data_imputed_cats_test.head(1)"
   ]
  },
  {
   "cell_type": "markdown",
   "id": "631f0945",
   "metadata": {},
   "source": [
    "#### List of columns for clean dataframe"
   ]
  },
  {
   "cell_type": "code",
   "execution_count": 53,
   "id": "f29b768a",
   "metadata": {},
   "outputs": [
    {
     "data": {
      "application/vnd.jupyter.widget-view+json": {
       "model_id": "d10ae817db87492ca52dcf784254309e",
       "version_major": 2,
       "version_minor": 0
      },
      "text/plain": [
       "VBox()"
      ]
     },
     "metadata": {},
     "output_type": "display_data"
    },
    {
     "data": {
      "application/vnd.jupyter.widget-view+json": {
       "model_id": "",
       "version_major": 2,
       "version_minor": 0
      },
      "text/plain": [
       "FloatProgress(value=0.0, bar_style='info', description='Progress:', layout=Layout(height='25px', width='50%'),…"
      ]
     },
     "metadata": {},
     "output_type": "display_data"
    },
    {
     "name": "stdout",
     "output_type": "stream",
     "text": [
      "1\n",
      "168"
     ]
    }
   ],
   "source": [
    "# int type columns\n",
    "int_col = [c[0] for c in data_indexed.dtypes if c[1] in [\"int\"]]\n",
    "int_col = [c for c in int_col if c in all_valid_cols]\n",
    "print(len(int_col))\n",
    "clean_col_lst = cols_to_exclude + [\"{}_imputed\".format(c) for c in categorical_variables] + [\"{}_imputed\".format(c) for c in non_int_cols] + int_col\n",
    "len(clean_col_lst)"
   ]
  },
  {
   "cell_type": "code",
   "execution_count": 54,
   "id": "30391113",
   "metadata": {},
   "outputs": [
    {
     "data": {
      "application/vnd.jupyter.widget-view+json": {
       "model_id": "de1b670d8dd54e908288ab5311175b5b",
       "version_major": 2,
       "version_minor": 0
      },
      "text/plain": [
       "VBox()"
      ]
     },
     "metadata": {},
     "output_type": "display_data"
    },
    {
     "data": {
      "application/vnd.jupyter.widget-view+json": {
       "model_id": "",
       "version_major": 2,
       "version_minor": 0
      },
      "text/plain": [
       "FloatProgress(value=0.0, bar_style='info', description='Progress:', layout=Layout(height='25px', width='50%'),…"
      ]
     },
     "metadata": {},
     "output_type": "display_data"
    },
    {
     "name": "stdout",
     "output_type": "stream",
     "text": [
      "['S_2', 'customer_ID', 'B_30_imputed', 'B_38_imputed', 'D_114_imputed', 'D_116_imputed', 'D_117_imputed', 'D_120_imputed', 'D_126_imputed', 'D_63_imputed', 'D_64_imputed', 'D_66_imputed', 'D_68_imputed', 'P_2_imputed', 'D_39_imputed', 'B_1_imputed', 'B_2_imputed', 'R_1_imputed', 'S_3_imputed', 'D_41_imputed', 'B_3_imputed', 'D_43_imputed', 'D_44_imputed', 'B_4_imputed', 'D_45_imputed', 'B_5_imputed', 'R_2_imputed', 'D_46_imputed', 'D_47_imputed', 'D_48_imputed', 'B_6_imputed', 'B_7_imputed', 'B_8_imputed', 'D_50_imputed', 'D_51_imputed', 'B_9_imputed', 'R_3_imputed', 'D_52_imputed', 'P_3_imputed', 'B_10_imputed', 'D_53_imputed', 'S_5_imputed', 'B_11_imputed', 'S_6_imputed', 'D_54_imputed', 'R_4_imputed', 'S_7_imputed', 'B_12_imputed', 'S_8_imputed', 'D_55_imputed', 'D_56_imputed', 'B_13_imputed', 'R_5_imputed', 'D_58_imputed', 'S_9_imputed', 'B_14_imputed', 'D_59_imputed', 'D_60_imputed', 'D_61_imputed', 'B_15_imputed', 'S_11_imputed', 'D_62_imputed', 'D_65_imputed', 'B_16_imputed', 'B_17_imputed', 'B_18_imputed', 'B_19_imputed', 'B_20_imputed', 'S_12_imputed', 'R_6_imputed', 'S_13_imputed', 'B_21_imputed', 'D_69_imputed', 'B_22_imputed', 'D_70_imputed', 'D_71_imputed', 'D_72_imputed', 'S_15_imputed', 'B_23_imputed', 'P_4_imputed', 'D_74_imputed', 'D_75_imputed', 'B_24_imputed', 'R_7_imputed', 'D_77_imputed', 'B_25_imputed', 'B_26_imputed', 'D_78_imputed', 'D_79_imputed', 'R_8_imputed', 'S_16_imputed', 'D_80_imputed', 'R_10_imputed', 'R_11_imputed', 'B_27_imputed', 'D_81_imputed', 'D_82_imputed', 'S_17_imputed', 'R_12_imputed', 'B_28_imputed', 'R_13_imputed', 'D_83_imputed', 'R_14_imputed', 'R_15_imputed', 'D_84_imputed', 'R_16_imputed', 'S_18_imputed', 'D_86_imputed', 'R_17_imputed', 'R_18_imputed', 'S_19_imputed', 'R_19_imputed', 'B_32_imputed', 'S_20_imputed', 'R_20_imputed', 'R_21_imputed', 'B_33_imputed', 'D_89_imputed', 'R_22_imputed', 'R_23_imputed', 'D_91_imputed', 'D_92_imputed', 'D_93_imputed', 'D_94_imputed', 'R_24_imputed', 'R_25_imputed', 'D_96_imputed', 'S_22_imputed', 'S_23_imputed', 'S_24_imputed', 'S_25_imputed', 'S_26_imputed', 'D_102_imputed', 'D_103_imputed', 'D_104_imputed', 'D_105_imputed', 'D_107_imputed', 'B_36_imputed', 'B_37_imputed', 'R_27_imputed', 'D_109_imputed', 'D_112_imputed', 'B_40_imputed', 'S_27_imputed', 'D_113_imputed', 'D_115_imputed', 'D_118_imputed', 'D_119_imputed', 'D_121_imputed', 'D_122_imputed', 'D_123_imputed', 'D_124_imputed', 'D_125_imputed', 'D_127_imputed', 'D_128_imputed', 'D_129_imputed', 'B_41_imputed', 'D_130_imputed', 'D_131_imputed', 'D_133_imputed', 'R_28_imputed', 'D_139_imputed', 'D_140_imputed', 'D_141_imputed', 'D_143_imputed', 'D_144_imputed', 'D_145_imputed', 'B_31']"
     ]
    }
   ],
   "source": [
    "data_clean = data_imputed[[clean_col_lst]]\n",
    "data_clean.columns"
   ]
  },
  {
   "cell_type": "code",
   "execution_count": 55,
   "id": "351c217c",
   "metadata": {},
   "outputs": [
    {
     "data": {
      "application/vnd.jupyter.widget-view+json": {
       "model_id": "0f20ac74b10c483dae9732c307fcb8bf",
       "version_major": 2,
       "version_minor": 0
      },
      "text/plain": [
       "VBox()"
      ]
     },
     "metadata": {},
     "output_type": "display_data"
    },
    {
     "data": {
      "application/vnd.jupyter.widget-view+json": {
       "model_id": "",
       "version_major": 2,
       "version_minor": 0
      },
      "text/plain": [
       "FloatProgress(value=0.0, bar_style='info', description='Progress:', layout=Layout(height='25px', width='50%'),…"
      ]
     },
     "metadata": {},
     "output_type": "display_data"
    },
    {
     "name": "stdout",
     "output_type": "stream",
     "text": [
      "['S_2', 'customer_ID', 'B_30_imputed', 'B_38_imputed', 'D_114_imputed', 'D_116_imputed', 'D_117_imputed', 'D_120_imputed', 'D_126_imputed', 'D_63_imputed', 'D_64_imputed', 'D_66_imputed', 'D_68_imputed', 'P_2_imputed', 'D_39_imputed', 'B_1_imputed', 'B_2_imputed', 'R_1_imputed', 'S_3_imputed', 'D_41_imputed', 'B_3_imputed', 'D_43_imputed', 'D_44_imputed', 'B_4_imputed', 'D_45_imputed', 'B_5_imputed', 'R_2_imputed', 'D_46_imputed', 'D_47_imputed', 'D_48_imputed', 'B_6_imputed', 'B_7_imputed', 'B_8_imputed', 'D_50_imputed', 'D_51_imputed', 'B_9_imputed', 'R_3_imputed', 'D_52_imputed', 'P_3_imputed', 'B_10_imputed', 'D_53_imputed', 'S_5_imputed', 'B_11_imputed', 'S_6_imputed', 'D_54_imputed', 'R_4_imputed', 'S_7_imputed', 'B_12_imputed', 'S_8_imputed', 'D_55_imputed', 'D_56_imputed', 'B_13_imputed', 'R_5_imputed', 'D_58_imputed', 'S_9_imputed', 'B_14_imputed', 'D_59_imputed', 'D_60_imputed', 'D_61_imputed', 'B_15_imputed', 'S_11_imputed', 'D_62_imputed', 'D_65_imputed', 'B_16_imputed', 'B_17_imputed', 'B_18_imputed', 'B_19_imputed', 'B_20_imputed', 'S_12_imputed', 'R_6_imputed', 'S_13_imputed', 'B_21_imputed', 'D_69_imputed', 'B_22_imputed', 'D_70_imputed', 'D_71_imputed', 'D_72_imputed', 'S_15_imputed', 'B_23_imputed', 'P_4_imputed', 'D_74_imputed', 'D_75_imputed', 'B_24_imputed', 'R_7_imputed', 'D_77_imputed', 'B_25_imputed', 'B_26_imputed', 'D_78_imputed', 'D_79_imputed', 'R_8_imputed', 'S_16_imputed', 'D_80_imputed', 'R_10_imputed', 'R_11_imputed', 'B_27_imputed', 'D_81_imputed', 'D_82_imputed', 'S_17_imputed', 'R_12_imputed', 'B_28_imputed', 'R_13_imputed', 'D_83_imputed', 'R_14_imputed', 'R_15_imputed', 'D_84_imputed', 'R_16_imputed', 'S_18_imputed', 'D_86_imputed', 'R_17_imputed', 'R_18_imputed', 'S_19_imputed', 'R_19_imputed', 'B_32_imputed', 'S_20_imputed', 'R_20_imputed', 'R_21_imputed', 'B_33_imputed', 'D_89_imputed', 'R_22_imputed', 'R_23_imputed', 'D_91_imputed', 'D_92_imputed', 'D_93_imputed', 'D_94_imputed', 'R_24_imputed', 'R_25_imputed', 'D_96_imputed', 'S_22_imputed', 'S_23_imputed', 'S_24_imputed', 'S_25_imputed', 'S_26_imputed', 'D_102_imputed', 'D_103_imputed', 'D_104_imputed', 'D_105_imputed', 'D_107_imputed', 'B_36_imputed', 'B_37_imputed', 'R_27_imputed', 'D_109_imputed', 'D_112_imputed', 'B_40_imputed', 'S_27_imputed', 'D_113_imputed', 'D_115_imputed', 'D_118_imputed', 'D_119_imputed', 'D_121_imputed', 'D_122_imputed', 'D_123_imputed', 'D_124_imputed', 'D_125_imputed', 'D_127_imputed', 'D_128_imputed', 'D_129_imputed', 'B_41_imputed', 'D_130_imputed', 'D_131_imputed', 'D_133_imputed', 'R_28_imputed', 'D_139_imputed', 'D_140_imputed', 'D_141_imputed', 'D_143_imputed', 'D_144_imputed', 'D_145_imputed', 'B_31']"
     ]
    }
   ],
   "source": [
    "data_clean_test = data_imputed_cats_test[[clean_col_lst]]\n",
    "data_clean_test.columns"
   ]
  },
  {
   "cell_type": "markdown",
   "id": "0664492e",
   "metadata": {},
   "source": [
    "### Finding Cross Correlation of columns of type \"double\"\n",
    "\n",
    "Pyspark DataFrame does not have pandas equivalent of xcorr method.\n",
    "But it has Correlation.corr method which takes dataset and feature vectors as input.\n",
    "(https://spark.apache.org/docs/3.1.2/api/python/reference/api/pyspark.ml.stat.Correlation.html?highlight=correlation)\n",
    "\n",
    "To convert the columns to Vectors, I used the VectorAssembler method:\n",
    "``` from pyspark.ml.feature import VectorAssembler ```\n",
    "It wasn't clear that I had to use this from the errors I was getting. AFter some research, I found an example on StackOverflow.\n",
    "\n"
   ]
  },
  {
   "cell_type": "markdown",
   "id": "acf25845",
   "metadata": {},
   "source": [
    "Cross Correlation for float type columns"
   ]
  },
  {
   "cell_type": "code",
   "execution_count": 56,
   "id": "f3bda7a2",
   "metadata": {},
   "outputs": [
    {
     "data": {
      "application/vnd.jupyter.widget-view+json": {
       "model_id": "608824607f704c9fb1d35b0ee1a28b2b",
       "version_major": 2,
       "version_minor": 0
      },
      "text/plain": [
       "VBox()"
      ]
     },
     "metadata": {},
     "output_type": "display_data"
    },
    {
     "data": {
      "application/vnd.jupyter.widget-view+json": {
       "model_id": "",
       "version_major": 2,
       "version_minor": 0
      },
      "text/plain": [
       "FloatProgress(value=0.0, bar_style='info', description='Progress:', layout=Layout(height='25px', width='50%'),…"
      ]
     },
     "metadata": {},
     "output_type": "display_data"
    },
    {
     "name": "stdout",
     "output_type": "stream",
     "text": [
      "['corr_features']"
     ]
    }
   ],
   "source": [
    "# convert to vector column first\n",
    "imputed_non_int_cols = [\"{}_imputed\".format(c) for c in non_int_cols]\n",
    "vector_col = \"corr_features\"\n",
    "assembler = VectorAssembler(inputCols=imputed_non_int_cols, outputCol=vector_col)\n",
    "df_vector = assembler.transform(data_clean).select(vector_col)\n",
    "df_vector.columns"
   ]
  },
  {
   "cell_type": "code",
   "execution_count": 57,
   "id": "9c528e1b",
   "metadata": {},
   "outputs": [
    {
     "data": {
      "application/vnd.jupyter.widget-view+json": {
       "model_id": "c1b2e8ce18644c1a93c5611c92f2126d",
       "version_major": 2,
       "version_minor": 0
      },
      "text/plain": [
       "VBox()"
      ]
     },
     "metadata": {},
     "output_type": "display_data"
    },
    {
     "data": {
      "application/vnd.jupyter.widget-view+json": {
       "model_id": "",
       "version_major": 2,
       "version_minor": 0
      },
      "text/plain": [
       "FloatProgress(value=0.0, bar_style='info', description='Progress:', layout=Layout(height='25px', width='50%'),…"
      ]
     },
     "metadata": {},
     "output_type": "display_data"
    },
    {
     "name": "stdout",
     "output_type": "stream",
     "text": [
      "                             spearman(corr_features)\n",
      "0  DenseMatrix([[ 1.        , -0.1621399 , -0.478..."
     ]
    }
   ],
   "source": [
    "# dataset = spark.createDataFrame(data, ['features'])\n",
    "correlation = Correlation.corr(df_vector, vector_col, method='spearman')\n",
    "correlation.toPandas()"
   ]
  },
  {
   "cell_type": "code",
   "execution_count": 58,
   "id": "c2f1326c",
   "metadata": {},
   "outputs": [
    {
     "data": {
      "application/vnd.jupyter.widget-view+json": {
       "model_id": "a55346fb6a9f489291d4e95ee3884600",
       "version_major": 2,
       "version_minor": 0
      },
      "text/plain": [
       "VBox()"
      ]
     },
     "metadata": {},
     "output_type": "display_data"
    },
    {
     "data": {
      "application/vnd.jupyter.widget-view+json": {
       "model_id": "",
       "version_major": 2,
       "version_minor": 0
      },
      "text/plain": [
       "FloatProgress(value=0.0, bar_style='info', description='Progress:', layout=Layout(height='25px', width='50%'),…"
      ]
     },
     "metadata": {},
     "output_type": "display_data"
    },
    {
     "name": "stdout",
     "output_type": "stream",
     "text": [
      "23716"
     ]
    }
   ],
   "source": [
    "len(correlation.collect()[0][\"spearman({})\".format(vector_col)].values)"
   ]
  },
  {
   "cell_type": "code",
   "execution_count": 59,
   "id": "0c110719",
   "metadata": {},
   "outputs": [
    {
     "data": {
      "application/vnd.jupyter.widget-view+json": {
       "model_id": "0df81f45cc184cf6920bb696cff553f0",
       "version_major": 2,
       "version_minor": 0
      },
      "text/plain": [
       "VBox()"
      ]
     },
     "metadata": {},
     "output_type": "display_data"
    },
    {
     "data": {
      "application/vnd.jupyter.widget-view+json": {
       "model_id": "",
       "version_major": 2,
       "version_minor": 0
      },
      "text/plain": [
       "FloatProgress(value=0.0, bar_style='info', description='Progress:', layout=Layout(height='25px', width='50%'),…"
      ]
     },
     "metadata": {},
     "output_type": "display_data"
    },
    {
     "name": "stdout",
     "output_type": "stream",
     "text": [
      "array([[ 1.        , -0.1621399 , -0.47842691, ..., -0.1213763 ,\n",
      "        -0.01284764, -0.12476138],\n",
      "       [-0.1621399 ,  1.        ,  0.42687361, ...,  0.0239593 ,\n",
      "         0.0076399 ,  0.0239038 ],\n",
      "       [-0.47842691,  0.42687361,  1.        , ...,  0.09009239,\n",
      "         0.02901566,  0.09143725],\n",
      "       ...,\n",
      "       [-0.1213763 ,  0.0239593 ,  0.09009239, ...,  1.        ,\n",
      "         0.22758489,  0.42594676],\n",
      "       [-0.01284764,  0.0076399 ,  0.02901566, ...,  0.22758489,\n",
      "         1.        ,  0.22375393],\n",
      "       [-0.12476138,  0.0239038 ,  0.09143725, ...,  0.42594676,\n",
      "         0.22375393,  1.        ]])"
     ]
    }
   ],
   "source": [
    "np.reshape(correlation.collect()[0][\"spearman({})\".format(vector_col)].values,\n",
    "           (len(imputed_non_int_cols),len(imputed_non_int_cols)))\n"
   ]
  },
  {
   "cell_type": "markdown",
   "id": "94593f63",
   "metadata": {},
   "source": [
    "#### Reshaping the correlation matrix into columnList x columnList shape"
   ]
  },
  {
   "cell_type": "code",
   "execution_count": 60,
   "id": "b69bfca8",
   "metadata": {},
   "outputs": [
    {
     "data": {
      "application/vnd.jupyter.widget-view+json": {
       "model_id": "96c3a8d0961340ca95c9af5249031831",
       "version_major": 2,
       "version_minor": 0
      },
      "text/plain": [
       "VBox()"
      ]
     },
     "metadata": {},
     "output_type": "display_data"
    },
    {
     "data": {
      "application/vnd.jupyter.widget-view+json": {
       "model_id": "",
       "version_major": 2,
       "version_minor": 0
      },
      "text/plain": [
       "FloatProgress(value=0.0, bar_style='info', description='Progress:', layout=Layout(height='25px', width='50%'),…"
      ]
     },
     "metadata": {},
     "output_type": "display_data"
    },
    {
     "name": "stdout",
     "output_type": "stream",
     "text": [
      "          0         1         2    ...       151       152       153\n",
      "0    1.000000 -0.162140 -0.478427  ... -0.121376 -0.012848 -0.124761\n",
      "1   -0.162140  1.000000  0.426874  ...  0.023959  0.007640  0.023904\n",
      "2   -0.478427  0.426874  1.000000  ...  0.090092  0.029016  0.091437\n",
      "3    0.489942 -0.112510 -0.546878  ... -0.089589 -0.026620 -0.090728\n",
      "4   -0.237631  0.080908  0.180530  ...  0.033449  0.006149  0.033569\n",
      "..        ...       ...       ...  ...       ...       ...       ...\n",
      "149 -0.033586  0.005618  0.019627  ...  0.053918 -0.005623  0.052767\n",
      "150 -0.116013  0.023345  0.088016  ...  0.426148  0.239174  0.425157\n",
      "151 -0.121376  0.023959  0.090092  ...  1.000000  0.227585  0.425947\n",
      "152 -0.012848  0.007640  0.029016  ...  0.227585  1.000000  0.223754\n",
      "153 -0.124761  0.023904  0.091437  ...  0.425947  0.223754  1.000000\n",
      "\n",
      "[154 rows x 154 columns]"
     ]
    }
   ],
   "source": [
    "# Reshaping the correlation matrix into columnList x columnList shape\n",
    "data_xcorr = pd.DataFrame(np.reshape(correlation.collect()[0][\"spearman({})\".format\n",
    "                                                              (vector_col)].values,\n",
    "                                   (len(imputed_non_int_cols),len(imputed_non_int_cols))))\n",
    "data_xcorr"
   ]
  },
  {
   "cell_type": "markdown",
   "id": "10b45b09",
   "metadata": {},
   "source": [
    "### Changing column and index names to column names of double type to make it more readable"
   ]
  },
  {
   "cell_type": "code",
   "execution_count": 61,
   "id": "fdc92fc8",
   "metadata": {},
   "outputs": [
    {
     "data": {
      "application/vnd.jupyter.widget-view+json": {
       "model_id": "1c1f6a5ec4eb4d5b91467c7606e5a3e7",
       "version_major": 2,
       "version_minor": 0
      },
      "text/plain": [
       "VBox()"
      ]
     },
     "metadata": {},
     "output_type": "display_data"
    },
    {
     "data": {
      "application/vnd.jupyter.widget-view+json": {
       "model_id": "",
       "version_major": 2,
       "version_minor": 0
      },
      "text/plain": [
       "FloatProgress(value=0.0, bar_style='info', description='Progress:', layout=Layout(height='25px', width='50%'),…"
      ]
     },
     "metadata": {},
     "output_type": "display_data"
    },
    {
     "name": "stdout",
     "output_type": "stream",
     "text": [
      "               P_2_imputed  D_39_imputed  ...  D_144_imputed  D_145_imputed\n",
      "P_2_imputed       1.000000     -0.162140  ...      -0.012848      -0.124761\n",
      "D_39_imputed     -0.162140      1.000000  ...       0.007640       0.023904\n",
      "B_1_imputed      -0.478427      0.426874  ...       0.029016       0.091437\n",
      "B_2_imputed       0.489942     -0.112510  ...      -0.026620      -0.090728\n",
      "R_1_imputed      -0.237631      0.080908  ...       0.006149       0.033569\n",
      "...                    ...           ...  ...            ...            ...\n",
      "D_140_imputed    -0.033586      0.005618  ...      -0.005623       0.052767\n",
      "D_141_imputed    -0.116013      0.023345  ...       0.239174       0.425157\n",
      "D_143_imputed    -0.121376      0.023959  ...       0.227585       0.425947\n",
      "D_144_imputed    -0.012848      0.007640  ...       1.000000       0.223754\n",
      "D_145_imputed    -0.124761      0.023904  ...       0.223754       1.000000\n",
      "\n",
      "[154 rows x 154 columns]"
     ]
    }
   ],
   "source": [
    "data_xcorr.columns = imputed_non_int_cols\n",
    "data_xcorr.index = imputed_non_int_cols\n",
    "data_xcorr"
   ]
  },
  {
   "cell_type": "code",
   "execution_count": 62,
   "id": "d8fc431c",
   "metadata": {},
   "outputs": [
    {
     "data": {
      "application/vnd.jupyter.widget-view+json": {
       "model_id": "b9f515cb22e644518d6fac2b71db6cba",
       "version_major": 2,
       "version_minor": 0
      },
      "text/plain": [
       "VBox()"
      ]
     },
     "metadata": {},
     "output_type": "display_data"
    },
    {
     "data": {
      "application/vnd.jupyter.widget-view+json": {
       "model_id": "",
       "version_major": 2,
       "version_minor": 0
      },
      "text/plain": [
       "FloatProgress(value=0.0, bar_style='info', description='Progress:', layout=Layout(height='25px', width='50%'),…"
      ]
     },
     "metadata": {},
     "output_type": "display_data"
    }
   ],
   "source": [
    "data_xcorr_high = data_xcorr.stack()[data_xcorr.stack() > 0.7 ]"
   ]
  },
  {
   "cell_type": "code",
   "execution_count": 63,
   "id": "0e79b50a",
   "metadata": {},
   "outputs": [
    {
     "data": {
      "application/vnd.jupyter.widget-view+json": {
       "model_id": "3d312b0f325848bb85a76f084448a4d3",
       "version_major": 2,
       "version_minor": 0
      },
      "text/plain": [
       "VBox()"
      ]
     },
     "metadata": {},
     "output_type": "display_data"
    },
    {
     "data": {
      "application/vnd.jupyter.widget-view+json": {
       "model_id": "",
       "version_major": 2,
       "version_minor": 0
      },
      "text/plain": [
       "FloatProgress(value=0.0, bar_style='info', description='Progress:', layout=Layout(height='25px', width='50%'),…"
      ]
     },
     "metadata": {},
     "output_type": "display_data"
    },
    {
     "name": "stdout",
     "output_type": "stream",
     "text": [
      "154"
     ]
    }
   ],
   "source": [
    "data_xcorr_high[data_xcorr_high == 1].count()"
   ]
  },
  {
   "cell_type": "code",
   "execution_count": 64,
   "id": "3847eaa9",
   "metadata": {},
   "outputs": [
    {
     "data": {
      "application/vnd.jupyter.widget-view+json": {
       "model_id": "df7fa9834aa145a1843324ba81530031",
       "version_major": 2,
       "version_minor": 0
      },
      "text/plain": [
       "VBox()"
      ]
     },
     "metadata": {},
     "output_type": "display_data"
    },
    {
     "data": {
      "application/vnd.jupyter.widget-view+json": {
       "model_id": "",
       "version_major": 2,
       "version_minor": 0
      },
      "text/plain": [
       "FloatProgress(value=0.0, bar_style='info', description='Progress:', layout=Layout(height='25px', width='50%'),…"
      ]
     },
     "metadata": {},
     "output_type": "display_data"
    },
    {
     "name": "stdout",
     "output_type": "stream",
     "text": [
      "[('B_1_imputed', 'B_9_imputed'), ('B_1_imputed', 'B_11_imputed'), ('B_1_imputed', 'B_14_imputed'), ('B_1_imputed', 'B_25_imputed'), ('B_1_imputed', 'B_37_imputed'), ('B_2_imputed', 'B_18_imputed'), ('S_3_imputed', 'S_7_imputed'), ('B_3_imputed', 'B_16_imputed'), ('B_3_imputed', 'B_20_imputed'), ('B_4_imputed', 'B_7_imputed'), ('B_4_imputed', 'D_55_imputed'), ('B_4_imputed', 'D_58_imputed'), ('B_4_imputed', 'B_23_imputed'), ('B_4_imputed', 'D_74_imputed'), ('B_4_imputed', 'D_75_imputed'), ('B_4_imputed', 'B_28_imputed'), ('B_4_imputed', 'B_40_imputed'), ('D_47_imputed', 'D_121_imputed'), ('D_48_imputed', 'D_55_imputed'), ('D_48_imputed', 'D_61_imputed'), ('B_6_imputed', 'B_10_imputed'), ('B_6_imputed', 'B_18_imputed'), ('B_7_imputed', 'B_4_imputed'), ('B_7_imputed', 'D_55_imputed'), ('B_7_imputed', 'D_58_imputed'), ('B_7_imputed', 'B_23_imputed'), ('B_7_imputed', 'D_74_imputed'), ('B_7_imputed', 'D_75_imputed'), ('B_7_imputed', 'B_28_imputed'), ('B_7_imputed', 'B_40_imputed'), ('B_9_imputed', 'B_1_imputed'), ('B_9_imputed', 'B_25_imputed'), ('B_9_imputed', 'B_37_imputed'), ('B_10_imputed', 'B_6_imputed'), ('B_10_imputed', 'B_18_imputed'), ('S_5_imputed', 'S_24_imputed'), ('B_11_imputed', 'B_1_imputed'), ('B_11_imputed', 'B_14_imputed'), ('B_11_imputed', 'B_37_imputed'), ('S_7_imputed', 'S_3_imputed'), ('B_12_imputed', 'B_13_imputed'), ('D_55_imputed', 'B_4_imputed'), ('D_55_imputed', 'D_48_imputed'), ('D_55_imputed', 'B_7_imputed'), ('D_55_imputed', 'D_58_imputed'), ('D_55_imputed', 'D_61_imputed'), ('D_55_imputed', 'B_23_imputed'), ('D_55_imputed', 'D_75_imputed'), ('D_55_imputed', 'B_40_imputed'), ('B_13_imputed', 'B_12_imputed'), ('D_58_imputed', 'B_4_imputed'), ('D_58_imputed', 'B_7_imputed'), ('D_58_imputed', 'D_55_imputed'), ('D_58_imputed', 'B_23_imputed'), ('D_58_imputed', 'D_74_imputed'), ('D_58_imputed', 'D_75_imputed'), ('D_58_imputed', 'B_28_imputed'), ('D_58_imputed', 'B_40_imputed'), ('B_14_imputed', 'B_1_imputed'), ('B_14_imputed', 'B_11_imputed'), ('B_14_imputed', 'S_22_imputed'), ('B_14_imputed', 'S_24_imputed'), ('B_14_imputed', 'B_37_imputed'), ('D_61_imputed', 'D_48_imputed'), ('D_61_imputed', 'D_55_imputed'), ('B_16_imputed', 'B_3_imputed'), ('B_16_imputed', 'B_20_imputed'), ('B_18_imputed', 'B_2_imputed'), ('B_18_imputed', 'B_6_imputed'), ('B_18_imputed', 'B_10_imputed'), ('B_20_imputed', 'B_3_imputed'), ('B_20_imputed', 'B_16_imputed'), ('B_23_imputed', 'B_4_imputed'), ('B_23_imputed', 'B_7_imputed'), ('B_23_imputed', 'D_55_imputed'), ('B_23_imputed', 'D_58_imputed'), ('B_23_imputed', 'D_74_imputed'), ('B_23_imputed', 'D_75_imputed'), ('B_23_imputed', 'B_28_imputed'), ('B_23_imputed', 'B_40_imputed'), ('D_74_imputed', 'B_4_imputed'), ('D_74_imputed', 'B_7_imputed'), ('D_74_imputed', 'D_58_imputed'), ('D_74_imputed', 'B_23_imputed'), ('D_74_imputed', 'D_75_imputed'), ('D_74_imputed', 'B_40_imputed'), ('D_75_imputed', 'B_4_imputed'), ('D_75_imputed', 'B_7_imputed'), ('D_75_imputed', 'D_55_imputed'), ('D_75_imputed', 'D_58_imputed'), ('D_75_imputed', 'B_23_imputed'), ('D_75_imputed', 'D_74_imputed'), ('D_75_imputed', 'B_40_imputed'), ('B_25_imputed', 'B_1_imputed'), ('B_25_imputed', 'B_9_imputed'), ('B_25_imputed', 'B_37_imputed'), ('B_28_imputed', 'B_4_imputed'), ('B_28_imputed', 'B_7_imputed'), ('B_28_imputed', 'D_58_imputed'), ('B_28_imputed', 'B_23_imputed'), ('S_22_imputed', 'B_14_imputed'), ('S_22_imputed', 'S_24_imputed'), ('S_24_imputed', 'S_5_imputed'), ('S_24_imputed', 'B_14_imputed'), ('S_24_imputed', 'S_22_imputed'), ('D_102_imputed', 'D_103_imputed'), ('D_102_imputed', 'D_104_imputed'), ('D_102_imputed', 'D_107_imputed'), ('D_103_imputed', 'D_102_imputed'), ('D_103_imputed', 'D_104_imputed'), ('D_103_imputed', 'D_107_imputed'), ('D_104_imputed', 'D_102_imputed'), ('D_104_imputed', 'D_103_imputed'), ('D_104_imputed', 'D_107_imputed'), ('D_107_imputed', 'D_102_imputed'), ('D_107_imputed', 'D_103_imputed'), ('D_107_imputed', 'D_104_imputed'), ('B_37_imputed', 'B_1_imputed'), ('B_37_imputed', 'B_9_imputed'), ('B_37_imputed', 'B_11_imputed'), ('B_37_imputed', 'B_14_imputed'), ('B_37_imputed', 'B_25_imputed'), ('B_40_imputed', 'B_4_imputed'), ('B_40_imputed', 'B_7_imputed'), ('B_40_imputed', 'D_55_imputed'), ('B_40_imputed', 'D_58_imputed'), ('B_40_imputed', 'B_23_imputed'), ('B_40_imputed', 'D_74_imputed'), ('B_40_imputed', 'D_75_imputed'), ('D_115_imputed', 'D_118_imputed'), ('D_115_imputed', 'D_119_imputed'), ('D_118_imputed', 'D_115_imputed'), ('D_118_imputed', 'D_119_imputed'), ('D_119_imputed', 'D_115_imputed'), ('D_119_imputed', 'D_118_imputed'), ('D_121_imputed', 'D_47_imputed')]"
     ]
    }
   ],
   "source": [
    "df = data_xcorr_high[data_xcorr_high < 1]\n",
    "list(df.index)"
   ]
  },
  {
   "cell_type": "markdown",
   "id": "eb51a321",
   "metadata": {},
   "source": [
    "#### List of highly correlated variables to eliminate"
   ]
  },
  {
   "cell_type": "code",
   "execution_count": 65,
   "id": "ad1697b2",
   "metadata": {},
   "outputs": [
    {
     "data": {
      "application/vnd.jupyter.widget-view+json": {
       "model_id": "89670607e36045b58080fae9e4114b10",
       "version_major": 2,
       "version_minor": 0
      },
      "text/plain": [
       "VBox()"
      ]
     },
     "metadata": {},
     "output_type": "display_data"
    },
    {
     "data": {
      "application/vnd.jupyter.widget-view+json": {
       "model_id": "",
       "version_major": 2,
       "version_minor": 0
      },
      "text/plain": [
       "FloatProgress(value=0.0, bar_style='info', description='Progress:', layout=Layout(height='25px', width='50%'),…"
      ]
     },
     "metadata": {},
     "output_type": "display_data"
    },
    {
     "name": "stdout",
     "output_type": "stream",
     "text": [
      "13 ['B_1_imputed', 'B_2_imputed', 'S_3_imputed', 'B_3_imputed', 'B_4_imputed', 'D_47_imputed', 'D_48_imputed', 'B_6_imputed', 'S_5_imputed', 'B_12_imputed', 'S_22_imputed', 'D_102_imputed', 'D_115_imputed']\n",
      "***\n",
      "(27, ['B_9_imputed', 'B_11_imputed', 'B_14_imputed', 'B_25_imputed', 'B_37_imputed', 'B_18_imputed', 'S_7_imputed', 'B_16_imputed', 'B_20_imputed', 'B_7_imputed', 'D_55_imputed', 'D_58_imputed', 'B_23_imputed', 'D_74_imputed', 'D_75_imputed', 'B_28_imputed', 'B_40_imputed', 'D_121_imputed', 'D_61_imputed', 'B_10_imputed', 'S_24_imputed', 'B_13_imputed', 'D_103_imputed', 'D_104_imputed', 'D_107_imputed', 'D_118_imputed', 'D_119_imputed'])"
     ]
    }
   ],
   "source": [
    "# list of highly correlated variables to eliminate\n",
    "cols_lst = []\n",
    "replace_lst = []\n",
    "for tup in list(df.index):\n",
    "    if tup[0] not in cols_lst and tup[0] not in replace_lst:\n",
    "        cols_lst.append(tup[0])\n",
    "        if tup[1] not in cols_lst and tup[1] not in replace_lst:\n",
    "            replace_lst.append(tup[1])\n",
    "    elif tup[0] in cols_lst and tup[0] not in replace_lst:\n",
    "        if tup[1] not in cols_lst and tup[1] not in replace_lst:\n",
    "            replace_lst.append(tup[1])\n",
    "    \n",
    "print(len(cols_lst), cols_lst)\n",
    "print('***')\n",
    "len(replace_lst), replace_lst"
   ]
  },
  {
   "cell_type": "markdown",
   "id": "f8bf230e",
   "metadata": {},
   "source": [
    "#### From all the highly correlated columns, we have reduced the dimensionality to 16.\n",
    "We also have to add back the categorical variables and the columns that are not highly correlated to each other."
   ]
  },
  {
   "cell_type": "code",
   "execution_count": 66,
   "id": "99aa2377",
   "metadata": {},
   "outputs": [
    {
     "data": {
      "application/vnd.jupyter.widget-view+json": {
       "model_id": "e790cf62f23e4998acca888750671a6a",
       "version_major": 2,
       "version_minor": 0
      },
      "text/plain": [
       "VBox()"
      ]
     },
     "metadata": {},
     "output_type": "display_data"
    },
    {
     "data": {
      "application/vnd.jupyter.widget-view+json": {
       "model_id": "",
       "version_major": 2,
       "version_minor": 0
      },
      "text/plain": [
       "FloatProgress(value=0.0, bar_style='info', description='Progress:', layout=Layout(height='25px', width='50%'),…"
      ]
     },
     "metadata": {},
     "output_type": "display_data"
    },
    {
     "name": "stdout",
     "output_type": "stream",
     "text": [
      "127"
     ]
    }
   ],
   "source": [
    "reduced_columnList = [item for item in imputed_non_int_cols if item not in replace_lst]\n",
    "# clean_col_lst = columnList + categorical_variables\n",
    "# len(clean_col_lst), clean_col_lst\n",
    "len(reduced_columnList)"
   ]
  },
  {
   "cell_type": "markdown",
   "id": "2c9eb426",
   "metadata": {},
   "source": [
    "#### The number of columns of type float and that are not categorical has further reduced to 127 from a previous 154."
   ]
  },
  {
   "cell_type": "code",
   "execution_count": 67,
   "id": "f42d591d",
   "metadata": {},
   "outputs": [
    {
     "data": {
      "application/vnd.jupyter.widget-view+json": {
       "model_id": "792dc8fae1c8474899f14cdcb6c9a44e",
       "version_major": 2,
       "version_minor": 0
      },
      "text/plain": [
       "VBox()"
      ]
     },
     "metadata": {},
     "output_type": "display_data"
    },
    {
     "data": {
      "application/vnd.jupyter.widget-view+json": {
       "model_id": "",
       "version_major": 2,
       "version_minor": 0
      },
      "text/plain": [
       "FloatProgress(value=0.0, bar_style='info', description='Progress:', layout=Layout(height='25px', width='50%'),…"
      ]
     },
     "metadata": {},
     "output_type": "display_data"
    },
    {
     "name": "stdout",
     "output_type": "stream",
     "text": [
      "141"
     ]
    }
   ],
   "source": [
    "cleaned_col_lst = cols_to_exclude + reduced_columnList + [\"{}_imputed\".format(c) for c in categorical_variables] + int_col\n",
    "len(cleaned_col_lst)"
   ]
  },
  {
   "cell_type": "code",
   "execution_count": 68,
   "id": "7ba1a9c4",
   "metadata": {},
   "outputs": [
    {
     "data": {
      "application/vnd.jupyter.widget-view+json": {
       "model_id": "2bc7ddf91e5a49e8b3386f36601f1759",
       "version_major": 2,
       "version_minor": 0
      },
      "text/plain": [
       "VBox()"
      ]
     },
     "metadata": {},
     "output_type": "display_data"
    },
    {
     "data": {
      "application/vnd.jupyter.widget-view+json": {
       "model_id": "",
       "version_major": 2,
       "version_minor": 0
      },
      "text/plain": [
       "FloatProgress(value=0.0, bar_style='info', description='Progress:', layout=Layout(height='25px', width='50%'),…"
      ]
     },
     "metadata": {},
     "output_type": "display_data"
    },
    {
     "name": "stdout",
     "output_type": "stream",
     "text": [
      "['S_2', 'customer_ID', 'P_2_imputed', 'D_39_imputed', 'B_1_imputed', 'B_2_imputed', 'R_1_imputed', 'S_3_imputed', 'D_41_imputed', 'B_3_imputed', 'D_43_imputed', 'D_44_imputed', 'B_4_imputed', 'D_45_imputed', 'B_5_imputed', 'R_2_imputed', 'D_46_imputed', 'D_47_imputed', 'D_48_imputed', 'B_6_imputed', 'B_8_imputed', 'D_50_imputed', 'D_51_imputed', 'R_3_imputed', 'D_52_imputed', 'P_3_imputed', 'D_53_imputed', 'S_5_imputed', 'S_6_imputed', 'D_54_imputed', 'R_4_imputed', 'B_12_imputed', 'S_8_imputed', 'D_56_imputed', 'R_5_imputed', 'S_9_imputed', 'D_59_imputed', 'D_60_imputed', 'B_15_imputed', 'S_11_imputed', 'D_62_imputed', 'D_65_imputed', 'B_17_imputed', 'B_19_imputed', 'S_12_imputed', 'R_6_imputed', 'S_13_imputed', 'B_21_imputed', 'D_69_imputed', 'B_22_imputed', 'D_70_imputed', 'D_71_imputed', 'D_72_imputed', 'S_15_imputed', 'P_4_imputed', 'B_24_imputed', 'R_7_imputed', 'D_77_imputed', 'B_26_imputed', 'D_78_imputed', 'D_79_imputed', 'R_8_imputed', 'S_16_imputed', 'D_80_imputed', 'R_10_imputed', 'R_11_imputed', 'B_27_imputed', 'D_81_imputed', 'D_82_imputed', 'S_17_imputed', 'R_12_imputed', 'R_13_imputed', 'D_83_imputed', 'R_14_imputed', 'R_15_imputed', 'D_84_imputed', 'R_16_imputed', 'S_18_imputed', 'D_86_imputed', 'R_17_imputed', 'R_18_imputed', 'S_19_imputed', 'R_19_imputed', 'B_32_imputed', 'S_20_imputed', 'R_20_imputed', 'R_21_imputed', 'B_33_imputed', 'D_89_imputed', 'R_22_imputed', 'R_23_imputed', 'D_91_imputed', 'D_92_imputed', 'D_93_imputed', 'D_94_imputed', 'R_24_imputed', 'R_25_imputed', 'D_96_imputed', 'S_22_imputed', 'S_23_imputed', 'S_25_imputed', 'S_26_imputed', 'D_102_imputed', 'D_105_imputed', 'B_36_imputed', 'R_27_imputed', 'D_109_imputed', 'D_112_imputed', 'S_27_imputed', 'D_113_imputed', 'D_115_imputed', 'D_122_imputed', 'D_123_imputed', 'D_124_imputed', 'D_125_imputed', 'D_127_imputed', 'D_128_imputed', 'D_129_imputed', 'B_41_imputed', 'D_130_imputed', 'D_131_imputed', 'D_133_imputed', 'R_28_imputed', 'D_139_imputed', 'D_140_imputed', 'D_141_imputed', 'D_143_imputed', 'D_144_imputed', 'D_145_imputed', 'B_30_imputed', 'B_38_imputed', 'D_114_imputed', 'D_116_imputed', 'D_117_imputed', 'D_120_imputed', 'D_126_imputed', 'D_63_imputed', 'D_64_imputed', 'D_66_imputed', 'D_68_imputed', 'B_31']"
     ]
    }
   ],
   "source": [
    "data_cleaned = data_imputed[[cleaned_col_lst]]\n",
    "data_cleaned.columns"
   ]
  },
  {
   "cell_type": "code",
   "execution_count": 69,
   "id": "9605f5ea",
   "metadata": {},
   "outputs": [
    {
     "data": {
      "application/vnd.jupyter.widget-view+json": {
       "model_id": "df579304ff9e4c18988866030ec1dc62",
       "version_major": 2,
       "version_minor": 0
      },
      "text/plain": [
       "VBox()"
      ]
     },
     "metadata": {},
     "output_type": "display_data"
    },
    {
     "data": {
      "application/vnd.jupyter.widget-view+json": {
       "model_id": "",
       "version_major": 2,
       "version_minor": 0
      },
      "text/plain": [
       "FloatProgress(value=0.0, bar_style='info', description='Progress:', layout=Layout(height='25px', width='50%'),…"
      ]
     },
     "metadata": {},
     "output_type": "display_data"
    },
    {
     "name": "stdout",
     "output_type": "stream",
     "text": [
      "DataFrame[S_2: timestamp, customer_ID: string, P_2_imputed: double, D_39_imputed: double, B_1_imputed: double, B_2_imputed: double, R_1_imputed: double, S_3_imputed: double, D_41_imputed: double, B_3_imputed: double, D_43_imputed: double, D_44_imputed: double, B_4_imputed: double, D_45_imputed: double, B_5_imputed: double, R_2_imputed: double, D_46_imputed: double, D_47_imputed: double, D_48_imputed: double, B_6_imputed: double, B_8_imputed: double, D_50_imputed: double, D_51_imputed: double, R_3_imputed: double, D_52_imputed: double, P_3_imputed: double, D_53_imputed: double, S_5_imputed: double, S_6_imputed: double, D_54_imputed: double, R_4_imputed: double, B_12_imputed: double, S_8_imputed: double, D_56_imputed: double, R_5_imputed: double, S_9_imputed: double, D_59_imputed: double, D_60_imputed: double, B_15_imputed: double, S_11_imputed: double, D_62_imputed: double, D_65_imputed: double, B_17_imputed: double, B_19_imputed: double, S_12_imputed: double, R_6_imputed: double, S_13_imputed: double, B_21_imputed: double, D_69_imputed: double, B_22_imputed: double, D_70_imputed: double, D_71_imputed: double, D_72_imputed: double, S_15_imputed: double, P_4_imputed: double, B_24_imputed: double, R_7_imputed: double, D_77_imputed: double, B_26_imputed: double, D_78_imputed: double, D_79_imputed: double, R_8_imputed: double, S_16_imputed: double, D_80_imputed: double, R_10_imputed: double, R_11_imputed: double, B_27_imputed: double, D_81_imputed: double, D_82_imputed: double, S_17_imputed: double, R_12_imputed: double, R_13_imputed: double, D_83_imputed: double, R_14_imputed: double, R_15_imputed: double, D_84_imputed: double, R_16_imputed: double, S_18_imputed: double, D_86_imputed: double, R_17_imputed: double, R_18_imputed: double, S_19_imputed: double, R_19_imputed: double, B_32_imputed: double, S_20_imputed: double, R_20_imputed: double, R_21_imputed: double, B_33_imputed: double, D_89_imputed: double, R_22_imputed: double, R_23_imputed: double, D_91_imputed: double, D_92_imputed: double, D_93_imputed: double, D_94_imputed: double, R_24_imputed: double, R_25_imputed: double, D_96_imputed: double, S_22_imputed: double, S_23_imputed: double, S_25_imputed: double, S_26_imputed: double, D_102_imputed: double, D_105_imputed: double, B_36_imputed: double, R_27_imputed: double, D_109_imputed: double, D_112_imputed: double, S_27_imputed: double, D_113_imputed: double, D_115_imputed: double, D_122_imputed: double, D_123_imputed: double, D_124_imputed: double, D_125_imputed: double, D_127_imputed: double, D_128_imputed: double, D_129_imputed: double, B_41_imputed: double, D_130_imputed: double, D_131_imputed: double, D_133_imputed: double, R_28_imputed: double, D_139_imputed: double, D_140_imputed: double, D_141_imputed: double, D_143_imputed: double, D_144_imputed: double, D_145_imputed: double, B_30_imputed: double, B_38_imputed: double, D_114_imputed: double, D_116_imputed: double, D_117_imputed: double, D_120_imputed: double, D_126_imputed: double, D_63_imputed: double, D_64_imputed: double, D_66_imputed: double, D_68_imputed: double, B_31: int]"
     ]
    }
   ],
   "source": [
    "data_cleaned_test = data_imputed_cats_test[[cleaned_col_lst]]\n",
    "data_cleaned_test"
   ]
  },
  {
   "cell_type": "markdown",
   "id": "ac382f7c",
   "metadata": {},
   "source": [
    "### Load the training labels csv"
   ]
  },
  {
   "cell_type": "code",
   "execution_count": 70,
   "id": "a5d344cc",
   "metadata": {},
   "outputs": [
    {
     "data": {
      "application/vnd.jupyter.widget-view+json": {
       "model_id": "00d9980d108f4883a72c2c71b0012677",
       "version_major": 2,
       "version_minor": 0
      },
      "text/plain": [
       "VBox()"
      ]
     },
     "metadata": {},
     "output_type": "display_data"
    },
    {
     "data": {
      "application/vnd.jupyter.widget-view+json": {
       "model_id": "",
       "version_major": 2,
       "version_minor": 0
      },
      "text/plain": [
       "FloatProgress(value=0.0, bar_style='info', description='Progress:', layout=Layout(height='25px', width='50%'),…"
      ]
     },
     "metadata": {},
     "output_type": "display_data"
    },
    {
     "name": "stdout",
     "output_type": "stream",
     "text": [
      "  summary  ...              target\n",
      "0   count  ...              458913\n",
      "1    mean  ...  0.2589336105100531\n",
      "2  stddev  ...  0.4380495565491465\n",
      "3     min  ...                   0\n",
      "4     max  ...                   1\n",
      "\n",
      "[5 rows x 3 columns]"
     ]
    }
   ],
   "source": [
    "train_labels = spark.read.csv(\"s3://amexdefaultpredictionbucket/data/train_labels.csv\", \n",
    "                              header=True, inferSchema='true')\n",
    "train_labels.describe().toPandas()"
   ]
  },
  {
   "cell_type": "code",
   "execution_count": 71,
   "id": "1cfeaeaf",
   "metadata": {},
   "outputs": [
    {
     "data": {
      "application/vnd.jupyter.widget-view+json": {
       "model_id": "84a130554a3a47939bdbc0ad4aae3a3d",
       "version_major": 2,
       "version_minor": 0
      },
      "text/plain": [
       "VBox()"
      ]
     },
     "metadata": {},
     "output_type": "display_data"
    },
    {
     "data": {
      "application/vnd.jupyter.widget-view+json": {
       "model_id": "",
       "version_major": 2,
       "version_minor": 0
      },
      "text/plain": [
       "FloatProgress(value=0.0, bar_style='info', description='Progress:', layout=Layout(height='25px', width='50%'),…"
      ]
     },
     "metadata": {},
     "output_type": "display_data"
    },
    {
     "name": "stdout",
     "output_type": "stream",
     "text": [
      "458913"
     ]
    }
   ],
   "source": [
    "train_labels.count()"
   ]
  },
  {
   "cell_type": "code",
   "execution_count": 72,
   "id": "86df993f",
   "metadata": {},
   "outputs": [
    {
     "data": {
      "application/vnd.jupyter.widget-view+json": {
       "model_id": "b200075668b34145b167c9dfc2aa66bc",
       "version_major": 2,
       "version_minor": 0
      },
      "text/plain": [
       "VBox()"
      ]
     },
     "metadata": {},
     "output_type": "display_data"
    },
    {
     "data": {
      "application/vnd.jupyter.widget-view+json": {
       "model_id": "",
       "version_major": 2,
       "version_minor": 0
      },
      "text/plain": [
       "FloatProgress(value=0.0, bar_style='info', description='Progress:', layout=Layout(height='25px', width='50%'),…"
      ]
     },
     "metadata": {},
     "output_type": "display_data"
    }
   ],
   "source": [
    "# train_labels.show(10, vertical=True)"
   ]
  },
  {
   "cell_type": "markdown",
   "id": "6bf1522b",
   "metadata": {},
   "source": [
    "### Aggregate the records per customer"
   ]
  },
  {
   "cell_type": "markdown",
   "id": "c1158bca",
   "metadata": {},
   "source": [
    "In the train_labels dataframe, there is target variable per customer.\n",
    "We have to transform the train data in such a way that we aggregate rows per customer to get their trend in the last 12 months. This will result in one row per customer. We can then join the train_labels dataframe to this dataframe."
   ]
  },
  {
   "cell_type": "code",
   "execution_count": 73,
   "id": "7dce4497",
   "metadata": {},
   "outputs": [
    {
     "data": {
      "application/vnd.jupyter.widget-view+json": {
       "model_id": "36b2547166a64dcc88725f2412d1c071",
       "version_major": 2,
       "version_minor": 0
      },
      "text/plain": [
       "VBox()"
      ]
     },
     "metadata": {},
     "output_type": "display_data"
    },
    {
     "data": {
      "application/vnd.jupyter.widget-view+json": {
       "model_id": "",
       "version_major": 2,
       "version_minor": 0
      },
      "text/plain": [
       "FloatProgress(value=0.0, bar_style='info', description='Progress:', layout=Layout(height='25px', width='50%'),…"
      ]
     },
     "metadata": {},
     "output_type": "display_data"
    }
   ],
   "source": [
    "# We need avg of numeric columns per customerID\n",
    "data_numeric_per_customer = data_cleaned[[reduced_columnList + \n",
    "                                          ['customer_ID']]].groupBy('customer_ID').avg()\n"
   ]
  },
  {
   "cell_type": "code",
   "execution_count": 74,
   "id": "7495a75b",
   "metadata": {},
   "outputs": [
    {
     "data": {
      "application/vnd.jupyter.widget-view+json": {
       "model_id": "86c44cb6a4e64e30940203dfdd01f362",
       "version_major": 2,
       "version_minor": 0
      },
      "text/plain": [
       "VBox()"
      ]
     },
     "metadata": {},
     "output_type": "display_data"
    },
    {
     "data": {
      "application/vnd.jupyter.widget-view+json": {
       "model_id": "",
       "version_major": 2,
       "version_minor": 0
      },
      "text/plain": [
       "FloatProgress(value=0.0, bar_style='info', description='Progress:', layout=Layout(height='25px', width='50%'),…"
      ]
     },
     "metadata": {},
     "output_type": "display_data"
    }
   ],
   "source": [
    "data_numeric_per_customer_test = data_cleaned_test[[reduced_columnList + \n",
    "                                          ['customer_ID']]].groupBy('customer_ID').avg()"
   ]
  },
  {
   "cell_type": "markdown",
   "id": "f311d4d8",
   "metadata": {},
   "source": [
    "#### Sort the rows per customer in descending order of date column and get the first row which represents the latest record of the customer\n",
    "NOTE: class pyspark.sql.GroupedData does not have .last()"
   ]
  },
  {
   "cell_type": "code",
   "execution_count": 75,
   "id": "688e3e29",
   "metadata": {},
   "outputs": [
    {
     "data": {
      "application/vnd.jupyter.widget-view+json": {
       "model_id": "025409332ab4495b8fbe4dcd595ddf71",
       "version_major": 2,
       "version_minor": 0
      },
      "text/plain": [
       "VBox()"
      ]
     },
     "metadata": {},
     "output_type": "display_data"
    },
    {
     "data": {
      "application/vnd.jupyter.widget-view+json": {
       "model_id": "",
       "version_major": 2,
       "version_minor": 0
      },
      "text/plain": [
       "FloatProgress(value=0.0, bar_style='info', description='Progress:', layout=Layout(height='25px', width='50%'),…"
      ]
     },
     "metadata": {},
     "output_type": "display_data"
    }
   ],
   "source": [
    "from pyspark.sql import Window\n",
    "import pyspark.sql.functions as psf\n",
    "from pyspark.sql.functions import desc\n",
    "\n",
    "w1 = Window.partitionBy(\"customer_ID\").orderBy(desc(\"S_2\"))\n",
    "# df1 = df.withColumn(\"subgroup\", psf.sum(\"newcust\").over(w1))\n",
    "# w2 = Window.partitionBy(\"customer_ID\", \"subgroup\")\n",
    "# df2 = df1.withColumn(\"first_date\", psf.min(\"S_2\").over(w2))\n",
    "# w3 = Window.partitionBy(\"customer_ID\", \"subgroup\").orderBy(psf.desc(\"S_2\"))\n",
    "data_categ_per_customer = data_cleaned[[[\"{}_imputed\".format(c) \n",
    "                                         for c in categorical_variables] + \n",
    "                                        int_col + \n",
    "                                        ['customer_ID', 'S_2']]].withColumn(\n",
    "    \"rn\", psf.row_number().over(w1)).filter(\"rn = 1\").select(\n",
    "    [\"{}_imputed\".format(c) for c in categorical_variables] + int_col + \n",
    "    ['customer_ID', 'S_2'])"
   ]
  },
  {
   "cell_type": "code",
   "execution_count": 76,
   "id": "c398949a",
   "metadata": {},
   "outputs": [
    {
     "data": {
      "application/vnd.jupyter.widget-view+json": {
       "model_id": "e9cea157c94543049f39f8a0db521ce5",
       "version_major": 2,
       "version_minor": 0
      },
      "text/plain": [
       "VBox()"
      ]
     },
     "metadata": {},
     "output_type": "display_data"
    },
    {
     "data": {
      "application/vnd.jupyter.widget-view+json": {
       "model_id": "",
       "version_major": 2,
       "version_minor": 0
      },
      "text/plain": [
       "FloatProgress(value=0.0, bar_style='info', description='Progress:', layout=Layout(height='25px', width='50%'),…"
      ]
     },
     "metadata": {},
     "output_type": "display_data"
    },
    {
     "name": "stdout",
     "output_type": "stream",
     "text": [
      "[Row(B_30_imputed=1.0, B_38_imputed=7.0, D_114_imputed=0.0, D_116_imputed=0.0, D_117_imputed=2.0, D_120_imputed=0.0, D_126_imputed=1.0, D_63_imputed=0.0, D_64_imputed=1.0, D_66_imputed=1.0, D_68_imputed=3.0, B_31=1, customer_ID='000473eb907b57c8c23f652bba40f87fe7261273dda47034d46fc46821017e50', S_2=datetime.datetime(2018, 3, 8, 0, 0))]"
     ]
    }
   ],
   "source": [
    "data_categ_per_customer.take(1)"
   ]
  },
  {
   "cell_type": "code",
   "execution_count": 77,
   "id": "4452cdd4",
   "metadata": {},
   "outputs": [
    {
     "data": {
      "application/vnd.jupyter.widget-view+json": {
       "model_id": "254dd9179c6a4ad3abec54f70638d8d2",
       "version_major": 2,
       "version_minor": 0
      },
      "text/plain": [
       "VBox()"
      ]
     },
     "metadata": {},
     "output_type": "display_data"
    },
    {
     "data": {
      "application/vnd.jupyter.widget-view+json": {
       "model_id": "",
       "version_major": 2,
       "version_minor": 0
      },
      "text/plain": [
       "FloatProgress(value=0.0, bar_style='info', description='Progress:', layout=Layout(height='25px', width='50%'),…"
      ]
     },
     "metadata": {},
     "output_type": "display_data"
    },
    {
     "name": "stdout",
     "output_type": "stream",
     "text": [
      "[Row(B_30_imputed=0.0, B_38_imputed=3.0, D_114_imputed=1.0, D_116_imputed=0.0, D_117_imputed=2.0, D_120_imputed=0.0, D_126_imputed=1.0, D_63_imputed=0.0, D_64_imputed=0.0, D_66_imputed=1.0, D_68_imputed=6.0, B_31=1, customer_ID='000175a73a8417938a1aa41f87ec9ac5141fe67e5085ffaffa3a1d6048cbbbae', S_2=datetime.datetime(2019, 4, 22, 0, 0))]"
     ]
    }
   ],
   "source": [
    "w1_test = Window.partitionBy(\"customer_ID\").orderBy(desc(\"S_2\"))\n",
    "data_categ_per_customer_test = data_cleaned_test[[[\"{}_imputed\".format(c) \n",
    "                                         for c in categorical_variables] + \n",
    "                                        int_col + \n",
    "                                        ['customer_ID', 'S_2']]].withColumn(\n",
    "    \"rn\", \n",
    "    psf.row_number().over(w1_test)\n",
    ").filter(\"rn = 1\").select( \n",
    "    [\"{}_imputed\".format(c) for c in categorical_variables] + \n",
    "                                        int_col + \n",
    "                                        ['customer_ID', 'S_2']\n",
    ")\n",
    "data_categ_per_customer_test.take(1)"
   ]
  },
  {
   "cell_type": "markdown",
   "id": "6c9bfa0f",
   "metadata": {},
   "source": [
    "### Get single row per customer"
   ]
  },
  {
   "cell_type": "code",
   "execution_count": 78,
   "id": "29f8065f",
   "metadata": {},
   "outputs": [
    {
     "data": {
      "application/vnd.jupyter.widget-view+json": {
       "model_id": "d1be2accd93042a08e6b10be016335be",
       "version_major": 2,
       "version_minor": 0
      },
      "text/plain": [
       "VBox()"
      ]
     },
     "metadata": {},
     "output_type": "display_data"
    },
    {
     "data": {
      "application/vnd.jupyter.widget-view+json": {
       "model_id": "",
       "version_major": 2,
       "version_minor": 0
      },
      "text/plain": [
       "FloatProgress(value=0.0, bar_style='info', description='Progress:', layout=Layout(height='25px', width='50%'),…"
      ]
     },
     "metadata": {},
     "output_type": "display_data"
    }
   ],
   "source": [
    "data_per_cust = data_numeric_per_customer.join(data_categ_per_customer, on='customer_ID')\n",
    "data_per_cust = data_per_cust.drop('S_2')\n"
   ]
  },
  {
   "cell_type": "code",
   "execution_count": 79,
   "id": "6c64f81e",
   "metadata": {},
   "outputs": [
    {
     "data": {
      "application/vnd.jupyter.widget-view+json": {
       "model_id": "50a875ef14d445268a8ee9deef280fb1",
       "version_major": 2,
       "version_minor": 0
      },
      "text/plain": [
       "VBox()"
      ]
     },
     "metadata": {},
     "output_type": "display_data"
    },
    {
     "data": {
      "application/vnd.jupyter.widget-view+json": {
       "model_id": "",
       "version_major": 2,
       "version_minor": 0
      },
      "text/plain": [
       "FloatProgress(value=0.0, bar_style='info', description='Progress:', layout=Layout(height='25px', width='50%'),…"
      ]
     },
     "metadata": {},
     "output_type": "display_data"
    }
   ],
   "source": [
    "data_per_cust_test = data_numeric_per_customer_test.join(data_categ_per_customer_test, \n",
    "                                                         on='customer_ID')\n",
    "data_per_cust_test = data_per_cust_test.drop('S_2')"
   ]
  },
  {
   "cell_type": "code",
   "execution_count": 83,
   "id": "7cae8c7f",
   "metadata": {},
   "outputs": [
    {
     "data": {
      "application/vnd.jupyter.widget-view+json": {
       "model_id": "6e272e56009949b4b487642e2ce0019a",
       "version_major": 2,
       "version_minor": 0
      },
      "text/plain": [
       "VBox()"
      ]
     },
     "metadata": {},
     "output_type": "display_data"
    },
    {
     "data": {
      "application/vnd.jupyter.widget-view+json": {
       "model_id": "",
       "version_major": 2,
       "version_minor": 0
      },
      "text/plain": [
       "FloatProgress(value=0.0, bar_style='info', description='Progress:', layout=Layout(height='25px', width='50%'),…"
      ]
     },
     "metadata": {},
     "output_type": "display_data"
    },
    {
     "name": "stdout",
     "output_type": "stream",
     "text": [
      "['customer_ID', 'avg(P_2_imputed)', 'avg(D_39_imputed)', 'avg(B_1_imputed)', 'avg(B_2_imputed)', 'avg(R_1_imputed)', 'avg(S_3_imputed)', 'avg(D_41_imputed)', 'avg(B_3_imputed)', 'avg(D_43_imputed)', 'avg(D_44_imputed)', 'avg(B_4_imputed)', 'avg(D_45_imputed)', 'avg(B_5_imputed)', 'avg(R_2_imputed)', 'avg(D_46_imputed)', 'avg(D_47_imputed)', 'avg(D_48_imputed)', 'avg(B_6_imputed)', 'avg(B_8_imputed)', 'avg(D_50_imputed)', 'avg(D_51_imputed)', 'avg(R_3_imputed)', 'avg(D_52_imputed)', 'avg(P_3_imputed)', 'avg(D_53_imputed)', 'avg(S_5_imputed)', 'avg(S_6_imputed)', 'avg(D_54_imputed)', 'avg(R_4_imputed)', 'avg(B_12_imputed)', 'avg(S_8_imputed)', 'avg(D_56_imputed)', 'avg(R_5_imputed)', 'avg(S_9_imputed)', 'avg(D_59_imputed)', 'avg(D_60_imputed)', 'avg(B_15_imputed)', 'avg(S_11_imputed)', 'avg(D_62_imputed)', 'avg(D_65_imputed)', 'avg(B_17_imputed)', 'avg(B_19_imputed)', 'avg(S_12_imputed)', 'avg(R_6_imputed)', 'avg(S_13_imputed)', 'avg(B_21_imputed)', 'avg(D_69_imputed)', 'avg(B_22_imputed)', 'avg(D_70_imputed)', 'avg(D_71_imputed)', 'avg(D_72_imputed)', 'avg(S_15_imputed)', 'avg(P_4_imputed)', 'avg(B_24_imputed)', 'avg(R_7_imputed)', 'avg(D_77_imputed)', 'avg(B_26_imputed)', 'avg(D_78_imputed)', 'avg(D_79_imputed)', 'avg(R_8_imputed)', 'avg(S_16_imputed)', 'avg(D_80_imputed)', 'avg(R_10_imputed)', 'avg(R_11_imputed)', 'avg(B_27_imputed)', 'avg(D_81_imputed)', 'avg(D_82_imputed)', 'avg(S_17_imputed)', 'avg(R_12_imputed)', 'avg(R_13_imputed)', 'avg(D_83_imputed)', 'avg(R_14_imputed)', 'avg(R_15_imputed)', 'avg(D_84_imputed)', 'avg(R_16_imputed)', 'avg(S_18_imputed)', 'avg(D_86_imputed)', 'avg(R_17_imputed)', 'avg(R_18_imputed)', 'avg(S_19_imputed)', 'avg(R_19_imputed)', 'avg(B_32_imputed)', 'avg(S_20_imputed)', 'avg(R_20_imputed)', 'avg(R_21_imputed)', 'avg(B_33_imputed)', 'avg(D_89_imputed)', 'avg(R_22_imputed)', 'avg(R_23_imputed)', 'avg(D_91_imputed)', 'avg(D_92_imputed)', 'avg(D_93_imputed)', 'avg(D_94_imputed)', 'avg(R_24_imputed)', 'avg(R_25_imputed)', 'avg(D_96_imputed)', 'avg(S_22_imputed)', 'avg(S_23_imputed)', 'avg(S_25_imputed)', 'avg(S_26_imputed)', 'avg(D_102_imputed)', 'avg(D_105_imputed)', 'avg(B_36_imputed)', 'avg(R_27_imputed)', 'avg(D_109_imputed)', 'avg(D_112_imputed)', 'avg(S_27_imputed)', 'avg(D_113_imputed)', 'avg(D_115_imputed)', 'avg(D_122_imputed)', 'avg(D_123_imputed)', 'avg(D_124_imputed)', 'avg(D_125_imputed)', 'avg(D_127_imputed)', 'avg(D_128_imputed)', 'avg(D_129_imputed)', 'avg(B_41_imputed)', 'avg(D_130_imputed)', 'avg(D_131_imputed)', 'avg(D_133_imputed)', 'avg(R_28_imputed)', 'avg(D_139_imputed)', 'avg(D_140_imputed)', 'avg(D_141_imputed)', 'avg(D_143_imputed)', 'avg(D_144_imputed)', 'avg(D_145_imputed)', 'B_30_imputed', 'B_38_imputed', 'D_114_imputed', 'D_116_imputed', 'D_117_imputed', 'D_120_imputed', 'D_126_imputed', 'D_63_imputed', 'D_64_imputed', 'D_66_imputed', 'D_68_imputed', 'B_31']"
     ]
    }
   ],
   "source": [
    "data_per_cust_test.columns"
   ]
  },
  {
   "cell_type": "markdown",
   "id": "831ab976",
   "metadata": {},
   "source": [
    "### Join target labels to the dataset on customerID"
   ]
  },
  {
   "cell_type": "code",
   "execution_count": 80,
   "id": "d8ecc8e6",
   "metadata": {},
   "outputs": [
    {
     "data": {
      "application/vnd.jupyter.widget-view+json": {
       "model_id": "a78812121a2e47ac97981f52933fba02",
       "version_major": 2,
       "version_minor": 0
      },
      "text/plain": [
       "VBox()"
      ]
     },
     "metadata": {},
     "output_type": "display_data"
    },
    {
     "data": {
      "application/vnd.jupyter.widget-view+json": {
       "model_id": "",
       "version_major": 2,
       "version_minor": 0
      },
      "text/plain": [
       "FloatProgress(value=0.0, bar_style='info', description='Progress:', layout=Layout(height='25px', width='50%'),…"
      ]
     },
     "metadata": {},
     "output_type": "display_data"
    },
    {
     "name": "stdout",
     "output_type": "stream",
     "text": [
      "['customer_ID', 'avg(P_2_imputed)', 'avg(D_39_imputed)', 'avg(B_1_imputed)', 'avg(B_2_imputed)', 'avg(R_1_imputed)', 'avg(S_3_imputed)', 'avg(D_41_imputed)', 'avg(B_3_imputed)', 'avg(D_43_imputed)', 'avg(D_44_imputed)', 'avg(B_4_imputed)', 'avg(D_45_imputed)', 'avg(B_5_imputed)', 'avg(R_2_imputed)', 'avg(D_46_imputed)', 'avg(D_47_imputed)', 'avg(D_48_imputed)', 'avg(B_6_imputed)', 'avg(B_8_imputed)', 'avg(D_50_imputed)', 'avg(D_51_imputed)', 'avg(R_3_imputed)', 'avg(D_52_imputed)', 'avg(P_3_imputed)', 'avg(D_53_imputed)', 'avg(S_5_imputed)', 'avg(S_6_imputed)', 'avg(D_54_imputed)', 'avg(R_4_imputed)', 'avg(B_12_imputed)', 'avg(S_8_imputed)', 'avg(D_56_imputed)', 'avg(R_5_imputed)', 'avg(S_9_imputed)', 'avg(D_59_imputed)', 'avg(D_60_imputed)', 'avg(B_15_imputed)', 'avg(S_11_imputed)', 'avg(D_62_imputed)', 'avg(D_65_imputed)', 'avg(B_17_imputed)', 'avg(B_19_imputed)', 'avg(S_12_imputed)', 'avg(R_6_imputed)', 'avg(S_13_imputed)', 'avg(B_21_imputed)', 'avg(D_69_imputed)', 'avg(B_22_imputed)', 'avg(D_70_imputed)', 'avg(D_71_imputed)', 'avg(D_72_imputed)', 'avg(S_15_imputed)', 'avg(P_4_imputed)', 'avg(B_24_imputed)', 'avg(R_7_imputed)', 'avg(D_77_imputed)', 'avg(B_26_imputed)', 'avg(D_78_imputed)', 'avg(D_79_imputed)', 'avg(R_8_imputed)', 'avg(S_16_imputed)', 'avg(D_80_imputed)', 'avg(R_10_imputed)', 'avg(R_11_imputed)', 'avg(B_27_imputed)', 'avg(D_81_imputed)', 'avg(D_82_imputed)', 'avg(S_17_imputed)', 'avg(R_12_imputed)', 'avg(R_13_imputed)', 'avg(D_83_imputed)', 'avg(R_14_imputed)', 'avg(R_15_imputed)', 'avg(D_84_imputed)', 'avg(R_16_imputed)', 'avg(S_18_imputed)', 'avg(D_86_imputed)', 'avg(R_17_imputed)', 'avg(R_18_imputed)', 'avg(S_19_imputed)', 'avg(R_19_imputed)', 'avg(B_32_imputed)', 'avg(S_20_imputed)', 'avg(R_20_imputed)', 'avg(R_21_imputed)', 'avg(B_33_imputed)', 'avg(D_89_imputed)', 'avg(R_22_imputed)', 'avg(R_23_imputed)', 'avg(D_91_imputed)', 'avg(D_92_imputed)', 'avg(D_93_imputed)', 'avg(D_94_imputed)', 'avg(R_24_imputed)', 'avg(R_25_imputed)', 'avg(D_96_imputed)', 'avg(S_22_imputed)', 'avg(S_23_imputed)', 'avg(S_25_imputed)', 'avg(S_26_imputed)', 'avg(D_102_imputed)', 'avg(D_105_imputed)', 'avg(B_36_imputed)', 'avg(R_27_imputed)', 'avg(D_109_imputed)', 'avg(D_112_imputed)', 'avg(S_27_imputed)', 'avg(D_113_imputed)', 'avg(D_115_imputed)', 'avg(D_122_imputed)', 'avg(D_123_imputed)', 'avg(D_124_imputed)', 'avg(D_125_imputed)', 'avg(D_127_imputed)', 'avg(D_128_imputed)', 'avg(D_129_imputed)', 'avg(B_41_imputed)', 'avg(D_130_imputed)', 'avg(D_131_imputed)', 'avg(D_133_imputed)', 'avg(R_28_imputed)', 'avg(D_139_imputed)', 'avg(D_140_imputed)', 'avg(D_141_imputed)', 'avg(D_143_imputed)', 'avg(D_144_imputed)', 'avg(D_145_imputed)', 'B_30_imputed', 'B_38_imputed', 'D_114_imputed', 'D_116_imputed', 'D_117_imputed', 'D_120_imputed', 'D_126_imputed', 'D_63_imputed', 'D_64_imputed', 'D_66_imputed', 'D_68_imputed', 'B_31', 'target']"
     ]
    }
   ],
   "source": [
    "data_for_model = data_per_cust.join(train_labels, on='customer_ID')\n",
    "# data_for_model = data_for_model.drop('S_2')\n",
    "data_for_model.columns"
   ]
  },
  {
   "cell_type": "markdown",
   "id": "83d6db2d",
   "metadata": {},
   "source": [
    "### Get a list of all input column names to apply pipeline --> remove target"
   ]
  },
  {
   "cell_type": "code",
   "execution_count": 81,
   "id": "2825c55c",
   "metadata": {},
   "outputs": [
    {
     "data": {
      "application/vnd.jupyter.widget-view+json": {
       "model_id": "f170f30fdcda4db6acfaf506404ad297",
       "version_major": 2,
       "version_minor": 0
      },
      "text/plain": [
       "VBox()"
      ]
     },
     "metadata": {},
     "output_type": "display_data"
    },
    {
     "data": {
      "application/vnd.jupyter.widget-view+json": {
       "model_id": "",
       "version_major": 2,
       "version_minor": 0
      },
      "text/plain": [
       "FloatProgress(value=0.0, bar_style='info', description='Progress:', layout=Layout(height='25px', width='50%'),…"
      ]
     },
     "metadata": {},
     "output_type": "display_data"
    },
    {
     "name": "stdout",
     "output_type": "stream",
     "text": [
      "['customer_ID', 'avg(P_2_imputed)', 'avg(D_39_imputed)', 'avg(B_1_imputed)', 'avg(B_2_imputed)', 'avg(R_1_imputed)', 'avg(S_3_imputed)', 'avg(D_41_imputed)', 'avg(B_3_imputed)', 'avg(D_43_imputed)', 'avg(D_44_imputed)', 'avg(B_4_imputed)', 'avg(D_45_imputed)', 'avg(B_5_imputed)', 'avg(R_2_imputed)', 'avg(D_46_imputed)', 'avg(D_47_imputed)', 'avg(D_48_imputed)', 'avg(B_6_imputed)', 'avg(B_8_imputed)', 'avg(D_50_imputed)', 'avg(D_51_imputed)', 'avg(R_3_imputed)', 'avg(D_52_imputed)', 'avg(P_3_imputed)', 'avg(D_53_imputed)', 'avg(S_5_imputed)', 'avg(S_6_imputed)', 'avg(D_54_imputed)', 'avg(R_4_imputed)', 'avg(B_12_imputed)', 'avg(S_8_imputed)', 'avg(D_56_imputed)', 'avg(R_5_imputed)', 'avg(S_9_imputed)', 'avg(D_59_imputed)', 'avg(D_60_imputed)', 'avg(B_15_imputed)', 'avg(S_11_imputed)', 'avg(D_62_imputed)', 'avg(D_65_imputed)', 'avg(B_17_imputed)', 'avg(B_19_imputed)', 'avg(S_12_imputed)', 'avg(R_6_imputed)', 'avg(S_13_imputed)', 'avg(B_21_imputed)', 'avg(D_69_imputed)', 'avg(B_22_imputed)', 'avg(D_70_imputed)', 'avg(D_71_imputed)', 'avg(D_72_imputed)', 'avg(S_15_imputed)', 'avg(P_4_imputed)', 'avg(B_24_imputed)', 'avg(R_7_imputed)', 'avg(D_77_imputed)', 'avg(B_26_imputed)', 'avg(D_78_imputed)', 'avg(D_79_imputed)', 'avg(R_8_imputed)', 'avg(S_16_imputed)', 'avg(D_80_imputed)', 'avg(R_10_imputed)', 'avg(R_11_imputed)', 'avg(B_27_imputed)', 'avg(D_81_imputed)', 'avg(D_82_imputed)', 'avg(S_17_imputed)', 'avg(R_12_imputed)', 'avg(R_13_imputed)', 'avg(D_83_imputed)', 'avg(R_14_imputed)', 'avg(R_15_imputed)', 'avg(D_84_imputed)', 'avg(R_16_imputed)', 'avg(S_18_imputed)', 'avg(D_86_imputed)', 'avg(R_17_imputed)', 'avg(R_18_imputed)', 'avg(S_19_imputed)', 'avg(R_19_imputed)', 'avg(B_32_imputed)', 'avg(S_20_imputed)', 'avg(R_20_imputed)', 'avg(R_21_imputed)', 'avg(B_33_imputed)', 'avg(D_89_imputed)', 'avg(R_22_imputed)', 'avg(R_23_imputed)', 'avg(D_91_imputed)', 'avg(D_92_imputed)', 'avg(D_93_imputed)', 'avg(D_94_imputed)', 'avg(R_24_imputed)', 'avg(R_25_imputed)', 'avg(D_96_imputed)', 'avg(S_22_imputed)', 'avg(S_23_imputed)', 'avg(S_25_imputed)', 'avg(S_26_imputed)', 'avg(D_102_imputed)', 'avg(D_105_imputed)', 'avg(B_36_imputed)', 'avg(R_27_imputed)', 'avg(D_109_imputed)', 'avg(D_112_imputed)', 'avg(S_27_imputed)', 'avg(D_113_imputed)', 'avg(D_115_imputed)', 'avg(D_122_imputed)', 'avg(D_123_imputed)', 'avg(D_124_imputed)', 'avg(D_125_imputed)', 'avg(D_127_imputed)', 'avg(D_128_imputed)', 'avg(D_129_imputed)', 'avg(B_41_imputed)', 'avg(D_130_imputed)', 'avg(D_131_imputed)', 'avg(D_133_imputed)', 'avg(R_28_imputed)', 'avg(D_139_imputed)', 'avg(D_140_imputed)', 'avg(D_141_imputed)', 'avg(D_143_imputed)', 'avg(D_144_imputed)', 'avg(D_145_imputed)', 'B_30_imputed', 'B_38_imputed', 'D_114_imputed', 'D_116_imputed', 'D_117_imputed', 'D_120_imputed', 'D_126_imputed', 'D_63_imputed', 'D_64_imputed', 'D_66_imputed', 'D_68_imputed', 'B_31']"
     ]
    }
   ],
   "source": [
    "# Get all input column names to apply pipeline --> remove target\n",
    "input_cols = data_per_cust.columns\n",
    "input_cols"
   ]
  },
  {
   "cell_type": "code",
   "execution_count": 82,
   "id": "bfcdfb91",
   "metadata": {},
   "outputs": [
    {
     "data": {
      "application/vnd.jupyter.widget-view+json": {
       "model_id": "b42f686f72404fb48f0c946c48350bea",
       "version_major": 2,
       "version_minor": 0
      },
      "text/plain": [
       "VBox()"
      ]
     },
     "metadata": {},
     "output_type": "display_data"
    },
    {
     "data": {
      "application/vnd.jupyter.widget-view+json": {
       "model_id": "",
       "version_major": 2,
       "version_minor": 0
      },
      "text/plain": [
       "FloatProgress(value=0.0, bar_style='info', description='Progress:', layout=Layout(height='25px', width='50%'),…"
      ]
     },
     "metadata": {},
     "output_type": "display_data"
    },
    {
     "name": "stdout",
     "output_type": "stream",
     "text": [
      "['avg(P_2_imputed)', 'avg(D_39_imputed)', 'avg(B_1_imputed)', 'avg(B_2_imputed)', 'avg(R_1_imputed)', 'avg(S_3_imputed)', 'avg(D_41_imputed)', 'avg(B_3_imputed)', 'avg(D_43_imputed)', 'avg(D_44_imputed)', 'avg(B_4_imputed)', 'avg(D_45_imputed)', 'avg(B_5_imputed)', 'avg(R_2_imputed)', 'avg(D_46_imputed)', 'avg(D_47_imputed)', 'avg(D_48_imputed)', 'avg(B_6_imputed)', 'avg(B_8_imputed)', 'avg(D_50_imputed)', 'avg(D_51_imputed)', 'avg(R_3_imputed)', 'avg(D_52_imputed)', 'avg(P_3_imputed)', 'avg(D_53_imputed)', 'avg(S_5_imputed)', 'avg(S_6_imputed)', 'avg(D_54_imputed)', 'avg(R_4_imputed)', 'avg(B_12_imputed)', 'avg(S_8_imputed)', 'avg(D_56_imputed)', 'avg(R_5_imputed)', 'avg(S_9_imputed)', 'avg(D_59_imputed)', 'avg(D_60_imputed)', 'avg(B_15_imputed)', 'avg(S_11_imputed)', 'avg(D_62_imputed)', 'avg(D_65_imputed)', 'avg(B_17_imputed)', 'avg(B_19_imputed)', 'avg(S_12_imputed)', 'avg(R_6_imputed)', 'avg(S_13_imputed)', 'avg(B_21_imputed)', 'avg(D_69_imputed)', 'avg(B_22_imputed)', 'avg(D_70_imputed)', 'avg(D_71_imputed)', 'avg(D_72_imputed)', 'avg(S_15_imputed)', 'avg(P_4_imputed)', 'avg(B_24_imputed)', 'avg(R_7_imputed)', 'avg(D_77_imputed)', 'avg(B_26_imputed)', 'avg(D_78_imputed)', 'avg(D_79_imputed)', 'avg(R_8_imputed)', 'avg(S_16_imputed)', 'avg(D_80_imputed)', 'avg(R_10_imputed)', 'avg(R_11_imputed)', 'avg(B_27_imputed)', 'avg(D_81_imputed)', 'avg(D_82_imputed)', 'avg(S_17_imputed)', 'avg(R_12_imputed)', 'avg(R_13_imputed)', 'avg(D_83_imputed)', 'avg(R_14_imputed)', 'avg(R_15_imputed)', 'avg(D_84_imputed)', 'avg(R_16_imputed)', 'avg(S_18_imputed)', 'avg(D_86_imputed)', 'avg(R_17_imputed)', 'avg(R_18_imputed)', 'avg(S_19_imputed)', 'avg(R_19_imputed)', 'avg(B_32_imputed)', 'avg(S_20_imputed)', 'avg(R_20_imputed)', 'avg(R_21_imputed)', 'avg(B_33_imputed)', 'avg(D_89_imputed)', 'avg(R_22_imputed)', 'avg(R_23_imputed)', 'avg(D_91_imputed)', 'avg(D_92_imputed)', 'avg(D_93_imputed)', 'avg(D_94_imputed)', 'avg(R_24_imputed)', 'avg(R_25_imputed)', 'avg(D_96_imputed)', 'avg(S_22_imputed)', 'avg(S_23_imputed)', 'avg(S_25_imputed)', 'avg(S_26_imputed)', 'avg(D_102_imputed)', 'avg(D_105_imputed)', 'avg(B_36_imputed)', 'avg(R_27_imputed)', 'avg(D_109_imputed)', 'avg(D_112_imputed)', 'avg(S_27_imputed)', 'avg(D_113_imputed)', 'avg(D_115_imputed)', 'avg(D_122_imputed)', 'avg(D_123_imputed)', 'avg(D_124_imputed)', 'avg(D_125_imputed)', 'avg(D_127_imputed)', 'avg(D_128_imputed)', 'avg(D_129_imputed)', 'avg(B_41_imputed)', 'avg(D_130_imputed)', 'avg(D_131_imputed)', 'avg(D_133_imputed)', 'avg(R_28_imputed)', 'avg(D_139_imputed)', 'avg(D_140_imputed)', 'avg(D_141_imputed)', 'avg(D_143_imputed)', 'avg(D_144_imputed)', 'avg(D_145_imputed)', 'B_30_imputed', 'B_38_imputed', 'D_114_imputed', 'D_116_imputed', 'D_117_imputed', 'D_120_imputed', 'D_126_imputed', 'D_63_imputed', 'D_64_imputed', 'D_66_imputed', 'D_68_imputed', 'B_31']"
     ]
    }
   ],
   "source": [
    "input_cols.remove('customer_ID')\n",
    "input_cols"
   ]
  },
  {
   "cell_type": "markdown",
   "id": "d5c8b3f3",
   "metadata": {},
   "source": [
    "### Apply VectorAssembler, StandardScaler, PCA and Logistic Regression inside the Pipeline. Use CrossValidator for cross validation"
   ]
  },
  {
   "cell_type": "code",
   "execution_count": 84,
   "id": "525d0193",
   "metadata": {},
   "outputs": [
    {
     "data": {
      "application/vnd.jupyter.widget-view+json": {
       "model_id": "81248297322845c88bc2b7365619ff8e",
       "version_major": 2,
       "version_minor": 0
      },
      "text/plain": [
       "VBox()"
      ]
     },
     "metadata": {},
     "output_type": "display_data"
    },
    {
     "data": {
      "application/vnd.jupyter.widget-view+json": {
       "model_id": "",
       "version_major": 2,
       "version_minor": 0
      },
      "text/plain": [
       "FloatProgress(value=0.0, bar_style='info', description='Progress:', layout=Layout(height='25px', width='50%'),…"
      ]
     },
     "metadata": {},
     "output_type": "display_data"
    }
   ],
   "source": [
    "from pyspark.ml.tuning import ParamGridBuilder, TrainValidationSplit, CrossValidator\n",
    "from pyspark.ml.evaluation import BinaryClassificationEvaluator\n",
    "\n",
    "transformer = VectorAssembler(inputCols=input_cols,\n",
    "                              outputCol=\"features\")\n",
    "\n",
    "standardizer = StandardScaler(withMean=True, withStd=True,\n",
    "                              inputCol='features',\n",
    "                              outputCol='std_features')\n",
    "\n",
    "pca = PCA(k=5, inputCol=\"std_features\", outputCol=\"pca\")\n",
    "\n",
    "# default for maxIters is 100\n",
    "lr = LogisticRegression(featuresCol='pca', labelCol='target')\n",
    "\n",
    "pipeline = Pipeline(stages=[transformer, standardizer, pca, lr])\n",
    "\n",
    "paramGrid = ParamGridBuilder()\\\n",
    "    .addGrid(lr.regParam, [0.1, 0.01]) \\\n",
    "    .addGrid(lr.fitIntercept, [False, True])\\\n",
    "    .addGrid(lr.elasticNetParam, [0.0, 0.5, 1.0])\\\n",
    "    .build()\n",
    "\n",
    "# # tvs = TrainValidationSplit(estimator=lr,\n",
    "# #                            estimatorParamMaps=paramGrid,\n",
    "# #                            evaluator=RegressionEvaluator(),\n",
    "# #                            # 80% of the data will be used for training, 20% for validation.\n",
    "# #                            trainRatio=0.8)\n",
    "\n",
    "cv = CrossValidator(estimator=pipeline,\n",
    "                           estimatorParamMaps=paramGrid,\n",
    "                           evaluator=BinaryClassificationEvaluator(labelCol=\"target\"),\n",
    "                           # 80% of the data will be used for training, 20% for validation.\n",
    "                        numFolds=2\n",
    "                     #trainRatio=0.8\n",
    "                   )\n",
    "\n"
   ]
  },
  {
   "cell_type": "markdown",
   "id": "ec11912e",
   "metadata": {},
   "source": [
    "### Train-Test split"
   ]
  },
  {
   "cell_type": "code",
   "execution_count": 85,
   "id": "48ee06a6",
   "metadata": {},
   "outputs": [
    {
     "data": {
      "application/vnd.jupyter.widget-view+json": {
       "model_id": "20f8bb8ba53744339d282b5a07e78da4",
       "version_major": 2,
       "version_minor": 0
      },
      "text/plain": [
       "VBox()"
      ]
     },
     "metadata": {},
     "output_type": "display_data"
    },
    {
     "data": {
      "application/vnd.jupyter.widget-view+json": {
       "model_id": "",
       "version_major": 2,
       "version_minor": 0
      },
      "text/plain": [
       "FloatProgress(value=0.0, bar_style='info', description='Progress:', layout=Layout(height='25px', width='50%'),…"
      ]
     },
     "metadata": {},
     "output_type": "display_data"
    }
   ],
   "source": [
    "train, test = data_for_model.randomSplit([0.7, 0.3])"
   ]
  },
  {
   "cell_type": "markdown",
   "id": "643eaf2b",
   "metadata": {},
   "source": [
    "### Fit the model on train batch"
   ]
  },
  {
   "cell_type": "code",
   "execution_count": 86,
   "id": "87fcf753",
   "metadata": {},
   "outputs": [
    {
     "data": {
      "application/vnd.jupyter.widget-view+json": {
       "model_id": "c9e0dcf0fbdb4660acc5cd3fd6e59719",
       "version_major": 2,
       "version_minor": 0
      },
      "text/plain": [
       "VBox()"
      ]
     },
     "metadata": {},
     "output_type": "display_data"
    },
    {
     "data": {
      "application/vnd.jupyter.widget-view+json": {
       "model_id": "",
       "version_major": 2,
       "version_minor": 0
      },
      "text/plain": [
       "FloatProgress(value=0.0, bar_style='info', description='Progress:', layout=Layout(height='25px', width='50%'),…"
      ]
     },
     "metadata": {},
     "output_type": "display_data"
    },
    {
     "name": "stderr",
     "output_type": "stream",
     "text": [
      "Exception in thread cell_monitor-86:\n",
      "Traceback (most recent call last):\n",
      "  File \"/mnt/notebook-env/lib/python3.7/threading.py\", line 926, in _bootstrap_inner\n",
      "    self.run()\n",
      "  File \"/mnt/notebook-env/lib/python3.7/threading.py\", line 870, in run\n",
      "    self._target(*self._args, **self._kwargs)\n",
      "  File \"/mnt/notebook-env/lib/python3.7/site-packages/awseditorssparkmonitoringwidget-1.0-py3.7.egg/awseditorssparkmonitoringwidget/cellmonitor.py\", line 178, in cell_monitor\n",
      "    job_binned_stages[job_id][stage_id] = all_stages[stage_id]\n",
      "KeyError: 2291\n",
      "\n"
     ]
    }
   ],
   "source": [
    "model = cv.fit(train)"
   ]
  },
  {
   "cell_type": "markdown",
   "id": "ee817221",
   "metadata": {},
   "source": [
    "https://stackoverflow.com/questions/58910023/keyerror-when-training-a-model-with-pyspark-ml-on-aws-emr-with-data-from-s3-buck\n",
    " The above error : \"Exception in thread cell_monitor-65: KeyError: 1995\"\n",
    " kept appearing every time I tried Crossvalidator or TrainValidationSplit. When they were removed, Pipeline.fit worked without errors. After multiple tries and lot of research, I found that the model still runs and produces the result.\n",
    "In the above StackOverFlow discussion, it was mentioned that this error is related to the display of the progress bar and not the model itself. The model does seem to run fine and the cross validation has improved the accuracy from 0.85 to 0.87"
   ]
  },
  {
   "cell_type": "code",
   "execution_count": 87,
   "id": "7d81b329",
   "metadata": {},
   "outputs": [
    {
     "data": {
      "application/vnd.jupyter.widget-view+json": {
       "model_id": "9249be0855ff469cacd4eb6a2a200eaf",
       "version_major": 2,
       "version_minor": 0
      },
      "text/plain": [
       "VBox()"
      ]
     },
     "metadata": {},
     "output_type": "display_data"
    },
    {
     "data": {
      "application/vnd.jupyter.widget-view+json": {
       "model_id": "",
       "version_major": 2,
       "version_minor": 0
      },
      "text/plain": [
       "FloatProgress(value=0.0, bar_style='info', description='Progress:', layout=Layout(height='25px', width='50%'),…"
      ]
     },
     "metadata": {},
     "output_type": "display_data"
    }
   ],
   "source": [
    "# model = pipeline.fit(train)"
   ]
  },
  {
   "cell_type": "markdown",
   "id": "904f0e42",
   "metadata": {},
   "source": [
    "### Make predictions on the test batch"
   ]
  },
  {
   "cell_type": "code",
   "execution_count": 92,
   "id": "e368bd26",
   "metadata": {},
   "outputs": [
    {
     "data": {
      "application/vnd.jupyter.widget-view+json": {
       "model_id": "e7556623217748a0a6d105f9ee1e2f34",
       "version_major": 2,
       "version_minor": 0
      },
      "text/plain": [
       "VBox()"
      ]
     },
     "metadata": {},
     "output_type": "display_data"
    },
    {
     "data": {
      "application/vnd.jupyter.widget-view+json": {
       "model_id": "",
       "version_major": 2,
       "version_minor": 0
      },
      "text/plain": [
       "FloatProgress(value=0.0, bar_style='info', description='Progress:', layout=Layout(height='25px', width='50%'),…"
      ]
     },
     "metadata": {},
     "output_type": "display_data"
    },
    {
     "name": "stdout",
     "output_type": "stream",
     "text": [
      "+------+----------+\n",
      "|target|prediction|\n",
      "+------+----------+\n",
      "|     0|       0.0|\n",
      "|     0|       0.0|\n",
      "|     1|       1.0|\n",
      "|     0|       0.0|\n",
      "|     0|       0.0|\n",
      "|     0|       0.0|\n",
      "|     0|       0.0|\n",
      "|     1|       1.0|\n",
      "|     0|       0.0|\n",
      "|     1|       0.0|\n",
      "+------+----------+\n",
      "only showing top 10 rows"
     ]
    }
   ],
   "source": [
    "prediction = model.transform(test)\n",
    "score = prediction.select(['target', 'prediction'])\n",
    "score.show(n=10)"
   ]
  },
  {
   "cell_type": "markdown",
   "id": "948ebd7e",
   "metadata": {},
   "source": [
    "### Calculate Accuracy and AUC metrics"
   ]
  },
  {
   "cell_type": "code",
   "execution_count": 89,
   "id": "05674397",
   "metadata": {},
   "outputs": [
    {
     "data": {
      "application/vnd.jupyter.widget-view+json": {
       "model_id": "24d5c115980a4136adec89afcacfc538",
       "version_major": 2,
       "version_minor": 0
      },
      "text/plain": [
       "VBox()"
      ]
     },
     "metadata": {},
     "output_type": "display_data"
    },
    {
     "data": {
      "application/vnd.jupyter.widget-view+json": {
       "model_id": "",
       "version_major": 2,
       "version_minor": 0
      },
      "text/plain": [
       "FloatProgress(value=0.0, bar_style='info', description='Progress:', layout=Layout(height='25px', width='50%'),…"
      ]
     },
     "metadata": {},
     "output_type": "display_data"
    },
    {
     "name": "stdout",
     "output_type": "stream",
     "text": [
      "0.8713367311479208"
     ]
    }
   ],
   "source": [
    "acc = score.rdd.map(lambda x: x[0] == x[1]).sum() / score.count()\n",
    "acc"
   ]
  },
  {
   "cell_type": "code",
   "execution_count": 97,
   "id": "6d5ea55e",
   "metadata": {},
   "outputs": [
    {
     "data": {
      "application/vnd.jupyter.widget-view+json": {
       "model_id": "96b789a7428c4bc0b0ee1672e31d8765",
       "version_major": 2,
       "version_minor": 0
      },
      "text/plain": [
       "VBox()"
      ]
     },
     "metadata": {},
     "output_type": "display_data"
    },
    {
     "data": {
      "application/vnd.jupyter.widget-view+json": {
       "model_id": "",
       "version_major": 2,
       "version_minor": 0
      },
      "text/plain": [
       "FloatProgress(value=0.0, bar_style='info', description='Progress:', layout=Layout(height='25px', width='50%'),…"
      ]
     },
     "metadata": {},
     "output_type": "display_data"
    },
    {
     "name": "stdout",
     "output_type": "stream",
     "text": [
      "0.8091731324914267"
     ]
    }
   ],
   "source": [
    "BinaryClassificationEvaluator(rawPredictionCol='prediction', labelCol='target').evaluate(prediction)\n"
   ]
  },
  {
   "cell_type": "markdown",
   "id": "ed8f901a",
   "metadata": {},
   "source": [
    "Since we did not set the BinaryClassificationEvaluatorMetricType in the above cell, the default value is AUC.\n",
    "Hence, the metric that was calculated was :\n",
    "- AUC = 0.8091"
   ]
  },
  {
   "cell_type": "code",
   "execution_count": 98,
   "id": "66bb0376",
   "metadata": {},
   "outputs": [
    {
     "data": {
      "application/vnd.jupyter.widget-view+json": {
       "model_id": "ec1214f2862c481cbda17438c52505c9",
       "version_major": 2,
       "version_minor": 0
      },
      "text/plain": [
       "VBox()"
      ]
     },
     "metadata": {},
     "output_type": "display_data"
    },
    {
     "data": {
      "application/vnd.jupyter.widget-view+json": {
       "model_id": "",
       "version_major": 2,
       "version_minor": 0
      },
      "text/plain": [
       "FloatProgress(value=0.0, bar_style='info', description='Progress:', layout=Layout(height='25px', width='50%'),…"
      ]
     },
     "metadata": {},
     "output_type": "display_data"
    }
   ],
   "source": [
    "# from pyspark.mllib.evaluation import BinaryClassificationMetrics\n",
    "\n",
    "# metrics = BinaryClassificationMetrics(score)\n",
    "# auc = metrics.areaUnderROC\n",
    "# apr = metrics.areaUnderPR\n",
    "# auc, apr"
   ]
  },
  {
   "cell_type": "markdown",
   "id": "864740f1",
   "metadata": {},
   "source": [
    "### Time to run the model on the given test data"
   ]
  },
  {
   "cell_type": "code",
   "execution_count": 91,
   "id": "d4ce7b35",
   "metadata": {},
   "outputs": [
    {
     "data": {
      "application/vnd.jupyter.widget-view+json": {
       "model_id": "b0f5ca2b793e42bdb0a1040900f29229",
       "version_major": 2,
       "version_minor": 0
      },
      "text/plain": [
       "VBox()"
      ]
     },
     "metadata": {},
     "output_type": "display_data"
    },
    {
     "data": {
      "application/vnd.jupyter.widget-view+json": {
       "model_id": "",
       "version_major": 2,
       "version_minor": 0
      },
      "text/plain": [
       "FloatProgress(value=0.0, bar_style='info', description='Progress:', layout=Layout(height='25px', width='50%'),…"
      ]
     },
     "metadata": {},
     "output_type": "display_data"
    },
    {
     "name": "stdout",
     "output_type": "stream",
     "text": [
      "+----------+\n",
      "|prediction|\n",
      "+----------+\n",
      "|       0.0|\n",
      "|       1.0|\n",
      "|       0.0|\n",
      "|       0.0|\n",
      "|       0.0|\n",
      "|       0.0|\n",
      "|       0.0|\n",
      "|       0.0|\n",
      "|       0.0|\n",
      "|       1.0|\n",
      "+----------+\n",
      "only showing top 10 rows"
     ]
    }
   ],
   "source": [
    "test_prediction = model.transform(data_per_cust_test)\n",
    "test_prediction.select(['prediction']).show(n=10)"
   ]
  },
  {
   "cell_type": "markdown",
   "id": "f782dbd8",
   "metadata": {},
   "source": [
    "The test predictions were made to create the prediction file to upload to kaggle for the Amex_pred challenge."
   ]
  },
  {
   "cell_type": "code",
   "execution_count": null,
   "id": "a48755b8",
   "metadata": {},
   "outputs": [],
   "source": []
  }
 ],
 "metadata": {
  "kernelspec": {
   "display_name": "PySpark",
   "language": "python",
   "name": "pysparkkernel"
  },
  "language_info": {
   "codemirror_mode": {
    "name": "python",
    "version": 3
   },
   "file_extension": ".py",
   "mimetype": "text/x-python",
   "name": "pyspark",
   "pygments_lexer": "python3"
  }
 },
 "nbformat": 4,
 "nbformat_minor": 5
}
